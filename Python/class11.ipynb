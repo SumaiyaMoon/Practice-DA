{
 "cells": [
  {
   "cell_type": "code",
   "execution_count": 1,
   "id": "7249c9a5-f671-4b5a-8212-d20f202989b7",
   "metadata": {},
   "outputs": [],
   "source": [
    "#Nested for Loops\n",
    "#fStrings\n",
    "#List Comprehension"
   ]
  },
  {
   "cell_type": "code",
   "execution_count": null,
   "id": "cb92de2e-72f5-43e0-95f2-f2f6f66a4066",
   "metadata": {},
   "outputs": [],
   "source": []
  }
 ],
 "metadata": {
  "kernelspec": {
   "display_name": "Python [conda env:base] *",
   "language": "python",
   "name": "conda-base-py"
  },
  "language_info": {
   "codemirror_mode": {
    "name": "ipython",
    "version": 3
   },
   "file_extension": ".py",
   "mimetype": "text/x-python",
   "name": "python",
   "nbconvert_exporter": "python",
   "pygments_lexer": "ipython3",
   "version": "3.12.7"
  }
 },
 "nbformat": 4,
 "nbformat_minor": 5
}
