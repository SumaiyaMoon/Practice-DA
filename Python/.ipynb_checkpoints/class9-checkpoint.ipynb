{
 "cells": [
  {
   "cell_type": "markdown",
   "id": "e0591384-2f46-462b-b7da-ee2cef4a9943",
   "metadata": {},
   "source": [
    "## DICTIONARY {Key: value} - DATA TYPE"
   ]
  },
  {
   "cell_type": "code",
   "execution_count": 270,
   "id": "ef3e306b-d5e8-421b-97fa-77af1fea2a2a",
   "metadata": {},
   "outputs": [
    {
     "data": {
      "text/plain": [
       "{'name': 'Khan', 'age': 22, 'student': True}"
      ]
     },
     "execution_count": 270,
     "metadata": {},
     "output_type": "execute_result"
    }
   ],
   "source": [
    "#mutable\n",
    "#indexed by keys\n",
    "#no duplicates\n",
    "#ordered with keys\n",
    "\n",
    "my_dict = {\n",
    "    'name': 'Khan',\n",
    "    'age': 22,\n",
    "    'student': True\n",
    "}\n",
    "my_dict"
   ]
  },
  {
   "cell_type": "markdown",
   "id": "f7dcccfe-d1f9-4953-a0b7-85f26e60075b",
   "metadata": {},
   "source": [
    "### detecting syntax errors"
   ]
  },
  {
   "cell_type": "code",
   "execution_count": 272,
   "id": "5310afb3-906a-4445-a86c-dc71c034c176",
   "metadata": {},
   "outputs": [
    {
     "ename": "SyntaxError",
     "evalue": "invalid syntax (1128343773.py, line 3)",
     "output_type": "error",
     "traceback": [
      "\u001b[1;36m  Cell \u001b[1;32mIn[272], line 3\u001b[1;36m\u001b[0m\n\u001b[1;33m    'age': 22,\u001b[0m\n\u001b[1;37m         ^\u001b[0m\n\u001b[1;31mSyntaxError\u001b[0m\u001b[1;31m:\u001b[0m invalid syntax\n"
     ]
    }
   ],
   "source": [
    "my_dict = {\n",
    "    'name': 'Khan'\n",
    "    'age': 22,\n",
    "    'student': True\n",
    "}\n",
    "my_dict"
   ]
  },
  {
   "cell_type": "code",
   "execution_count": 274,
   "id": "a994a0b6-b981-4232-a0ca-143c6e11a026",
   "metadata": {},
   "outputs": [
    {
     "data": {
      "text/plain": [
       "{'name': 'Khan', 'age': 22, 'student': True}"
      ]
     },
     "execution_count": 274,
     "metadata": {},
     "output_type": "execute_result"
    }
   ],
   "source": [
    "my_dict = {\n",
    "    'name': 'Khan',\n",
    "    'age': 22,\n",
    "    'student': True, #last comma isn't affecting\n",
    "}\n",
    "my_dict"
   ]
  },
  {
   "cell_type": "code",
   "execution_count": 278,
   "id": "588abe1a-6561-4735-b4cb-31d0ae8cefbd",
   "metadata": {},
   "outputs": [
    {
     "ename": "SyntaxError",
     "evalue": "cannot assign to literal here. Maybe you meant '==' instead of '='? (768266588.py, line 2)",
     "output_type": "error",
     "traceback": [
      "\u001b[1;36m  Cell \u001b[1;32mIn[278], line 2\u001b[1;36m\u001b[0m\n\u001b[1;33m    'name' = 'Khan',\u001b[0m\n\u001b[1;37m    ^\u001b[0m\n\u001b[1;31mSyntaxError\u001b[0m\u001b[1;31m:\u001b[0m cannot assign to literal here. Maybe you meant '==' instead of '='?\n"
     ]
    }
   ],
   "source": [
    "my_dict = {\n",
    "    'name' = 'Khan',\n",
    "    'age': 22,\n",
    "    'student': True\n",
    "}\n",
    "my_dict"
   ]
  },
  {
   "cell_type": "code",
   "execution_count": 276,
   "id": "29b3296e-6f5a-461b-853d-7e9e2c49613f",
   "metadata": {},
   "outputs": [
    {
     "data": {
      "text/plain": [
       "{'my name': 'Khan', 'age': 22, 'student': True}"
      ]
     },
     "execution_count": 276,
     "metadata": {},
     "output_type": "execute_result"
    }
   ],
   "source": [
    "my_dict = {\n",
    "    name : 'Khan',\n",
    "    'age': 22,\n",
    "    'student': True\n",
    "}\n",
    "my_dict"
   ]
  },
  {
   "cell_type": "code",
   "execution_count": 280,
   "id": "36d474ca-60f2-40fa-a102-f85f55c4f12f",
   "metadata": {},
   "outputs": [
    {
     "data": {
      "text/plain": [
       "{'my name': 'Khan', 'age': 22, 'student': True}"
      ]
     },
     "execution_count": 280,
     "metadata": {},
     "output_type": "execute_result"
    }
   ],
   "source": [
    "name = 'my name'\n",
    "my_dict = {\n",
    "    name: 'Khan',\n",
    "    'age': 22,\n",
    "    'student': True\n",
    "}\n",
    "my_dict"
   ]
  },
  {
   "cell_type": "code",
   "execution_count": 282,
   "id": "5de1ec15-cc20-495c-a5c7-7fa1bccfa129",
   "metadata": {},
   "outputs": [
    {
     "data": {
      "text/plain": [
       "22"
      ]
     },
     "execution_count": 282,
     "metadata": {},
     "output_type": "execute_result"
    }
   ],
   "source": [
    "my_dict['age']"
   ]
  },
  {
   "cell_type": "code",
   "execution_count": 284,
   "id": "fa19a15b-4ce7-49a7-bd8c-b3be53fd9412",
   "metadata": {},
   "outputs": [
    {
     "data": {
      "text/plain": [
       "'Khan'"
      ]
     },
     "execution_count": 284,
     "metadata": {},
     "output_type": "execute_result"
    }
   ],
   "source": [
    "my_dict[name] #ref: name: 'Khan' => {'my name': 'Khan'}"
   ]
  },
  {
   "cell_type": "code",
   "execution_count": 286,
   "id": "af41dcd1-ac37-4ec0-a359-46ee93fe89ae",
   "metadata": {},
   "outputs": [
    {
     "data": {
      "text/plain": [
       "{'name': 'my name', 'age': 22, 'student': True}"
      ]
     },
     "execution_count": 286,
     "metadata": {},
     "output_type": "execute_result"
    }
   ],
   "source": [
    "name = 'my name'\n",
    "my_dict = {\n",
    "    'name': name,\n",
    "    'age': 22,\n",
    "    'student': True\n",
    "}\n",
    "my_dict"
   ]
  },
  {
   "cell_type": "code",
   "execution_count": 288,
   "id": "a706766a-af07-46ae-a6b8-4342c06df0bc",
   "metadata": {},
   "outputs": [
    {
     "ename": "KeyError",
     "evalue": "'my name'",
     "output_type": "error",
     "traceback": [
      "\u001b[1;31m---------------------------------------------------------------------------\u001b[0m",
      "\u001b[1;31mKeyError\u001b[0m                                  Traceback (most recent call last)",
      "Cell \u001b[1;32mIn[288], line 1\u001b[0m\n\u001b[1;32m----> 1\u001b[0m my_dict[name]\n",
      "\u001b[1;31mKeyError\u001b[0m: 'my name'"
     ]
    }
   ],
   "source": [
    "my_dict[name] #ref: 'name': name"
   ]
  },
  {
   "cell_type": "code",
   "execution_count": 290,
   "id": "c7c12cc4-b66c-4a4f-a5c4-e941ba51e093",
   "metadata": {},
   "outputs": [
    {
     "data": {
      "text/plain": [
       "'my name'"
      ]
     },
     "execution_count": 290,
     "metadata": {},
     "output_type": "execute_result"
    }
   ],
   "source": [
    "my_dict['name'] #ref: 'name': name"
   ]
  },
  {
   "cell_type": "code",
   "execution_count": 292,
   "id": "3b04cebf-8e60-4f30-afa3-cf1751a50ae2",
   "metadata": {},
   "outputs": [
    {
     "data": {
      "text/plain": [
       "{1: 'khan', 2: 22, 3: True}"
      ]
     },
     "execution_count": 292,
     "metadata": {},
     "output_type": "execute_result"
    }
   ],
   "source": [
    "my_dict1= {\n",
    "    1: 'khan',\n",
    "    2: 22,\n",
    "    3: True,\n",
    "}\n",
    "my_dict1"
   ]
  },
  {
   "cell_type": "code",
   "execution_count": 294,
   "id": "7a9ac899-7914-418f-850b-c78b81052ccd",
   "metadata": {},
   "outputs": [
    {
     "data": {
      "text/plain": [
       "{'name': ['ali', 'khan', 'ahmed'], 'age': 22, 'student': True}"
      ]
     },
     "execution_count": 294,
     "metadata": {},
     "output_type": "execute_result"
    }
   ],
   "source": [
    "my_dict2 = {\n",
    "    'name': ['ali', 'khan', 'ahmed'],\n",
    "    'age': 22,\n",
    "    'student': True,\n",
    "}\n",
    "my_dict2"
   ]
  },
  {
   "cell_type": "code",
   "execution_count": 296,
   "id": "29f1f1c5-d28b-4839-a789-de330fdfdc01",
   "metadata": {},
   "outputs": [
    {
     "data": {
      "text/plain": [
       "{1: 'khan', 5: 22, 3: True}"
      ]
     },
     "execution_count": 296,
     "metadata": {},
     "output_type": "execute_result"
    }
   ],
   "source": [
    "#ordered\n",
    "\n",
    "my_dict1= {\n",
    "    1: 'khan',\n",
    "    5: 22,\n",
    "    3: True,\n",
    "}\n",
    "my_dict1"
   ]
  },
  {
   "cell_type": "code",
   "execution_count": 298,
   "id": "02f43acb-79e9-4c4d-93fd-7a771e6132bf",
   "metadata": {},
   "outputs": [
    {
     "data": {
      "text/plain": [
       "True"
      ]
     },
     "execution_count": 298,
     "metadata": {},
     "output_type": "execute_result"
    }
   ],
   "source": [
    "my_dict4 = {\n",
    "    'name': ['ali', 'khan', 'ahmed'],\n",
    "    'age': 22,\n",
    "    'student': True,\n",
    "}\n",
    "my_dict4['student']"
   ]
  },
  {
   "cell_type": "code",
   "execution_count": 300,
   "id": "64ad5e5b-3ff8-4ff1-89fb-080502f3744a",
   "metadata": {},
   "outputs": [
    {
     "data": {
      "text/plain": [
       "{'name': ['ali', 'khan', 'ahmed'], 'age': 11, 'student': False}"
      ]
     },
     "execution_count": 300,
     "metadata": {},
     "output_type": "execute_result"
    }
   ],
   "source": [
    "#no duplicates => overwrite krjaega\n",
    "my_dict5 = {\n",
    "    'name': ['ali', 'khan', 'ahmed'],\n",
    "    'age': 22,\n",
    "    'student': True,\n",
    "    'age': 11,\n",
    "    'student': False,\n",
    "}\n",
    "my_dict5"
   ]
  },
  {
   "cell_type": "code",
   "execution_count": 302,
   "id": "4d18439c-9e30-4473-bad0-c65c588b7f39",
   "metadata": {},
   "outputs": [
    {
     "data": {
      "text/plain": [
       "'khan'"
      ]
     },
     "execution_count": 302,
     "metadata": {},
     "output_type": "execute_result"
    }
   ],
   "source": [
    "#mutable\n",
    "my_dict77 ={\n",
    "    'name': 'khan',\n",
    "    'age': 24,\n",
    "    'student': True,\n",
    "    'tuple':(1,2,3),\n",
    "    'list': ['a','b','c'],\n",
    "    'set':{1,2,3}\n",
    "}\n",
    "my_dict77['name']"
   ]
  },
  {
   "cell_type": "code",
   "execution_count": 304,
   "id": "88fcfcc8-11d3-4470-a97f-56722b3f792b",
   "metadata": {},
   "outputs": [
    {
     "data": {
      "text/plain": [
       "{'name': 'khan',\n",
       " 'age': 33,\n",
       " 'student': True,\n",
       " 'tuple': (1, 2, 3),\n",
       " 'list': ['a', 'b', 'c'],\n",
       " 'set': {1, 2, 3}}"
      ]
     },
     "execution_count": 304,
     "metadata": {},
     "output_type": "execute_result"
    }
   ],
   "source": [
    "my_dict77['age']=33\n",
    "my_dict77"
   ]
  },
  {
   "cell_type": "code",
   "execution_count": 306,
   "id": "24a4e5da-8850-4eec-81c8-b7bf92f73785",
   "metadata": {},
   "outputs": [
    {
     "ename": "KeyError",
     "evalue": "'grade'",
     "output_type": "error",
     "traceback": [
      "\u001b[1;31m---------------------------------------------------------------------------\u001b[0m",
      "\u001b[1;31mKeyError\u001b[0m                                  Traceback (most recent call last)",
      "Cell \u001b[1;32mIn[306], line 1\u001b[0m\n\u001b[1;32m----> 1\u001b[0m my_dict77[\u001b[38;5;124m'\u001b[39m\u001b[38;5;124mgrade\u001b[39m\u001b[38;5;124m'\u001b[39m]\n",
      "\u001b[1;31mKeyError\u001b[0m: 'grade'"
     ]
    }
   ],
   "source": [
    "my_dict77['grade'] #key is not initialized"
   ]
  },
  {
   "cell_type": "markdown",
   "id": "6e1ce189-fd6a-474d-8c39-5efc100a44f9",
   "metadata": {},
   "source": [
    "### NESTED DICTIONARY"
   ]
  },
  {
   "cell_type": "code",
   "execution_count": 309,
   "id": "905c8737-6fa0-47c6-a135-7ee1ed30d4b3",
   "metadata": {},
   "outputs": [
    {
     "data": {
      "text/plain": [
       "{101: {'name': 'ali', 'age': 22, 'salary': 22222},\n",
       " 102: {'name': 'khan', 'age': 24, 'salary': 33333},\n",
       " 103: {'name': 'brock lesnar', 'age': 33, 'salary': 44444}}"
      ]
     },
     "execution_count": 309,
     "metadata": {},
     "output_type": "execute_result"
    }
   ],
   "source": [
    "employee= {\n",
    "    101:{ 'name': 'ali', 'age': 22,'salary': 22222, },\n",
    "    102:{'name': 'khan', 'age':24,'salary': 33333},\n",
    "    103:{'name': 'brock lesnar','age': 33,'salary': 44444}\n",
    "}\n",
    "employee"
   ]
  },
  {
   "cell_type": "code",
   "execution_count": 311,
   "id": "17896523-499d-4af5-ae66-76a8d30c5157",
   "metadata": {},
   "outputs": [
    {
     "data": {
      "text/plain": [
       "'ali'"
      ]
     },
     "execution_count": 311,
     "metadata": {},
     "output_type": "execute_result"
    }
   ],
   "source": [
    "employee[101]['name']"
   ]
  },
  {
   "cell_type": "code",
   "execution_count": 313,
   "id": "5101102e-1e09-422b-96fa-a1bab921ce7b",
   "metadata": {},
   "outputs": [
    {
     "data": {
      "text/plain": [
       "['__class__',\n",
       " '__class_getitem__',\n",
       " '__contains__',\n",
       " '__delattr__',\n",
       " '__delitem__',\n",
       " '__dir__',\n",
       " '__doc__',\n",
       " '__eq__',\n",
       " '__format__',\n",
       " '__ge__',\n",
       " '__getattribute__',\n",
       " '__getitem__',\n",
       " '__getstate__',\n",
       " '__gt__',\n",
       " '__hash__',\n",
       " '__init__',\n",
       " '__init_subclass__',\n",
       " '__ior__',\n",
       " '__iter__',\n",
       " '__le__',\n",
       " '__len__',\n",
       " '__lt__',\n",
       " '__ne__',\n",
       " '__new__',\n",
       " '__or__',\n",
       " '__reduce__',\n",
       " '__reduce_ex__',\n",
       " '__repr__',\n",
       " '__reversed__',\n",
       " '__ror__',\n",
       " '__setattr__',\n",
       " '__setitem__',\n",
       " '__sizeof__',\n",
       " '__str__',\n",
       " '__subclasshook__',\n",
       " 'clear',\n",
       " 'copy',\n",
       " 'fromkeys',\n",
       " 'get',\n",
       " 'items',\n",
       " 'keys',\n",
       " 'pop',\n",
       " 'popitem',\n",
       " 'setdefault',\n",
       " 'update',\n",
       " 'values']"
      ]
     },
     "execution_count": 313,
     "metadata": {},
     "output_type": "execute_result"
    }
   ],
   "source": [
    "dir(dict)"
   ]
  },
  {
   "cell_type": "code",
   "execution_count": 315,
   "id": "d07bb4f2-841b-48d0-a53e-0f0db54bf047",
   "metadata": {},
   "outputs": [
    {
     "data": {
      "text/plain": [
       "dict_keys(['name', 'age', 'student', 'tuple', 'list', 'set'])"
      ]
     },
     "execution_count": 315,
     "metadata": {},
     "output_type": "execute_result"
    }
   ],
   "source": [
    "my_dict77.keys()"
   ]
  },
  {
   "cell_type": "code",
   "execution_count": 317,
   "id": "90d1d7fa-182e-4334-93c7-bfff904bb662",
   "metadata": {},
   "outputs": [
    {
     "data": {
      "text/plain": [
       "dict_values(['khan', 33, True, (1, 2, 3), ['a', 'b', 'c'], {1, 2, 3}])"
      ]
     },
     "execution_count": 317,
     "metadata": {},
     "output_type": "execute_result"
    }
   ],
   "source": [
    "my_dict77.values()"
   ]
  },
  {
   "cell_type": "code",
   "execution_count": 319,
   "id": "56647f34-3d87-4d6a-a580-0145c1ae168c",
   "metadata": {},
   "outputs": [
    {
     "data": {
      "text/plain": [
       "'khan'"
      ]
     },
     "execution_count": 319,
     "metadata": {},
     "output_type": "execute_result"
    }
   ],
   "source": [
    "my_dict77.get('name')"
   ]
  },
  {
   "cell_type": "code",
   "execution_count": 321,
   "id": "f4173685-e2bd-4561-8830-bf5e360a93bf",
   "metadata": {},
   "outputs": [],
   "source": [
    "my_dict.get('grade') # this will prevent API crashes because it won't give any error if key doesn't exist."
   ]
  },
  {
   "cell_type": "markdown",
   "id": "26e942e3-acf0-41af-90a2-fc4ee4237100",
   "metadata": {},
   "source": [
    "## SET - DATA TYPE"
   ]
  },
  {
   "cell_type": "code",
   "execution_count": 324,
   "id": "d41d0039-a952-4be2-a628-a5b575053a8e",
   "metadata": {},
   "outputs": [],
   "source": [
    "#unordered collection of unique elements\n",
    "#no duplicates\n",
    "#does not support indexing - unordered"
   ]
  },
  {
   "cell_type": "code",
   "execution_count": 326,
   "id": "5d8f3b86-7b61-4951-9b14-dc0dbb4aa741",
   "metadata": {},
   "outputs": [
    {
     "data": {
      "text/plain": [
       "{1, 2, 3, 4, 12}"
      ]
     },
     "execution_count": 326,
     "metadata": {},
     "output_type": "execute_result"
    }
   ],
   "source": [
    "set1 = {1, 2, 3, 4, 1, 1, 1, 12}\n",
    "set1"
   ]
  },
  {
   "cell_type": "code",
   "execution_count": 328,
   "id": "413e5fba-dbb1-4362-8d3b-3613e5d16009",
   "metadata": {},
   "outputs": [
    {
     "data": {
      "text/plain": [
       "{'apple', 'mango'}"
      ]
     },
     "execution_count": 328,
     "metadata": {},
     "output_type": "execute_result"
    }
   ],
   "source": [
    "set2 = {'apple', 'apple', 'mango', 'mango'}\n",
    "set2"
   ]
  },
  {
   "cell_type": "code",
   "execution_count": 330,
   "id": "3c9eab3d-ca37-4657-be12-0430f824ebec",
   "metadata": {},
   "outputs": [
    {
     "data": {
      "text/plain": [
       "{('t1', 't2'), 1, 1.02, 2, 34, False, 'a', 'b'}"
      ]
     },
     "execution_count": 330,
     "metadata": {},
     "output_type": "execute_result"
    }
   ],
   "source": [
    "setVal = 34\n",
    "set3 ={1, 2, 'a', 'b', ('t1', 't2'),False, 1.02, setVal }\n",
    "set3 #unordered"
   ]
  },
  {
   "cell_type": "code",
   "execution_count": 332,
   "id": "54b5746b-e817-42c3-9ec9-9345ae80561c",
   "metadata": {},
   "outputs": [
    {
     "ename": "TypeError",
     "evalue": "unhashable type: 'set'",
     "output_type": "error",
     "traceback": [
      "\u001b[1;31m---------------------------------------------------------------------------\u001b[0m",
      "\u001b[1;31mTypeError\u001b[0m                                 Traceback (most recent call last)",
      "Cell \u001b[1;32mIn[332], line 1\u001b[0m\n\u001b[1;32m----> 1\u001b[0m set4\u001b[38;5;241m=\u001b[39m{\u001b[38;5;241m1\u001b[39m,\u001b[38;5;241m2\u001b[39m,{\u001b[38;5;124m'\u001b[39m\u001b[38;5;124ms1\u001b[39m\u001b[38;5;124m'\u001b[39m, \u001b[38;5;124m'\u001b[39m\u001b[38;5;124ms2\u001b[39m\u001b[38;5;124m'\u001b[39m, \u001b[38;5;124m'\u001b[39m\u001b[38;5;124ms3\u001b[39m\u001b[38;5;124m'\u001b[39m}}\n\u001b[0;32m      2\u001b[0m set4\n",
      "\u001b[1;31mTypeError\u001b[0m: unhashable type: 'set'"
     ]
    }
   ],
   "source": [
    "set4={1,2,{'s1', 's2', 's3'}}\n",
    "set4"
   ]
  },
  {
   "cell_type": "code",
   "execution_count": 334,
   "id": "4d5979d9-4356-40d0-9448-a20fd9d248b1",
   "metadata": {},
   "outputs": [
    {
     "ename": "TypeError",
     "evalue": "unhashable type: 'dict'",
     "output_type": "error",
     "traceback": [
      "\u001b[1;31m---------------------------------------------------------------------------\u001b[0m",
      "\u001b[1;31mTypeError\u001b[0m                                 Traceback (most recent call last)",
      "Cell \u001b[1;32mIn[334], line 1\u001b[0m\n\u001b[1;32m----> 1\u001b[0m set5 \u001b[38;5;241m=\u001b[39m {\u001b[38;5;241m3\u001b[39m,\u001b[38;5;241m4\u001b[39m,{\u001b[38;5;124m'\u001b[39m\u001b[38;5;124mname\u001b[39m\u001b[38;5;124m'\u001b[39m: \u001b[38;5;124m'\u001b[39m\u001b[38;5;124mahmed\u001b[39m\u001b[38;5;124m'\u001b[39m, \u001b[38;5;124m'\u001b[39m\u001b[38;5;124mage\u001b[39m\u001b[38;5;124m'\u001b[39m: \u001b[38;5;241m22\u001b[39m}}\n\u001b[0;32m      2\u001b[0m set5\n",
      "\u001b[1;31mTypeError\u001b[0m: unhashable type: 'dict'"
     ]
    }
   ],
   "source": [
    "set5 = {3,4,{'name': 'ahmed', 'age': 22}}\n",
    "set5"
   ]
  },
  {
   "cell_type": "code",
   "execution_count": 336,
   "id": "05e0c93a-77d7-4687-a629-da2faa155e6a",
   "metadata": {},
   "outputs": [
    {
     "ename": "TypeError",
     "evalue": "unhashable type: 'list'",
     "output_type": "error",
     "traceback": [
      "\u001b[1;31m---------------------------------------------------------------------------\u001b[0m",
      "\u001b[1;31mTypeError\u001b[0m                                 Traceback (most recent call last)",
      "Cell \u001b[1;32mIn[336], line 1\u001b[0m\n\u001b[1;32m----> 1\u001b[0m set6 \u001b[38;5;241m=\u001b[39m {\u001b[38;5;241m1\u001b[39m, \u001b[38;5;241m2\u001b[39m, [\u001b[38;5;124m'\u001b[39m\u001b[38;5;124ma\u001b[39m\u001b[38;5;124m'\u001b[39m,\u001b[38;5;124m'\u001b[39m\u001b[38;5;124mb\u001b[39m\u001b[38;5;124m'\u001b[39m]}\n\u001b[0;32m      2\u001b[0m set6\n",
      "\u001b[1;31mTypeError\u001b[0m: unhashable type: 'list'"
     ]
    }
   ],
   "source": [
    "set6 = {1, 2, ['a','b']}\n",
    "set6"
   ]
  },
  {
   "cell_type": "code",
   "execution_count": 338,
   "id": "4d3d3019-8ea0-4a44-bc9a-dd99d660d607",
   "metadata": {},
   "outputs": [
    {
     "data": {
      "text/plain": [
       "['__class__',\n",
       " '__class_getitem__',\n",
       " '__contains__',\n",
       " '__delattr__',\n",
       " '__delitem__',\n",
       " '__dir__',\n",
       " '__doc__',\n",
       " '__eq__',\n",
       " '__format__',\n",
       " '__ge__',\n",
       " '__getattribute__',\n",
       " '__getitem__',\n",
       " '__getstate__',\n",
       " '__gt__',\n",
       " '__hash__',\n",
       " '__init__',\n",
       " '__init_subclass__',\n",
       " '__ior__',\n",
       " '__iter__',\n",
       " '__le__',\n",
       " '__len__',\n",
       " '__lt__',\n",
       " '__ne__',\n",
       " '__new__',\n",
       " '__or__',\n",
       " '__reduce__',\n",
       " '__reduce_ex__',\n",
       " '__repr__',\n",
       " '__reversed__',\n",
       " '__ror__',\n",
       " '__setattr__',\n",
       " '__setitem__',\n",
       " '__sizeof__',\n",
       " '__str__',\n",
       " '__subclasshook__',\n",
       " 'clear',\n",
       " 'copy',\n",
       " 'fromkeys',\n",
       " 'get',\n",
       " 'items',\n",
       " 'keys',\n",
       " 'pop',\n",
       " 'popitem',\n",
       " 'setdefault',\n",
       " 'update',\n",
       " 'values']"
      ]
     },
     "execution_count": 338,
     "metadata": {},
     "output_type": "execute_result"
    }
   ],
   "source": [
    "dir({}) # same as dir(dict) or dir({'key': 'value'}) instance"
   ]
  },
  {
   "cell_type": "code",
   "execution_count": 340,
   "id": "2f752fe1-6648-4ce4-a31a-ed1fbf13e51d",
   "metadata": {},
   "outputs": [
    {
     "data": {
      "text/plain": [
       "['__and__',\n",
       " '__class__',\n",
       " '__class_getitem__',\n",
       " '__contains__',\n",
       " '__delattr__',\n",
       " '__dir__',\n",
       " '__doc__',\n",
       " '__eq__',\n",
       " '__format__',\n",
       " '__ge__',\n",
       " '__getattribute__',\n",
       " '__getstate__',\n",
       " '__gt__',\n",
       " '__hash__',\n",
       " '__iand__',\n",
       " '__init__',\n",
       " '__init_subclass__',\n",
       " '__ior__',\n",
       " '__isub__',\n",
       " '__iter__',\n",
       " '__ixor__',\n",
       " '__le__',\n",
       " '__len__',\n",
       " '__lt__',\n",
       " '__ne__',\n",
       " '__new__',\n",
       " '__or__',\n",
       " '__rand__',\n",
       " '__reduce__',\n",
       " '__reduce_ex__',\n",
       " '__repr__',\n",
       " '__ror__',\n",
       " '__rsub__',\n",
       " '__rxor__',\n",
       " '__setattr__',\n",
       " '__sizeof__',\n",
       " '__str__',\n",
       " '__sub__',\n",
       " '__subclasshook__',\n",
       " '__xor__',\n",
       " 'add',\n",
       " 'clear',\n",
       " 'copy',\n",
       " 'difference',\n",
       " 'difference_update',\n",
       " 'discard',\n",
       " 'intersection',\n",
       " 'intersection_update',\n",
       " 'isdisjoint',\n",
       " 'issubset',\n",
       " 'issuperset',\n",
       " 'pop',\n",
       " 'remove',\n",
       " 'symmetric_difference',\n",
       " 'symmetric_difference_update',\n",
       " 'union',\n",
       " 'update']"
      ]
     },
     "execution_count": 340,
     "metadata": {},
     "output_type": "execute_result"
    }
   ],
   "source": [
    "dir({1,2,3}) #same as dir(set)"
   ]
  },
  {
   "cell_type": "code",
   "execution_count": 342,
   "id": "55a659d3-e36e-4fdc-a273-68c9d4d9bf51",
   "metadata": {},
   "outputs": [
    {
     "data": {
      "text/plain": [
       "['__and__',\n",
       " '__class__',\n",
       " '__class_getitem__',\n",
       " '__contains__',\n",
       " '__delattr__',\n",
       " '__dir__',\n",
       " '__doc__',\n",
       " '__eq__',\n",
       " '__format__',\n",
       " '__ge__',\n",
       " '__getattribute__',\n",
       " '__getstate__',\n",
       " '__gt__',\n",
       " '__hash__',\n",
       " '__iand__',\n",
       " '__init__',\n",
       " '__init_subclass__',\n",
       " '__ior__',\n",
       " '__isub__',\n",
       " '__iter__',\n",
       " '__ixor__',\n",
       " '__le__',\n",
       " '__len__',\n",
       " '__lt__',\n",
       " '__ne__',\n",
       " '__new__',\n",
       " '__or__',\n",
       " '__rand__',\n",
       " '__reduce__',\n",
       " '__reduce_ex__',\n",
       " '__repr__',\n",
       " '__ror__',\n",
       " '__rsub__',\n",
       " '__rxor__',\n",
       " '__setattr__',\n",
       " '__sizeof__',\n",
       " '__str__',\n",
       " '__sub__',\n",
       " '__subclasshook__',\n",
       " '__xor__',\n",
       " 'add',\n",
       " 'clear',\n",
       " 'copy',\n",
       " 'difference',\n",
       " 'difference_update',\n",
       " 'discard',\n",
       " 'intersection',\n",
       " 'intersection_update',\n",
       " 'isdisjoint',\n",
       " 'issubset',\n",
       " 'issuperset',\n",
       " 'pop',\n",
       " 'remove',\n",
       " 'symmetric_difference',\n",
       " 'symmetric_difference_update',\n",
       " 'union',\n",
       " 'update']"
      ]
     },
     "execution_count": 342,
     "metadata": {},
     "output_type": "execute_result"
    }
   ],
   "source": [
    "dir(set)"
   ]
  },
  {
   "cell_type": "code",
   "execution_count": 344,
   "id": "2e1c1d7d-4e71-492e-b5f8-d72420afd718",
   "metadata": {},
   "outputs": [
    {
     "data": {
      "text/plain": [
       "{2, 3}"
      ]
     },
     "execution_count": 344,
     "metadata": {},
     "output_type": "execute_result"
    }
   ],
   "source": [
    "a={1,2,3}\n",
    "b={2,3}\n",
    "a.intersection(b)"
   ]
  },
  {
   "cell_type": "code",
   "execution_count": 346,
   "id": "164dc0b6-4730-49da-997e-6e543fb51fba",
   "metadata": {},
   "outputs": [
    {
     "data": {
      "text/plain": [
       "{0, 0.45, 1}"
      ]
     },
     "execution_count": 346,
     "metadata": {},
     "output_type": "execute_result"
    }
   ],
   "source": [
    "set7 = {0,1, True, False, 0.45}\n",
    "set7 #true is 1 and False is 0 => it will not return duplicates"
   ]
  },
  {
   "cell_type": "code",
   "execution_count": 348,
   "id": "0bcc3c5b-53b2-481a-8d0f-7dd179fea600",
   "metadata": {},
   "outputs": [
    {
     "data": {
      "text/plain": [
       "[1, 2, 3, 4, 5]"
      ]
     },
     "execution_count": 348,
     "metadata": {},
     "output_type": "execute_result"
    }
   ],
   "source": [
    "#remove duplicates from a list\n",
    "\n",
    "my_list = [1,2,3,4,1,2,3,4,3,3,4,4,5]\n",
    "my_set = set(my_list)\n",
    "new_list = list(my_set)\n",
    "new_list"
   ]
  },
  {
   "cell_type": "code",
   "execution_count": 350,
   "id": "74a09747-780e-4d82-9243-68679e1fc4bc",
   "metadata": {},
   "outputs": [
    {
     "data": {
      "text/plain": [
       "[1, 3]"
      ]
     },
     "execution_count": 350,
     "metadata": {},
     "output_type": "execute_result"
    }
   ],
   "source": [
    "#find common items b/w two lists(intersection)\n",
    "\n",
    "list1 = [1,2,3]\n",
    "list2 = [1,3,4]\n",
    "set1 = set(list1)\n",
    "set2 = set(list2)\n",
    "intersection = list(set1 & set2)\n",
    "intersection"
   ]
  },
  {
   "cell_type": "code",
   "execution_count": 352,
   "id": "2cf17483-7326-4c9b-8f85-aaa65501a258",
   "metadata": {},
   "outputs": [
    {
     "data": {
      "text/plain": [
       "{'Data', 'Python', 'easy', 'in', 'is', 'learn', 'science', 'to', 'used'}"
      ]
     },
     "execution_count": 352,
     "metadata": {},
     "output_type": "execute_result"
    }
   ],
   "source": [
    "#keep only unique words from a sentence\n",
    "sentence = \"Python is is easy easy to learn Python is used in in Data Data science\"\n",
    "uniqueWords = set(sentence.split(\" \"))\n",
    "uniqueWords"
   ]
  },
  {
   "cell_type": "code",
   "execution_count": null,
   "id": "d6fca443-ea3e-4ec2-a491-d953653e3823",
   "metadata": {},
   "outputs": [],
   "source": []
  }
 ],
 "metadata": {
  "kernelspec": {
   "display_name": "Python [conda env:base] *",
   "language": "python",
   "name": "conda-base-py"
  },
  "language_info": {
   "codemirror_mode": {
    "name": "ipython",
    "version": 3
   },
   "file_extension": ".py",
   "mimetype": "text/x-python",
   "name": "python",
   "nbconvert_exporter": "python",
   "pygments_lexer": "ipython3",
   "version": "3.12.7"
  }
 },
 "nbformat": 4,
 "nbformat_minor": 5
}
