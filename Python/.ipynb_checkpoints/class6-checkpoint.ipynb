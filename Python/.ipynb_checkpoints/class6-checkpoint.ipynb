{
 "cells": [
  {
   "cell_type": "markdown",
   "id": "a3878d5c-37de-4c86-a7bd-386c1335e392",
   "metadata": {},
   "source": [
    "### String Data Type"
   ]
  },
  {
   "cell_type": "code",
   "execution_count": null,
   "id": "6b5c47e7-6748-4113-bf0c-7babbf16cf5f",
   "metadata": {},
   "outputs": [],
   "source": [
    "#concatenation"
   ]
  },
  {
   "cell_type": "code",
   "execution_count": 21,
   "id": "94a8c0be-964c-4d8a-88d7-74572bffae8f",
   "metadata": {},
   "outputs": [
    {
     "name": "stdout",
     "output_type": "stream",
     "text": [
      "JameelKhan\n"
     ]
    }
   ],
   "source": [
    "first = 'Jameel'\n",
    "last = 'Khan'\n",
    "name = first + last\n",
    "print(name)"
   ]
  },
  {
   "cell_type": "code",
   "execution_count": 7,
   "id": "8a303b5c-35a9-4bd1-b9ed-d98dff08f9e5",
   "metadata": {},
   "outputs": [
    {
     "name": "stdout",
     "output_type": "stream",
     "text": [
      "Jameel Khan\n"
     ]
    }
   ],
   "source": [
    "#concatenation\n",
    "first = 'Jameel'\n",
    "last = 'Khan'\n",
    "name = first +\" \"+ last\n",
    "print(name)"
   ]
  },
  {
   "cell_type": "code",
   "execution_count": 9,
   "id": "eb925adb-4b55-416c-8397-2677dc8429c9",
   "metadata": {},
   "outputs": [
    {
     "ename": "TypeError",
     "evalue": "can only concatenate str (not \"int\") to str",
     "output_type": "error",
     "traceback": [
      "\u001b[1;31m---------------------------------------------------------------------------\u001b[0m",
      "\u001b[1;31mTypeError\u001b[0m                                 Traceback (most recent call last)",
      "Cell \u001b[1;32mIn[9], line 3\u001b[0m\n\u001b[0;32m      1\u001b[0m employee \u001b[38;5;241m=\u001b[39m \u001b[38;5;124m'\u001b[39m\u001b[38;5;124mali\u001b[39m\u001b[38;5;124m'\u001b[39m\n\u001b[0;32m      2\u001b[0m age \u001b[38;5;241m=\u001b[39m \u001b[38;5;241m22\u001b[39m\n\u001b[1;32m----> 3\u001b[0m username \u001b[38;5;241m=\u001b[39m employee \u001b[38;5;241m+\u001b[39m age\n\u001b[0;32m      4\u001b[0m \u001b[38;5;28mprint\u001b[39m(username)\n",
      "\u001b[1;31mTypeError\u001b[0m: can only concatenate str (not \"int\") to str"
     ]
    }
   ],
   "source": [
    "employee = 'ali'\n",
    "age = 22\n",
    "username = employee + age\n",
    "print(username)"
   ]
  },
  {
   "cell_type": "code",
   "execution_count": 11,
   "id": "f3f9c867-0bea-49b6-9fa0-6937e9bfea00",
   "metadata": {},
   "outputs": [
    {
     "name": "stdout",
     "output_type": "stream",
     "text": [
      "ali22\n"
     ]
    }
   ],
   "source": [
    "employee = 'ali'\n",
    "age = str(22)\n",
    "username = employee + age\n",
    "print(username)"
   ]
  },
  {
   "cell_type": "code",
   "execution_count": 13,
   "id": "1f0fd497-9c21-4738-a464-e324905092a9",
   "metadata": {},
   "outputs": [
    {
     "name": "stdout",
     "output_type": "stream",
     "text": [
      "ali22\n"
     ]
    }
   ],
   "source": [
    "employee = 'ali'\n",
    "age = 22\n",
    "username = employee + str(age)\n",
    "print(username)"
   ]
  },
  {
   "cell_type": "code",
   "execution_count": 17,
   "id": "5e3f47ed-c02c-4aa3-a932-3f54e98eaa78",
   "metadata": {},
   "outputs": [
    {
     "ename": "TypeError",
     "evalue": "can only concatenate str (not \"float\") to str",
     "output_type": "error",
     "traceback": [
      "\u001b[1;31m---------------------------------------------------------------------------\u001b[0m",
      "\u001b[1;31mTypeError\u001b[0m                                 Traceback (most recent call last)",
      "Cell \u001b[1;32mIn[17], line 3\u001b[0m\n\u001b[0;32m      1\u001b[0m employee \u001b[38;5;241m=\u001b[39m \u001b[38;5;124m'\u001b[39m\u001b[38;5;124mali\u001b[39m\u001b[38;5;124m'\u001b[39m\n\u001b[0;32m      2\u001b[0m height \u001b[38;5;241m=\u001b[39m \u001b[38;5;241m22.3\u001b[39m\n\u001b[1;32m----> 3\u001b[0m username \u001b[38;5;241m=\u001b[39m employee \u001b[38;5;241m+\u001b[39m height\n\u001b[0;32m      4\u001b[0m \u001b[38;5;28mprint\u001b[39m(username)\n",
      "\u001b[1;31mTypeError\u001b[0m: can only concatenate str (not \"float\") to str"
     ]
    }
   ],
   "source": [
    "employee = 'ali'\n",
    "height = 22.3\n",
    "username = employee + height\n",
    "print(username)"
   ]
  },
  {
   "cell_type": "code",
   "execution_count": 19,
   "id": "a1d59590-f43d-4b68-b5a2-c22f3e9676ad",
   "metadata": {},
   "outputs": [
    {
     "name": "stdout",
     "output_type": "stream",
     "text": [
      "ali22.3\n"
     ]
    }
   ],
   "source": [
    "employee = 'ali'\n",
    "height = str(22.3)\n",
    "username = employee + height\n",
    "print(username)"
   ]
  },
  {
   "cell_type": "code",
   "execution_count": 56,
   "id": "089dc732-e387-47ad-aaf2-7cc4b37b44f9",
   "metadata": {},
   "outputs": [
    {
     "data": {
      "text/plain": [
       "('ali', 22.3)"
      ]
     },
     "execution_count": 56,
     "metadata": {},
     "output_type": "execute_result"
    }
   ],
   "source": [
    "#packing and unpacking concept\n",
    "employee = 'ali'\n",
    "height = 22.3\n",
    "username = employee, height\n",
    "username #tuple"
   ]
  },
  {
   "cell_type": "code",
   "execution_count": 48,
   "id": "8b4c4181-7bd4-4cde-ad65-a8426132cb2e",
   "metadata": {},
   "outputs": [
    {
     "name": "stdout",
     "output_type": "stream",
     "text": [
      "('ali', 22.3)\n"
     ]
    }
   ],
   "source": [
    "employee = 'ali'\n",
    "height = 22.3\n",
    "username = employee, height\n",
    "print(username) \n"
   ]
  },
  {
   "cell_type": "code",
   "execution_count": 54,
   "id": "d4ff6a96-d45b-418f-a83d-ceed7b9c4892",
   "metadata": {},
   "outputs": [
    {
     "data": {
      "text/plain": [
       "'hellohellohello'"
      ]
     },
     "execution_count": 54,
     "metadata": {},
     "output_type": "execute_result"
    }
   ],
   "source": [
    "# repetition\n",
    "\n",
    "x = 'hello' * 3\n",
    "x"
   ]
  },
  {
   "cell_type": "code",
   "execution_count": 58,
   "id": "1344104e-b1ec-4e5d-827f-28f4395205ee",
   "metadata": {},
   "outputs": [
    {
     "ename": "NameError",
     "evalue": "name 'hello' is not defined",
     "output_type": "error",
     "traceback": [
      "\u001b[1;31m---------------------------------------------------------------------------\u001b[0m",
      "\u001b[1;31mNameError\u001b[0m                                 Traceback (most recent call last)",
      "Cell \u001b[1;32mIn[58], line 3\u001b[0m\n\u001b[0;32m      1\u001b[0m \u001b[38;5;66;03m# repetition\u001b[39;00m\n\u001b[1;32m----> 3\u001b[0m y \u001b[38;5;241m=\u001b[39m hello \u001b[38;5;241m*\u001b[39m \u001b[38;5;241m3\u001b[39m\n\u001b[0;32m      4\u001b[0m y\n",
      "\u001b[1;31mNameError\u001b[0m: name 'hello' is not defined"
     ]
    }
   ],
   "source": [
    "# repetition\n",
    "\n",
    "y = hello * 3\n",
    "y"
   ]
  },
  {
   "cell_type": "code",
   "execution_count": 62,
   "id": "7038dd71-2adf-452b-95e6-ff56908899a4",
   "metadata": {},
   "outputs": [
    {
     "ename": "TypeError",
     "evalue": "object of type 'int' has no len()",
     "output_type": "error",
     "traceback": [
      "\u001b[1;31m---------------------------------------------------------------------------\u001b[0m",
      "\u001b[1;31mTypeError\u001b[0m                                 Traceback (most recent call last)",
      "Cell \u001b[1;32mIn[62], line 3\u001b[0m\n\u001b[0;32m      1\u001b[0m \u001b[38;5;66;03m#length\u001b[39;00m\n\u001b[0;32m      2\u001b[0m ret \u001b[38;5;241m=\u001b[39m \u001b[38;5;241m2828282\u001b[39m\n\u001b[1;32m----> 3\u001b[0m \u001b[38;5;28mlen\u001b[39m(ret)\n",
      "\u001b[1;31mTypeError\u001b[0m: object of type 'int' has no len()"
     ]
    }
   ],
   "source": [
    "#length\n",
    "ret = 2828282\n",
    "len(ret)"
   ]
  },
  {
   "cell_type": "code",
   "execution_count": 64,
   "id": "847d846a-5071-44a6-8175-ca34cbf51a85",
   "metadata": {},
   "outputs": [
    {
     "data": {
      "text/plain": [
       "7"
      ]
     },
     "execution_count": 64,
     "metadata": {},
     "output_type": "execute_result"
    }
   ],
   "source": [
    "ret = '2828282'\n",
    "len(ret)"
   ]
  },
  {
   "cell_type": "code",
   "execution_count": 72,
   "id": "09eec186-2d80-4f6a-a076-b3149f4b5ca6",
   "metadata": {},
   "outputs": [
    {
     "data": {
      "text/plain": [
       "' '"
      ]
     },
     "execution_count": 72,
     "metadata": {},
     "output_type": "execute_result"
    }
   ],
   "source": [
    "#indexing on string (counting space)\n",
    "ret = '2 828282'\n",
    "ret[1]"
   ]
  },
  {
   "cell_type": "code",
   "execution_count": 74,
   "id": "92cf06d0-1b85-4d9f-89cb-a54b3d68ae61",
   "metadata": {},
   "outputs": [
    {
     "ename": "TypeError",
     "evalue": "object of type 'float' has no len()",
     "output_type": "error",
     "traceback": [
      "\u001b[1;31m---------------------------------------------------------------------------\u001b[0m",
      "\u001b[1;31mTypeError\u001b[0m                                 Traceback (most recent call last)",
      "Cell \u001b[1;32mIn[74], line 2\u001b[0m\n\u001b[0;32m      1\u001b[0m flor \u001b[38;5;241m=\u001b[39m \u001b[38;5;241m282.3\u001b[39m\n\u001b[1;32m----> 2\u001b[0m \u001b[38;5;28mlen\u001b[39m(flor)\n",
      "\u001b[1;31mTypeError\u001b[0m: object of type 'float' has no len()"
     ]
    }
   ],
   "source": [
    "flor = 282.3\n",
    "len(flor)"
   ]
  },
  {
   "cell_type": "code",
   "execution_count": 76,
   "id": "5ac48d4e-01f6-4128-b577-bd46a5c9cf7c",
   "metadata": {},
   "outputs": [
    {
     "data": {
      "text/plain": [
       "5"
      ]
     },
     "execution_count": 76,
     "metadata": {},
     "output_type": "execute_result"
    }
   ],
   "source": [
    "flor = '282.3'\n",
    "len(flor)"
   ]
  },
  {
   "cell_type": "code",
   "execution_count": 78,
   "id": "b352804d-acab-4273-a38f-2f4893fceef9",
   "metadata": {},
   "outputs": [
    {
     "data": {
      "text/plain": [
       "10"
      ]
     },
     "execution_count": 78,
     "metadata": {},
     "output_type": "execute_result"
    }
   ],
   "source": [
    "loop = '282.3 + 22'\n",
    "len(loop)"
   ]
  },
  {
   "cell_type": "code",
   "execution_count": 82,
   "id": "0bd17ae4-bb2c-4aa8-8cbe-96433a60ef1d",
   "metadata": {},
   "outputs": [
    {
     "ename": "TypeError",
     "evalue": "unsupported operand type(s) for +: 'int' and 'str'",
     "output_type": "error",
     "traceback": [
      "\u001b[1;31m---------------------------------------------------------------------------\u001b[0m",
      "\u001b[1;31mTypeError\u001b[0m                                 Traceback (most recent call last)",
      "Cell \u001b[1;32mIn[82], line 3\u001b[0m\n\u001b[0;32m      1\u001b[0m a\u001b[38;5;241m=\u001b[39m \u001b[38;5;241m123\u001b[39m\n\u001b[0;32m      2\u001b[0m b\u001b[38;5;241m=\u001b[39m\u001b[38;5;124m'\u001b[39m\u001b[38;5;124m123\u001b[39m\u001b[38;5;124m'\u001b[39m\n\u001b[1;32m----> 3\u001b[0m c\u001b[38;5;241m=\u001b[39m a\u001b[38;5;241m+\u001b[39mb\n",
      "\u001b[1;31mTypeError\u001b[0m: unsupported operand type(s) for +: 'int' and 'str'"
     ]
    }
   ],
   "source": [
    "a= 123\n",
    "b='123'\n",
    "c= a+b"
   ]
  },
  {
   "cell_type": "code",
   "execution_count": 98,
   "id": "5d6b0c81-1e78-40f4-89d9-ffa7e65d0136",
   "metadata": {},
   "outputs": [
    {
     "data": {
      "text/plain": [
       "'Tesla'"
      ]
     },
     "execution_count": 98,
     "metadata": {},
     "output_type": "execute_result"
    }
   ],
   "source": [
    "topic = 'tesla'\n",
    "topic.replace('t','T')"
   ]
  },
  {
   "cell_type": "code",
   "execution_count": 88,
   "id": "45714780-39b4-45dd-bd1e-932ddae9ea0b",
   "metadata": {},
   "outputs": [
    {
     "data": {
      "text/plain": [
       "['__add__',\n",
       " '__class__',\n",
       " '__contains__',\n",
       " '__delattr__',\n",
       " '__dir__',\n",
       " '__doc__',\n",
       " '__eq__',\n",
       " '__format__',\n",
       " '__ge__',\n",
       " '__getattribute__',\n",
       " '__getitem__',\n",
       " '__getnewargs__',\n",
       " '__getstate__',\n",
       " '__gt__',\n",
       " '__hash__',\n",
       " '__init__',\n",
       " '__init_subclass__',\n",
       " '__iter__',\n",
       " '__le__',\n",
       " '__len__',\n",
       " '__lt__',\n",
       " '__mod__',\n",
       " '__mul__',\n",
       " '__ne__',\n",
       " '__new__',\n",
       " '__reduce__',\n",
       " '__reduce_ex__',\n",
       " '__repr__',\n",
       " '__rmod__',\n",
       " '__rmul__',\n",
       " '__setattr__',\n",
       " '__sizeof__',\n",
       " '__str__',\n",
       " '__subclasshook__',\n",
       " 'capitalize',\n",
       " 'casefold',\n",
       " 'center',\n",
       " 'count',\n",
       " 'encode',\n",
       " 'endswith',\n",
       " 'expandtabs',\n",
       " 'find',\n",
       " 'format',\n",
       " 'format_map',\n",
       " 'index',\n",
       " 'isalnum',\n",
       " 'isalpha',\n",
       " 'isascii',\n",
       " 'isdecimal',\n",
       " 'isdigit',\n",
       " 'isidentifier',\n",
       " 'islower',\n",
       " 'isnumeric',\n",
       " 'isprintable',\n",
       " 'isspace',\n",
       " 'istitle',\n",
       " 'isupper',\n",
       " 'join',\n",
       " 'ljust',\n",
       " 'lower',\n",
       " 'lstrip',\n",
       " 'maketrans',\n",
       " 'partition',\n",
       " 'removeprefix',\n",
       " 'removesuffix',\n",
       " 'replace',\n",
       " 'rfind',\n",
       " 'rindex',\n",
       " 'rjust',\n",
       " 'rpartition',\n",
       " 'rsplit',\n",
       " 'rstrip',\n",
       " 'split',\n",
       " 'splitlines',\n",
       " 'startswith',\n",
       " 'strip',\n",
       " 'swapcase',\n",
       " 'title',\n",
       " 'translate',\n",
       " 'upper',\n",
       " 'zfill']"
      ]
     },
     "execution_count": 88,
     "metadata": {},
     "output_type": "execute_result"
    }
   ],
   "source": [
    "dir(str)"
   ]
  },
  {
   "cell_type": "code",
   "execution_count": 102,
   "id": "24f356ef-ca53-493f-8de1-e50d7dc1d0cb",
   "metadata": {},
   "outputs": [
    {
     "data": {
      "text/plain": [
       "'aPPle'"
      ]
     },
     "execution_count": 102,
     "metadata": {},
     "output_type": "execute_result"
    }
   ],
   "source": [
    "fruit='apple'\n",
    "fruit.replace('p', 'P',-1)"
   ]
  },
  {
   "cell_type": "code",
   "execution_count": 104,
   "id": "b703b2a5-2746-44ba-8c5c-f4b3b3e39cf1",
   "metadata": {},
   "outputs": [
    {
     "data": {
      "text/plain": [
       "'learning'"
      ]
     },
     "execution_count": 104,
     "metadata": {},
     "output_type": "execute_result"
    }
   ],
   "source": [
    "#slicing\n",
    "\n",
    "text= 'we are learning java'\n",
    "text[7:15]"
   ]
  },
  {
   "cell_type": "code",
   "execution_count": 110,
   "id": "5a2b71b5-6f4c-4089-ab13-903598179657",
   "metadata": {},
   "outputs": [
    {
     "data": {
      "text/plain": [
       "'we are learning java'"
      ]
     },
     "execution_count": 110,
     "metadata": {},
     "output_type": "execute_result"
    }
   ],
   "source": [
    "#slicing\n",
    "\n",
    "text= 'we are learning java'\n",
    "text[::1]"
   ]
  },
  {
   "cell_type": "code",
   "execution_count": 112,
   "id": "221b8cdd-97e1-43c0-bb73-dca2b26a72a2",
   "metadata": {},
   "outputs": [
    {
     "data": {
      "text/plain": [
       "'w r erigjv'"
      ]
     },
     "execution_count": 112,
     "metadata": {},
     "output_type": "execute_result"
    }
   ],
   "source": [
    "#slicing\n",
    "\n",
    "text= 'we are learning java'\n",
    "text[::2]"
   ]
  },
  {
   "cell_type": "code",
   "execution_count": 114,
   "id": "6b232f34-14af-4d41-a3d0-12d99100c52f",
   "metadata": {},
   "outputs": [],
   "source": [
    "#case methods\n",
    "#upper, lower, swapcas, title, capitalize"
   ]
  },
  {
   "cell_type": "code",
   "execution_count": 116,
   "id": "559a4918-b7d8-402d-b690-2e63cc3910df",
   "metadata": {},
   "outputs": [
    {
     "data": {
      "text/plain": [
       "'JOHN'"
      ]
     },
     "execution_count": 116,
     "metadata": {},
     "output_type": "execute_result"
    }
   ],
   "source": [
    "student = 'john'\n",
    "student.upper()"
   ]
  },
  {
   "cell_type": "code",
   "execution_count": 120,
   "id": "ef573838-10e1-4240-a0c1-8d308f3d3bae",
   "metadata": {},
   "outputs": [
    {
     "data": {
      "text/plain": [
       "'corolla'"
      ]
     },
     "execution_count": 120,
     "metadata": {},
     "output_type": "execute_result"
    }
   ],
   "source": [
    "car = 'COROLLA'\n",
    "car.lower() "
   ]
  },
  {
   "cell_type": "code",
   "execution_count": 126,
   "id": "7a8ff3c7-0c94-41da-8b67-5ecb4e99579a",
   "metadata": {},
   "outputs": [
    {
     "data": {
      "text/plain": [
       "'We Are Studying Python'"
      ]
     },
     "execution_count": 126,
     "metadata": {},
     "output_type": "execute_result"
    }
   ],
   "source": [
    "msg = 'we are studying python'\n",
    "msg.title()"
   ]
  },
  {
   "cell_type": "code",
   "execution_count": 128,
   "id": "1d14c555-91f4-4ca6-8aca-b4d2cb15916c",
   "metadata": {},
   "outputs": [
    {
     "data": {
      "text/plain": [
       "'wE ARE StUDYiNG PYThON'"
      ]
     },
     "execution_count": 128,
     "metadata": {},
     "output_type": "execute_result"
    }
   ],
   "source": [
    "msg = 'We are sTudyIng pytHon'\n",
    "msg.swapcase()"
   ]
  },
  {
   "cell_type": "code",
   "execution_count": 132,
   "id": "34694328-6e78-4c34-b549-b9f5ad12162a",
   "metadata": {},
   "outputs": [
    {
     "data": {
      "text/plain": [
       "'We are studying python'"
      ]
     },
     "execution_count": 132,
     "metadata": {},
     "output_type": "execute_result"
    }
   ],
   "source": [
    "msg = 'we are stUdying python'\n",
    "msg.capitalize()"
   ]
  },
  {
   "cell_type": "code",
   "execution_count": 136,
   "id": "5e1a7555-1b79-4a6b-ba81-eadd56a668b6",
   "metadata": {},
   "outputs": [
    {
     "data": {
      "text/plain": [
       "'We are studying python\\nwe are studying python\\nwe are studying python'"
      ]
     },
     "execution_count": 136,
     "metadata": {},
     "output_type": "execute_result"
    }
   ],
   "source": [
    "msg = \"\"\"we are stUdying python\n",
    "we are stUdying python\n",
    "we are stUdying python\"\"\"\n",
    "msg.capitalize()"
   ]
  },
  {
   "cell_type": "code",
   "execution_count": null,
   "id": "91845dc7-7d04-48c9-a586-b4eb4a23bf2b",
   "metadata": {},
   "outputs": [],
   "source": [
    "#trim and cleaning methods\n",
    "\n",
    "#strip\n",
    "#rstrip\n",
    "#lstrip\n",
    "#removessuffix\n",
    "#removeprefix\n",
    "#replace\n"
   ]
  },
  {
   "cell_type": "code",
   "execution_count": 184,
   "id": "27684c4a-f2af-49b4-a449-cf7536a0dad6",
   "metadata": {},
   "outputs": [
    {
     "data": {
      "text/plain": [
       "'Hi! We are all travelling to Germany'"
      ]
     },
     "execution_count": 184,
     "metadata": {},
     "output_type": "execute_result"
    }
   ],
   "source": [
    "comment = '   Hi! We are all travelling to Germany   '\n",
    "comment.strip()"
   ]
  },
  {
   "cell_type": "code",
   "execution_count": 144,
   "id": "983fecfd-dafc-4997-9a80-d028c39d612a",
   "metadata": {},
   "outputs": [
    {
     "data": {
      "text/plain": [
       "'Hi! We are all            travelling to Germany'"
      ]
     },
     "execution_count": 144,
     "metadata": {},
     "output_type": "execute_result"
    }
   ],
   "source": [
    "comment = '   Hi! We are all            travelling to Germany   '\n",
    "comment.strip()"
   ]
  },
  {
   "cell_type": "code",
   "execution_count": 146,
   "id": "4d5e42c6-b7c1-4bab-80da-da553f39b866",
   "metadata": {},
   "outputs": [],
   "source": [
    "comment = '   Hi! We are all travelling to Germany   '\n",
    "# comment.trim() excel me trim hota"
   ]
  },
  {
   "cell_type": "code",
   "execution_count": 148,
   "id": "7095fa6c-3195-42d2-8df4-4ea039f52be0",
   "metadata": {},
   "outputs": [
    {
     "data": {
      "text/plain": [
       "'   Hi! We are all travelling to Germany'"
      ]
     },
     "execution_count": 148,
     "metadata": {},
     "output_type": "execute_result"
    }
   ],
   "source": [
    "comment = '   Hi! We are all travelling to Germany   '\n",
    "comment.rstrip()"
   ]
  },
  {
   "cell_type": "code",
   "execution_count": 150,
   "id": "1821b132-49f3-48f7-b008-76eb612301c0",
   "metadata": {},
   "outputs": [
    {
     "data": {
      "text/plain": [
       "'Hi! We are all travelling to Germany   '"
      ]
     },
     "execution_count": 150,
     "metadata": {},
     "output_type": "execute_result"
    }
   ],
   "source": [
    "comment = '   Hi! We are all travelling to Germany   '\n",
    "comment.lstrip()"
   ]
  },
  {
   "cell_type": "code",
   "execution_count": 164,
   "id": "964e47e1-4545-437a-bbf3-8160940f8c69",
   "metadata": {},
   "outputs": [
    {
     "data": {
      "text/plain": [
       "'Hi! We are all travelling to German'"
      ]
     },
     "execution_count": 164,
     "metadata": {},
     "output_type": "execute_result"
    }
   ],
   "source": [
    "comment = 'Hi! We are all travelling to Germany'\n",
    "comment.removesuffix('y')"
   ]
  },
  {
   "cell_type": "code",
   "execution_count": 168,
   "id": "e5d66800-0fbc-46b7-9d20-b1b9ceb071ad",
   "metadata": {},
   "outputs": [
    {
     "data": {
      "text/plain": [
       "'! We are all travelling to Germany'"
      ]
     },
     "execution_count": 168,
     "metadata": {},
     "output_type": "execute_result"
    }
   ],
   "source": [
    "comment = 'Hi! We are all travelling to Germany'\n",
    "comment.removeprefix('Hi')"
   ]
  },
  {
   "cell_type": "code",
   "execution_count": 170,
   "id": "0f89e811-dc44-4c15-8719-e8a1c819571b",
   "metadata": {},
   "outputs": [
    {
     "ename": "AttributeError",
     "evalue": "'list' object has no attribute 'removeprefix'",
     "output_type": "error",
     "traceback": [
      "\u001b[1;31m---------------------------------------------------------------------------\u001b[0m",
      "\u001b[1;31mAttributeError\u001b[0m                            Traceback (most recent call last)",
      "Cell \u001b[1;32mIn[170], line 2\u001b[0m\n\u001b[0;32m      1\u001b[0m prefixList \u001b[38;5;241m=\u001b[39m [\u001b[38;5;124m'\u001b[39m\u001b[38;5;124munhappy\u001b[39m\u001b[38;5;124m'\u001b[39m, \u001b[38;5;124m'\u001b[39m\u001b[38;5;124munable\u001b[39m\u001b[38;5;124m'\u001b[39m ]\n\u001b[1;32m----> 2\u001b[0m prefixList\u001b[38;5;241m.\u001b[39mremoveprefix(\u001b[38;5;124m'\u001b[39m\u001b[38;5;124mun\u001b[39m\u001b[38;5;124m'\u001b[39m)\n",
      "\u001b[1;31mAttributeError\u001b[0m: 'list' object has no attribute 'removeprefix'"
     ]
    }
   ],
   "source": [
    "prefixList = ['unhappy', 'unable' ]\n",
    "prefixList.removeprefix('un')"
   ]
  },
  {
   "cell_type": "code",
   "execution_count": 172,
   "id": "1cd21abe-f06b-4639-a7b5-0401ee5fab92",
   "metadata": {},
   "outputs": [
    {
     "name": "stdout",
     "output_type": "stream",
     "text": [
      "['happy', 'able']\n"
     ]
    }
   ],
   "source": [
    "prefixList = ['unhappy', 'unable']\n",
    "strippedList = [word.removeprefix('un') for word in prefixList]\n",
    "print(strippedList)"
   ]
  },
  {
   "cell_type": "code",
   "execution_count": 174,
   "id": "f80755f1-b934-42a8-a2e2-16e74e3959bb",
   "metadata": {},
   "outputs": [],
   "source": [
    "#search method\n",
    "#count\n",
    "#find"
   ]
  },
  {
   "cell_type": "code",
   "execution_count": 176,
   "id": "17d0ea9d-a892-47ea-a30a-304bf3360ad1",
   "metadata": {},
   "outputs": [
    {
     "data": {
      "text/plain": [
       "2"
      ]
     },
     "execution_count": 176,
     "metadata": {},
     "output_type": "execute_result"
    }
   ],
   "source": [
    "sample = 'apple-banana-pineapple'\n",
    "sample.count('-')"
   ]
  },
  {
   "cell_type": "code",
   "execution_count": 182,
   "id": "fe7ca254-aaa3-437f-99e5-ebb4ae7b6b09",
   "metadata": {},
   "outputs": [
    {
     "data": {
      "text/plain": [
       "0"
      ]
     },
     "execution_count": 182,
     "metadata": {},
     "output_type": "execute_result"
    }
   ],
   "source": [
    "sample = 'apple-banana-pineapple'\n",
    "sample.find('a')"
   ]
  },
  {
   "cell_type": "code",
   "execution_count": 188,
   "id": "dd05d474-ad64-44f3-be02-46f7844cd1ab",
   "metadata": {},
   "outputs": [],
   "source": [
    "#splitting and joining methods\n",
    "\n",
    "#split\n",
    "#join\n"
   ]
  },
  {
   "cell_type": "code",
   "execution_count": 202,
   "id": "8c451533-2855-4b3f-94da-e99905faeddb",
   "metadata": {},
   "outputs": [
    {
     "data": {
      "text/plain": [
       "['Mehran', 'City', 'WagonR']"
      ]
     },
     "execution_count": 202,
     "metadata": {},
     "output_type": "execute_result"
    }
   ],
   "source": [
    "cars = 'Mehran City WagonR'\n",
    "cars.split() #by default whitespace leta hai"
   ]
  },
  {
   "cell_type": "code",
   "execution_count": 206,
   "id": "57144917-67bd-4879-8bae-6ebc71eabc87",
   "metadata": {},
   "outputs": [
    {
     "data": {
      "text/plain": [
       "['Mehran', 'City', 'WagonR']"
      ]
     },
     "execution_count": 206,
     "metadata": {},
     "output_type": "execute_result"
    }
   ],
   "source": [
    "cars = 'Mehran City WagonR'\n",
    "cars.split(\" \")"
   ]
  },
  {
   "cell_type": "code",
   "execution_count": 208,
   "id": "113dff78-ced4-47aa-9d5d-b404abb5f6c6",
   "metadata": {},
   "outputs": [
    {
     "data": {
      "text/plain": [
       "['Mehran-City-WagonR']"
      ]
     },
     "execution_count": 208,
     "metadata": {},
     "output_type": "execute_result"
    }
   ],
   "source": [
    "cars = 'Mehran-City-WagonR'\n",
    "cars.split()"
   ]
  },
  {
   "cell_type": "code",
   "execution_count": 210,
   "id": "07652ed8-4b01-4fdd-a3dc-fa5b83ca1adf",
   "metadata": {},
   "outputs": [
    {
     "data": {
      "text/plain": [
       "['Mehran', 'City', 'WagonR']"
      ]
     },
     "execution_count": 210,
     "metadata": {},
     "output_type": "execute_result"
    }
   ],
   "source": [
    "cars = 'Mehran-City-WagonR'\n",
    "cars.split(\"-\")"
   ]
  },
  {
   "cell_type": "code",
   "execution_count": 242,
   "id": "78464735-55aa-48ec-985d-fa7f2f0275f1",
   "metadata": {},
   "outputs": [
    {
     "data": {
      "text/plain": [
       "['abc', 'ab c', 'abc', 'ef', '']"
      ]
     },
     "execution_count": 242,
     "metadata": {},
     "output_type": "execute_result"
    }
   ],
   "source": [
    "cars = 'abcdab cdabcdefd'\n",
    "cars.split(\"d\")"
   ]
  },
  {
   "cell_type": "code",
   "execution_count": 248,
   "id": "d1239e8e-3798-4241-9cc8-9d6e4c728f06",
   "metadata": {},
   "outputs": [
    {
     "data": {
      "text/plain": [
       "'2021-02-11'"
      ]
     },
     "execution_count": 248,
     "metadata": {},
     "output_type": "execute_result"
    }
   ],
   "source": [
    "joinCars = ['2021', '02', '11']\n",
    "a='-'.join(joinCars)\n",
    "a"
   ]
  },
  {
   "cell_type": "code",
   "execution_count": 250,
   "id": "64fae0a9-44a6-4917-9f7a-6c8962df7265",
   "metadata": {},
   "outputs": [
    {
     "data": {
      "text/plain": [
       "'2021/02/11'"
      ]
     },
     "execution_count": 250,
     "metadata": {},
     "output_type": "execute_result"
    }
   ],
   "source": [
    "joinCars = ['2021', '02', '11']\n",
    "a='/'.join(joinCars)\n",
    "a"
   ]
  },
  {
   "cell_type": "code",
   "execution_count": 252,
   "id": "4846e57a-7291-4f55-9b0f-12b311b6ad64",
   "metadata": {},
   "outputs": [
    {
     "data": {
      "text/plain": [
       "'20210211'"
      ]
     },
     "execution_count": 252,
     "metadata": {},
     "output_type": "execute_result"
    }
   ],
   "source": [
    "joinCars = ['2021', '02', '11']\n",
    "a=''.join(joinCars)\n",
    "a"
   ]
  },
  {
   "cell_type": "code",
   "execution_count": 254,
   "id": "a24f053d-0921-4518-a2d8-d3ccfe2b25f1",
   "metadata": {},
   "outputs": [
    {
     "data": {
      "text/plain": [
       "'2021---02---11'"
      ]
     },
     "execution_count": 254,
     "metadata": {},
     "output_type": "execute_result"
    }
   ],
   "source": [
    "joinCars = ['2021', '02', '11']\n",
    "'---'.join(joinCars)\n"
   ]
  },
  {
   "cell_type": "code",
   "execution_count": 256,
   "id": "b2705f94-ec0a-42b9-b643-7b571fed7bd0",
   "metadata": {},
   "outputs": [],
   "source": [
    "# #practice \n",
    "# Remove the extra spaces from both ends of the string \" Hello World \". \n",
    "# Remove spaces only from the left side of \" Start now\". \n",
    "# Remove trailing spaces from \"Finish Line \". \n",
    "# Replace \"apple\" with \"banana\" in the sentence \"I have an apple\". \n",
    "# Remove the .jpg suffix from \"picture.jpg\". \n",
    "#Remove the \"Mr. \" prefix from \"Mr. John\"."
   ]
  },
  {
   "cell_type": "code",
   "execution_count": 260,
   "id": "ed7db30f-e074-431a-8e66-4303140e2603",
   "metadata": {},
   "outputs": [
    {
     "data": {
      "text/plain": [
       "'Hello World'"
      ]
     },
     "execution_count": 260,
     "metadata": {},
     "output_type": "execute_result"
    }
   ],
   "source": [
    "var1 = \" Hello World \"\n",
    "var1.strip()"
   ]
  },
  {
   "cell_type": "code",
   "execution_count": 262,
   "id": "7f82567b-f0c5-4dcd-beda-678186416157",
   "metadata": {},
   "outputs": [
    {
     "data": {
      "text/plain": [
       "'Start now'"
      ]
     },
     "execution_count": 262,
     "metadata": {},
     "output_type": "execute_result"
    }
   ],
   "source": [
    "var2 = \" Start now\"\n",
    "var2.lstrip()"
   ]
  },
  {
   "cell_type": "code",
   "execution_count": 264,
   "id": "2a30bfdf-e422-43ed-91c9-15633aeb0f02",
   "metadata": {},
   "outputs": [
    {
     "data": {
      "text/plain": [
       "'Finish Line'"
      ]
     },
     "execution_count": 264,
     "metadata": {},
     "output_type": "execute_result"
    }
   ],
   "source": [
    "var3 = \"Finish Line \"\n",
    "var3.rstrip()"
   ]
  },
  {
   "cell_type": "code",
   "execution_count": 266,
   "id": "f383bd5d-b463-4000-bb9a-bbf7d85b319c",
   "metadata": {},
   "outputs": [
    {
     "data": {
      "text/plain": [
       "'I have a banana'"
      ]
     },
     "execution_count": 266,
     "metadata": {},
     "output_type": "execute_result"
    }
   ],
   "source": [
    "fruitTxt = \"I have an apple\"\n",
    "fruitTxt.replace(\"an apple\",\"a banana\")"
   ]
  },
  {
   "cell_type": "code",
   "execution_count": 268,
   "id": "c5c4bb41-2900-42ad-b08e-f4c18ff3aecb",
   "metadata": {},
   "outputs": [
    {
     "data": {
      "text/plain": [
       "'picture'"
      ]
     },
     "execution_count": 268,
     "metadata": {},
     "output_type": "execute_result"
    }
   ],
   "source": [
    "pic1 = \"picture.jpg\"\n",
    "pic1.removesuffix(\".jpg\")"
   ]
  },
  {
   "cell_type": "code",
   "execution_count": 270,
   "id": "b3cc481f-f7a8-4dbd-af13-811ff7cf3991",
   "metadata": {},
   "outputs": [
    {
     "data": {
      "text/plain": [
       "'John'"
      ]
     },
     "execution_count": 270,
     "metadata": {},
     "output_type": "execute_result"
    }
   ],
   "source": [
    "name1 = \"Mr. John\"\n",
    "name1.removeprefix(\"Mr. \")"
   ]
  },
  {
   "cell_type": "code",
   "execution_count": null,
   "id": "004d4db3-3c91-483a-ac19-b5aa2d8d6186",
   "metadata": {},
   "outputs": [],
   "source": []
  }
 ],
 "metadata": {
  "kernelspec": {
   "display_name": "Python [conda env:base] *",
   "language": "python",
   "name": "conda-base-py"
  },
  "language_info": {
   "codemirror_mode": {
    "name": "ipython",
    "version": 3
   },
   "file_extension": ".py",
   "mimetype": "text/x-python",
   "name": "python",
   "nbconvert_exporter": "python",
   "pygments_lexer": "ipython3",
   "version": "3.12.7"
  }
 },
 "nbformat": 4,
 "nbformat_minor": 5
}
