{
 "cells": [
  {
   "cell_type": "markdown",
   "id": "6e87ba88-032f-4fa1-8326-84afd7609464",
   "metadata": {},
   "source": [
    "# markdown #heading1"
   ]
  },
  {
   "cell_type": "raw",
   "id": "dd02e17e-ddd6-4bd6-9ba0-9f8004277b06",
   "metadata": {},
   "source": [
    "raw"
   ]
  },
  {
   "cell_type": "code",
   "execution_count": 3,
   "id": "8bf16838-12e9-4441-ba41-27a21dae0d55",
   "metadata": {},
   "outputs": [],
   "source": [
    "#code"
   ]
  },
  {
   "cell_type": "code",
   "execution_count": 5,
   "id": "726ab6ba-e970-4df5-ba05-c5b744c4fb08",
   "metadata": {},
   "outputs": [
    {
     "data": {
      "text/plain": [
       "'we are learning python \\nImran Khan Zindabad\\n'"
      ]
     },
     "execution_count": 5,
     "metadata": {},
     "output_type": "execute_result"
    }
   ],
   "source": [
    "\"\"\"we are learning python \n",
    "Imran Khan Zindabad\n",
    "\"\"\""
   ]
  },
  {
   "cell_type": "code",
   "execution_count": 13,
   "id": "13e39489-8702-40de-9448-5055c025e910",
   "metadata": {},
   "outputs": [
    {
     "data": {
      "text/plain": [
       "'we are learning python \\nImran Khan Zindabad\\n'"
      ]
     },
     "execution_count": 13,
     "metadata": {},
     "output_type": "execute_result"
    }
   ],
   "source": [
    "'''we are learning python \n",
    "Imran Khan Zindabad\n",
    "'''"
   ]
  },
  {
   "cell_type": "code",
   "execution_count": 11,
   "id": "169c3f1e-71ac-418f-a8f1-467d42f04a2e",
   "metadata": {},
   "outputs": [
    {
     "ename": "SyntaxError",
     "evalue": "unterminated string literal (detected at line 1) (1284005934.py, line 1)",
     "output_type": "error",
     "traceback": [
      "\u001b[1;36m  Cell \u001b[1;32mIn[11], line 1\u001b[1;36m\u001b[0m\n\u001b[1;33m    \"We are learning Python\u001b[0m\n\u001b[1;37m    ^\u001b[0m\n\u001b[1;31mSyntaxError\u001b[0m\u001b[1;31m:\u001b[0m unterminated string literal (detected at line 1)\n"
     ]
    }
   ],
   "source": [
    "\"We are learning Python \n",
    "Imran Khan Zindabad\n",
    "\""
   ]
  },
  {
   "cell_type": "code",
   "execution_count": 9,
   "id": "be077916-9c39-48c5-a384-fa5c5c1e6360",
   "metadata": {},
   "outputs": [
    {
     "ename": "SyntaxError",
     "evalue": "unterminated string literal (detected at line 1) (1529735542.py, line 1)",
     "output_type": "error",
     "traceback": [
      "\u001b[1;36m  Cell \u001b[1;32mIn[9], line 1\u001b[1;36m\u001b[0m\n\u001b[1;33m    'we are learning python\u001b[0m\n\u001b[1;37m    ^\u001b[0m\n\u001b[1;31mSyntaxError\u001b[0m\u001b[1;31m:\u001b[0m unterminated string literal (detected at line 1)\n"
     ]
    }
   ],
   "source": [
    "'we are learning python \n",
    "Imran Khan Zindabad'\n"
   ]
  },
  {
   "cell_type": "code",
   "execution_count": 19,
   "id": "7a2b79d5-8a1f-4625-a4b0-e48b3324139e",
   "metadata": {},
   "outputs": [
    {
     "data": {
      "text/plain": [
       "3"
      ]
     },
     "execution_count": 19,
     "metadata": {},
     "output_type": "execute_result"
    }
   ],
   "source": [
    "var_mixed= 3\n",
    "mixed = [1, \"hello\", True, 3.14, var_mixed]\n",
    "mixed[1]\n",
    "type(mixed)\n",
    "mixed[4]\n",
    "# When I write it in one cell sirf last wala output return horaha so we will write with print"
   ]
  },
  {
   "cell_type": "code",
   "execution_count": 23,
   "id": "93b74ebc-9931-44b6-bb3d-4b27f0732ca2",
   "metadata": {},
   "outputs": [
    {
     "name": "stdout",
     "output_type": "stream",
     "text": [
      "hello\n",
      "<class 'list'>\n",
      "3\n",
      "[1, 'hello', True, 3.14, 3]\n"
     ]
    },
    {
     "data": {
      "text/plain": [
       "5"
      ]
     },
     "execution_count": 23,
     "metadata": {},
     "output_type": "execute_result"
    }
   ],
   "source": [
    "var_mixed= 3\n",
    "mixed = [1, \"hello\", True, 3.14, var_mixed]\n",
    "print(mixed[1])\n",
    "print(type(mixed))\n",
    "print(mixed[4])\n",
    "print(mixed)\n",
    "len(mixed)"
   ]
  },
  {
   "cell_type": "code",
   "execution_count": null,
   "id": "91bd2334-1e40-43f3-b1fe-55b200c789d2",
   "metadata": {},
   "outputs": [],
   "source": []
  }
 ],
 "metadata": {
  "kernelspec": {
   "display_name": "Python [conda env:base] *",
   "language": "python",
   "name": "conda-base-py"
  },
  "language_info": {
   "codemirror_mode": {
    "name": "ipython",
    "version": 3
   },
   "file_extension": ".py",
   "mimetype": "text/x-python",
   "name": "python",
   "nbconvert_exporter": "python",
   "pygments_lexer": "ipython3",
   "version": "3.12.7"
  }
 },
 "nbformat": 4,
 "nbformat_minor": 5
}
