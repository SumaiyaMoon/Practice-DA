{
 "cells": [
  {
   "cell_type": "markdown",
   "id": "cc41435f-7dd4-4916-98f2-e8a4b35ca8b1",
   "metadata": {},
   "source": [
    "## LAMBDA FUNCTION"
   ]
  },
  {
   "cell_type": "code",
   "execution_count": 2,
   "id": "02247e2a-af51-4e86-9d0b-851092f3b170",
   "metadata": {},
   "outputs": [
    {
     "name": "stdout",
     "output_type": "stream",
     "text": [
      "25\n"
     ]
    }
   ],
   "source": [
    "square = lambda x: x**2\n",
    "print(square(5))"
   ]
  },
  {
   "cell_type": "code",
   "execution_count": 3,
   "id": "3a282a06-bd96-49f3-a025-ded8651deedc",
   "metadata": {},
   "outputs": [
    {
     "data": {
      "text/plain": [
       "5"
      ]
     },
     "execution_count": 3,
     "metadata": {},
     "output_type": "execute_result"
    }
   ],
   "source": [
    "add = lambda x,y: x+y\n",
    "add(2,3)"
   ]
  },
  {
   "cell_type": "markdown",
   "id": "12543db8-f790-4bbf-afa0-7ff2ec538733",
   "metadata": {},
   "source": [
    "## Nested Function"
   ]
  },
  {
   "cell_type": "code",
   "execution_count": 5,
   "id": "27718a1c-aaca-417b-83d5-7722cb8d1a02",
   "metadata": {},
   "outputs": [
    {
     "name": "stdout",
     "output_type": "stream",
     "text": [
      "outer variable: 5\n",
      "inner variable: 10\n",
      "outer variable inside outer function: 5\n"
     ]
    }
   ],
   "source": [
    "def outer_function(outer_variable):\n",
    "    def inner_function(inner_variable):\n",
    "        print(f'outer variable: {outer_variable}')\n",
    "        print(f'inner variable: {inner_variable}')\n",
    "    inner_function(10)\n",
    "    print(f'outer variable inside outer function: {outer_variable}')\n",
    "outer_function(5)"
   ]
  },
  {
   "cell_type": "code",
   "execution_count": 6,
   "id": "3c2f9e4c-0a4b-4f4c-8f91-12ad7fe29850",
   "metadata": {},
   "outputs": [
    {
     "name": "stdout",
     "output_type": "stream",
     "text": [
      "outer variable inside outer function: 5\n",
      "outer variable: 5\n",
      "inner variable: 10\n"
     ]
    }
   ],
   "source": [
    "#difference in order of output\n",
    "\n",
    "def outer_function(outer_variable):\n",
    "    def inner_function(inner_variable):\n",
    "        print(f'outer variable: {outer_variable}')\n",
    "        print(f'inner variable: {inner_variable}')\n",
    "\n",
    "    print(f'outer variable inside outer function: {outer_variable}')\n",
    "    inner_function(10)\n",
    "outer_function(5)\n"
   ]
  },
  {
   "cell_type": "markdown",
   "id": "ea97ce08-4ede-42b5-ad3f-7a6d05381e65",
   "metadata": {},
   "source": [
    "# OOP - Object Oriented Programming"
   ]
  },
  {
   "cell_type": "code",
   "execution_count": 8,
   "id": "908160be-0da6-4301-ae82-5e359a6e49fd",
   "metadata": {},
   "outputs": [],
   "source": [
    "name= 'ali'"
   ]
  },
  {
   "cell_type": "code",
   "execution_count": 9,
   "id": "a6076981-872a-442e-96c6-4c85f0fd9ab5",
   "metadata": {},
   "outputs": [
    {
     "name": "stdout",
     "output_type": "stream",
     "text": [
      "<class 'str'>\n"
     ]
    }
   ],
   "source": [
    "print(type(name))"
   ]
  },
  {
   "cell_type": "markdown",
   "id": "cad223e5-d624-4d5f-8b61-181bacc79a85",
   "metadata": {},
   "source": [
    "## Class, it's attributes and methods"
   ]
  },
  {
   "cell_type": "code",
   "execution_count": 11,
   "id": "2545b32a-9072-463d-8b0c-079d38380a3e",
   "metadata": {},
   "outputs": [],
   "source": [
    "#defining class\n",
    "\n",
    "class Student1:\n",
    "    def greet(): #function inside class - method #self parameter dengy\n",
    "        print('Welcome')\n"
   ]
  },
  {
   "cell_type": "code",
   "execution_count": 12,
   "id": "33a9a0a3-4fdb-4128-aad6-77a54a9bf227",
   "metadata": {},
   "outputs": [
    {
     "data": {
      "text/plain": [
       "<__main__.Student1 at 0x1e5134ade80>"
      ]
     },
     "execution_count": 12,
     "metadata": {},
     "output_type": "execute_result"
    }
   ],
   "source": [
    "stud1 = Student1()\n",
    "stud1"
   ]
  },
  {
   "cell_type": "code",
   "execution_count": 13,
   "id": "056adf54-8eb2-47f5-8799-91a8c3a507b3",
   "metadata": {},
   "outputs": [],
   "source": [
    "# <__main__.Student at 0x16efd65c3e0> - code - stud is an object"
   ]
  },
  {
   "cell_type": "code",
   "execution_count": 14,
   "id": "04d8a167-97b3-41c7-8384-d9798327d3b9",
   "metadata": {},
   "outputs": [
    {
     "ename": "TypeError",
     "evalue": "Student1.greet() takes 0 positional arguments but 1 was given",
     "output_type": "error",
     "traceback": [
      "\u001b[1;31m---------------------------------------------------------------------------\u001b[0m",
      "\u001b[1;31mTypeError\u001b[0m                                 Traceback (most recent call last)",
      "Cell \u001b[1;32mIn[14], line 1\u001b[0m\n\u001b[1;32m----> 1\u001b[0m stud1\u001b[38;5;241m.\u001b[39mgreet()\n",
      "\u001b[1;31mTypeError\u001b[0m: Student1.greet() takes 0 positional arguments but 1 was given"
     ]
    }
   ],
   "source": [
    "stud1.greet() #self parameter wasn't given"
   ]
  },
  {
   "cell_type": "markdown",
   "id": "9723a911-1840-44ab-81ed-6d51e0e8aa53",
   "metadata": {},
   "source": [
    "### self\n",
    "self in Python refers to the instance of a class. When a method is called on an object, Python automatically passes the object itself as the first argument, which is conventionally named self. It allows access to the attributes and methods of the class within the scope of the instance."
   ]
  },
  {
   "cell_type": "code",
   "execution_count": 16,
   "id": "0a392a82-e498-4f48-b084-3607cd6bfae1",
   "metadata": {},
   "outputs": [],
   "source": [
    "#defining class\n",
    "\n",
    "class Student2:\n",
    "    def greet(name): #function inside class - method #self parameter dengy #here self= name\n",
    "        print('Welcome')\n"
   ]
  },
  {
   "cell_type": "code",
   "execution_count": 18,
   "id": "9bf3c512-08c6-42c5-906b-cc1e1a802bcc",
   "metadata": {},
   "outputs": [],
   "source": [
    "stud2= Student2() #greet ko automatically aik argument pass hua hai stud - self parameter deden"
   ]
  },
  {
   "cell_type": "code",
   "execution_count": 20,
   "id": "8ac9da13-c099-4ab9-ad0c-1033d4bba7dc",
   "metadata": {},
   "outputs": [
    {
     "name": "stdout",
     "output_type": "stream",
     "text": [
      "Welcome\n"
     ]
    }
   ],
   "source": [
    "stud2.greet() "
   ]
  },
  {
   "cell_type": "code",
   "execution_count": 30,
   "id": "f3317457-4741-4adb-8713-76982ac0fa52",
   "metadata": {},
   "outputs": [],
   "source": [
    "class Student:\n",
    "    def greet(self, name, age):\n",
    "        self.name1 = name\n",
    "        self.age1 = age\n",
    "        print(\"Welcome\")\n",
    "    def subj(self):\n",
    "        print(\"we are learning oop\")"
   ]
  },
  {
   "cell_type": "code",
   "execution_count": 32,
   "id": "730fa2ac-8a0c-40a8-a3f7-23279af824a3",
   "metadata": {},
   "outputs": [
    {
     "name": "stdout",
     "output_type": "stream",
     "text": [
      "Welcome\n"
     ]
    }
   ],
   "source": [
    "stud = Student()\n",
    "stud.greet('sana',12)"
   ]
  },
  {
   "cell_type": "code",
   "execution_count": 34,
   "id": "98a4e23d-00da-4553-a642-8e2f5de3174d",
   "metadata": {},
   "outputs": [
    {
     "name": "stdout",
     "output_type": "stream",
     "text": [
      "we are learning oop\n"
     ]
    }
   ],
   "source": [
    "stud.subj()"
   ]
  },
  {
   "cell_type": "code",
   "execution_count": 38,
   "id": "a350b310-a6be-4a8a-b77a-cb086dd8584d",
   "metadata": {},
   "outputs": [
    {
     "data": {
      "text/plain": [
       "['__class__',\n",
       " '__delattr__',\n",
       " '__dict__',\n",
       " '__dir__',\n",
       " '__doc__',\n",
       " '__eq__',\n",
       " '__format__',\n",
       " '__ge__',\n",
       " '__getattribute__',\n",
       " '__getstate__',\n",
       " '__gt__',\n",
       " '__hash__',\n",
       " '__init__',\n",
       " '__init_subclass__',\n",
       " '__le__',\n",
       " '__lt__',\n",
       " '__module__',\n",
       " '__ne__',\n",
       " '__new__',\n",
       " '__reduce__',\n",
       " '__reduce_ex__',\n",
       " '__repr__',\n",
       " '__setattr__',\n",
       " '__sizeof__',\n",
       " '__str__',\n",
       " '__subclasshook__',\n",
       " '__weakref__',\n",
       " 'greet',\n",
       " 'subj']"
      ]
     },
     "execution_count": 38,
     "metadata": {},
     "output_type": "execute_result"
    }
   ],
   "source": [
    "dir(Student)"
   ]
  },
  {
   "cell_type": "code",
   "execution_count": 42,
   "id": "c36bf770-70ce-4cbf-a2f2-b7786030209d",
   "metadata": {},
   "outputs": [],
   "source": [
    "class School:\n",
    "    def __init__(self,name,location):\n",
    "        self.name = name\n",
    "        self.location= location\n",
    "    def greet(self, name, age):\n",
    "        self.name1 = name\n",
    "        self.age1 = age\n",
    "        print(\"Welcome\")"
   ]
  },
  {
   "cell_type": "code",
   "execution_count": 44,
   "id": "acb72bbe-84bb-4c94-b31c-e94e277a9706",
   "metadata": {},
   "outputs": [],
   "source": [
    "school = School(\"The Smart School\", 'Karachi')"
   ]
  },
  {
   "cell_type": "code",
   "execution_count": 46,
   "id": "4fd30c45-65c1-4591-adb1-a9c1cb019093",
   "metadata": {},
   "outputs": [
    {
     "data": {
      "text/plain": [
       "'The Smart School'"
      ]
     },
     "execution_count": 46,
     "metadata": {},
     "output_type": "execute_result"
    }
   ],
   "source": [
    "school.name"
   ]
  },
  {
   "cell_type": "code",
   "execution_count": null,
   "id": "e7b28f5b-185d-4eb3-80ff-35ddc3c2ab3e",
   "metadata": {},
   "outputs": [],
   "source": []
  }
 ],
 "metadata": {
  "kernelspec": {
   "display_name": "Python [conda env:base] *",
   "language": "python",
   "name": "conda-base-py"
  },
  "language_info": {
   "codemirror_mode": {
    "name": "ipython",
    "version": 3
   },
   "file_extension": ".py",
   "mimetype": "text/x-python",
   "name": "python",
   "nbconvert_exporter": "python",
   "pygments_lexer": "ipython3",
   "version": "3.12.7"
  }
 },
 "nbformat": 4,
 "nbformat_minor": 5
}
