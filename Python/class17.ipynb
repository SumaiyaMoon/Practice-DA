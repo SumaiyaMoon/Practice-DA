{
 "cells": [
  {
   "cell_type": "code",
   "execution_count": 1,
   "id": "7136fe36-da3f-4c47-aecc-8e13ece28f08",
   "metadata": {},
   "outputs": [
    {
     "name": "stdout",
     "output_type": "stream",
     "text": [
      "Alice is working as an employee.\n",
      "Bob is managing the team.\n"
     ]
    }
   ],
   "source": [
    "class Employee:\n",
    "    def __init__(self, name, salary, age):\n",
    "        self.name = name\n",
    "        self.salary = salary\n",
    "        self.age = age\n",
    "\n",
    "    def work(self):\n",
    "        print(f\"{self.name} is working as an employee.\")\n",
    "\n",
    "class Manager(Employee):\n",
    "    def work(self):\n",
    "        print(f\"{self.name} is managing the team.\")\n",
    "\n",
    "# Creating objects\n",
    "emp1 = Employee(\"Alice\", 40000, 28)\n",
    "mgr1 = Manager(\"Bob\", 70000, 35)\n",
    "\n",
    "# Calling methods\n",
    "emp1.work()\n",
    "mgr1.work()\n"
   ]
  },
  {
   "cell_type": "markdown",
   "id": "518710ef-e9a8-4a62-9e9a-f50c92b18f0e",
   "metadata": {},
   "source": [
    "# Inheritance"
   ]
  },
  {
   "cell_type": "code",
   "execution_count": 3,
   "id": "56191afd-396d-49c1-9e56-af559476daa1",
   "metadata": {},
   "outputs": [
    {
     "name": "stdout",
     "output_type": "stream",
     "text": [
      "Alice is working as an employee.\n",
      "Bob is managing the Sales department.\n"
     ]
    }
   ],
   "source": [
    "# Parent class\n",
    "class Employee:\n",
    "    def __init__(self, name, salary, age):\n",
    "        self.name = name\n",
    "        self.salary = salary\n",
    "        self.age = age\n",
    "\n",
    "    def work(self):\n",
    "        print(f\"{self.name} is working as an employee.\")\n",
    "\n",
    "# Child class inheriting from Employee\n",
    "class Manager(Employee):\n",
    "    def __init__(self, name, salary, age, department):\n",
    "        # Call the constructor of the parent class\n",
    "        super().__init__(name, salary, age)\n",
    "        self.department = department\n",
    "\n",
    "    def work(self):\n",
    "        print(f\"{self.name} is managing the {self.department} department.\")\n",
    "\n",
    "# Creating objects\n",
    "emp = Employee(\"Alice\", 40000, 28)\n",
    "mgr = Manager(\"Bob\", 70000, 35, \"Sales\")\n",
    "\n",
    "# Calling methods\n",
    "emp.work()     # Inherited method from Employee\n",
    "mgr.work()     # Overridden method in Manager\n"
   ]
  },
  {
   "cell_type": "code",
   "execution_count": 6,
   "id": "6b428a5b-6d70-4783-b3b9-dc8b2d09d640",
   "metadata": {},
   "outputs": [
    {
     "name": "stdout",
     "output_type": "stream",
     "text": [
      "Charlie is writing code in Python.\n"
     ]
    }
   ],
   "source": [
    "# Child class: Developer\n",
    "class Developer(Employee):\n",
    "    def __init__(self, name, salary, age, language):\n",
    "        super().__init__(name, salary, age)\n",
    "        self.language = language\n",
    "\n",
    "    def work(self):\n",
    "        print(f\"{self.name} is writing code in {self.language}.\")\n",
    "\n",
    "dev = Developer(\"Charlie\", 50000, 25, \"Python\")\n",
    "dev.work()\n"
   ]
  },
  {
   "cell_type": "markdown",
   "id": "f0cbd22f-861f-4a91-8a61-b8475903e274",
   "metadata": {},
   "source": [
    "# Polymorphism"
   ]
  },
  {
   "cell_type": "code",
   "execution_count": 9,
   "id": "5482d449-6fc8-4ca7-b5ab-d85a09efc7f4",
   "metadata": {},
   "outputs": [
    {
     "name": "stdout",
     "output_type": "stream",
     "text": [
      "Employee is working.\n",
      "Manager is managing.\n",
      "Developer is coding.\n"
     ]
    }
   ],
   "source": [
    "class Employee:\n",
    "    def work(self):\n",
    "        print(\"Employee is working.\")\n",
    "\n",
    "class Manager(Employee):\n",
    "    def work(self):\n",
    "        print(\"Manager is managing.\")\n",
    "\n",
    "class Developer(Employee):\n",
    "    def work(self):\n",
    "        print(\"Developer is coding.\")\n",
    "\n",
    "# Function that uses polymorphism\n",
    "def start_work(emp):\n",
    "    emp.work()\n",
    "\n",
    "# Objects\n",
    "e = Employee()\n",
    "m = Manager()\n",
    "d = Developer()\n",
    "\n",
    "# Calling same method using different objects\n",
    "start_work(e)\n",
    "start_work(m)\n",
    "start_work(d)\n"
   ]
  },
  {
   "cell_type": "code",
   "execution_count": null,
   "id": "36943239-e02e-4ef1-a444-4c8e115988bc",
   "metadata": {},
   "outputs": [],
   "source": []
  }
 ],
 "metadata": {
  "kernelspec": {
   "display_name": "Python [conda env:base] *",
   "language": "python",
   "name": "conda-base-py"
  },
  "language_info": {
   "codemirror_mode": {
    "name": "ipython",
    "version": 3
   },
   "file_extension": ".py",
   "mimetype": "text/x-python",
   "name": "python",
   "nbconvert_exporter": "python",
   "pygments_lexer": "ipython3",
   "version": "3.12.7"
  }
 },
 "nbformat": 4,
 "nbformat_minor": 5
}
