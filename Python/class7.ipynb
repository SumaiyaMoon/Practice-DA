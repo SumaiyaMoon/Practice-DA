{
 "cells": [
  {
   "cell_type": "markdown",
   "id": "5bf4a142-091c-4a73-abea-1e1549f61eae",
   "metadata": {},
   "source": [
    "### Comparison Operator (==, !=, <, >, >=, <=)"
   ]
  },
  {
   "cell_type": "code",
   "execution_count": 9,
   "id": "6342971e-cf9b-46f0-9b25-4f0957ac0e7c",
   "metadata": {},
   "outputs": [],
   "source": [
    "x=1\n",
    "y=2\n",
    "z=4\n",
    "p=9\n",
    "a=5\n",
    "b=6\n",
    "u=2"
   ]
  },
  {
   "cell_type": "code",
   "execution_count": 5,
   "id": "968825c7-67e7-4c85-bd11-8db04b003254",
   "metadata": {},
   "outputs": [
    {
     "data": {
      "text/plain": [
       "False"
      ]
     },
     "execution_count": 5,
     "metadata": {},
     "output_type": "execute_result"
    }
   ],
   "source": [
    "x>y"
   ]
  },
  {
   "cell_type": "code",
   "execution_count": 7,
   "id": "ae535234-5c2b-430e-ae8b-48f4f4e8252f",
   "metadata": {},
   "outputs": [
    {
     "data": {
      "text/plain": [
       "True"
      ]
     },
     "execution_count": 7,
     "metadata": {},
     "output_type": "execute_result"
    }
   ],
   "source": [
    "u==u"
   ]
  },
  {
   "cell_type": "code",
   "execution_count": 11,
   "id": "8d0a575d-e1b0-4a95-bc40-f3660c2ebe71",
   "metadata": {},
   "outputs": [
    {
     "data": {
      "text/plain": [
       "True"
      ]
     },
     "execution_count": 11,
     "metadata": {},
     "output_type": "execute_result"
    }
   ],
   "source": [
    "a != b"
   ]
  },
  {
   "cell_type": "code",
   "execution_count": 21,
   "id": "ab94a122-fbeb-42f3-a25a-c829e9f9b9fa",
   "metadata": {},
   "outputs": [
    {
     "data": {
      "text/plain": [
       "[\"'b' is not recognized as an internal or external command,\",\n",
       " 'operable program or batch file.']"
      ]
     },
     "execution_count": 21,
     "metadata": {},
     "output_type": "execute_result"
    }
   ],
   "source": [
    "a =! b #idhr ye smjh raha a ko value assign horhi\n",
    "a"
   ]
  },
  {
   "cell_type": "code",
   "execution_count": 15,
   "id": "e7d01172-3810-4584-be3a-70bf34799403",
   "metadata": {},
   "outputs": [
    {
     "ename": "SyntaxError",
     "evalue": "invalid syntax (2951695133.py, line 1)",
     "output_type": "error",
     "traceback": [
      "\u001b[1;36m  Cell \u001b[1;32mIn[15], line 1\u001b[1;36m\u001b[0m\n\u001b[1;33m    print(a =! b)\u001b[0m\n\u001b[1;37m             ^\u001b[0m\n\u001b[1;31mSyntaxError\u001b[0m\u001b[1;31m:\u001b[0m invalid syntax\n"
     ]
    }
   ],
   "source": [
    "print(a =! b)"
   ]
  },
  {
   "cell_type": "code",
   "execution_count": 17,
   "id": "3ee05ff0-2a34-478e-9b18-242f5d4117fb",
   "metadata": {},
   "outputs": [
    {
     "ename": "SyntaxError",
     "evalue": "invalid syntax (2933804096.py, line 1)",
     "output_type": "error",
     "traceback": [
      "\u001b[1;36m  Cell \u001b[1;32mIn[17], line 1\u001b[1;36m\u001b[0m\n\u001b[1;33m    a ==! b\u001b[0m\n\u001b[1;37m        ^\u001b[0m\n\u001b[1;31mSyntaxError\u001b[0m\u001b[1;31m:\u001b[0m invalid syntax\n"
     ]
    }
   ],
   "source": [
    "a ==! b"
   ]
  },
  {
   "cell_type": "code",
   "execution_count": 19,
   "id": "e4d3d9ea-0f46-47a3-a521-b44ef3934b30",
   "metadata": {},
   "outputs": [
    {
     "ename": "SyntaxError",
     "evalue": "invalid syntax (2461709867.py, line 1)",
     "output_type": "error",
     "traceback": [
      "\u001b[1;36m  Cell \u001b[1;32mIn[19], line 1\u001b[1;36m\u001b[0m\n\u001b[1;33m    a !== b\u001b[0m\n\u001b[1;37m        ^\u001b[0m\n\u001b[1;31mSyntaxError\u001b[0m\u001b[1;31m:\u001b[0m invalid syntax\n"
     ]
    }
   ],
   "source": [
    "a !== b"
   ]
  },
  {
   "cell_type": "code",
   "execution_count": 23,
   "id": "ad63219e-b7f2-4c2d-826a-78f03274b39a",
   "metadata": {},
   "outputs": [],
   "source": [
    "x=1\n",
    "y=2\n",
    "z=4\n",
    "p=9\n",
    "a=5\n",
    "b=6\n",
    "u=2"
   ]
  },
  {
   "cell_type": "code",
   "execution_count": 25,
   "id": "2b4b81b0-dbf7-45d8-a28f-0f5e12ecc09d",
   "metadata": {},
   "outputs": [
    {
     "data": {
      "text/plain": [
       "False"
      ]
     },
     "execution_count": 25,
     "metadata": {},
     "output_type": "execute_result"
    }
   ],
   "source": [
    "u >= a"
   ]
  },
  {
   "cell_type": "code",
   "execution_count": 43,
   "id": "68aa0e27-fe93-43ac-aacd-af9c3618303f",
   "metadata": {},
   "outputs": [
    {
     "ename": "SyntaxError",
     "evalue": "invalid syntax (1097071928.py, line 1)",
     "output_type": "error",
     "traceback": [
      "\u001b[1;36m  Cell \u001b[1;32mIn[43], line 1\u001b[1;36m\u001b[0m\n\u001b[1;33m    u =< a\u001b[0m\n\u001b[1;37m       ^\u001b[0m\n\u001b[1;31mSyntaxError\u001b[0m\u001b[1;31m:\u001b[0m invalid syntax\n"
     ]
    }
   ],
   "source": [
    "u =< a"
   ]
  },
  {
   "cell_type": "code",
   "execution_count": 45,
   "id": "c6f42fc2-b69b-4c46-9fdf-c94f9c9e5edb",
   "metadata": {},
   "outputs": [
    {
     "data": {
      "text/plain": [
       "True"
      ]
     },
     "execution_count": 45,
     "metadata": {},
     "output_type": "execute_result"
    }
   ],
   "source": [
    "u <= a"
   ]
  },
  {
   "cell_type": "code",
   "execution_count": 27,
   "id": "310acd5d-029a-4c24-940c-d2bc3ea40a7d",
   "metadata": {},
   "outputs": [
    {
     "data": {
      "text/plain": [
       "True"
      ]
     },
     "execution_count": 27,
     "metadata": {},
     "output_type": "execute_result"
    }
   ],
   "source": [
    "100 > 22"
   ]
  },
  {
   "cell_type": "code",
   "execution_count": 29,
   "id": "20be1925-c98a-49f6-bace-ec7fd1b39d57",
   "metadata": {},
   "outputs": [
    {
     "data": {
      "text/plain": [
       "True"
      ]
     },
     "execution_count": 29,
     "metadata": {},
     "output_type": "execute_result"
    }
   ],
   "source": [
    "(a+b)>u"
   ]
  },
  {
   "cell_type": "code",
   "execution_count": 31,
   "id": "19c3f32b-7672-49e0-80e4-bce2ccac63a2",
   "metadata": {},
   "outputs": [
    {
     "data": {
      "text/plain": [
       "False"
      ]
     },
     "execution_count": 31,
     "metadata": {},
     "output_type": "execute_result"
    }
   ],
   "source": [
    "(22+1) < 1"
   ]
  },
  {
   "cell_type": "code",
   "execution_count": 53,
   "id": "4c82abae-4802-4938-95ac-dca543b28a65",
   "metadata": {},
   "outputs": [
    {
     "data": {
      "text/plain": [
       "True"
      ]
     },
     "execution_count": 53,
     "metadata": {},
     "output_type": "execute_result"
    }
   ],
   "source": [
    "str1 = \"cat\"\n",
    "str2 = \"dog\"\n",
    "str1 != str2"
   ]
  },
  {
   "cell_type": "code",
   "execution_count": 55,
   "id": "37af8596-f09e-4bd3-bf81-539f223d536f",
   "metadata": {},
   "outputs": [
    {
     "name": "stdout",
     "output_type": "stream",
     "text": [
      "True\n",
      "False\n"
     ]
    }
   ],
   "source": [
    "# Check if a person is old enough to vote( age >= 18). Just print the boolean result\n",
    "age1 = 33 \n",
    "age2 = 10\n",
    "print(age1>=18)\n",
    "print(age2>=18)"
   ]
  },
  {
   "cell_type": "code",
   "execution_count": 57,
   "id": "44b6f060-6ba0-4d1e-a15b-d5f738f3e399",
   "metadata": {},
   "outputs": [
    {
     "name": "stdout",
     "output_type": "stream",
     "text": [
      "True\n"
     ]
    }
   ],
   "source": [
    "s1='hello'\n",
    "s2='world'\n",
    "print(len(s1)==len(s2))"
   ]
  },
  {
   "cell_type": "code",
   "execution_count": 61,
   "id": "400e438c-bff0-4d76-bc45-bbbdca08930b",
   "metadata": {},
   "outputs": [
    {
     "name": "stdout",
     "output_type": "stream",
     "text": [
      "False\n"
     ]
    }
   ],
   "source": [
    "# Compare the lengths of two lists and check if the first is longer\n",
    "fruits =['apple', 'mango', 'cherry']\n",
    "vegetables = ['carrot', 'brinjal']\n",
    "print(len(fruits)==len(vegetables))"
   ]
  },
  {
   "cell_type": "code",
   "execution_count": 63,
   "id": "94648dcd-945e-46f0-be67-ca22334aa6b0",
   "metadata": {},
   "outputs": [
    {
     "data": {
      "text/plain": [
       "False"
      ]
     },
     "execution_count": 63,
     "metadata": {},
     "output_type": "execute_result"
    }
   ],
   "source": [
    "fruits == vegetables"
   ]
  },
  {
   "cell_type": "code",
   "execution_count": 67,
   "id": "e575189b-7899-439f-95b6-5b0d6389723d",
   "metadata": {},
   "outputs": [
    {
     "name": "stdout",
     "output_type": "stream",
     "text": [
      "True\n"
     ]
    }
   ],
   "source": [
    "l1 =['apple', 'mango', 'cherry']\n",
    "l2 = ['apple', 'mango', 'cherry']\n",
    "print(l1 == l2)"
   ]
  },
  {
   "cell_type": "code",
   "execution_count": 77,
   "id": "bfc0fb08-8803-4048-8e11-f61ffe598432",
   "metadata": {},
   "outputs": [
    {
     "name": "stdout",
     "output_type": "stream",
     "text": [
      "False\n"
     ]
    }
   ],
   "source": [
    "l1 =['apple', 'mango', 'cherry']\n",
    "l2 = ['cherry', 'apple', 'mango',]\n",
    "print(l1 == l2)"
   ]
  },
  {
   "cell_type": "code",
   "execution_count": 73,
   "id": "35ac1f60-c176-4ccd-ae76-4970e77433d1",
   "metadata": {},
   "outputs": [
    {
     "name": "stdout",
     "output_type": "stream",
     "text": [
      "False\n"
     ]
    }
   ],
   "source": [
    "fruits =['apple', 'mango', 'cherry']\n",
    "vegetables = ['carrot', 'brinjal', 'potato']\n",
    "print(fruits==vegetables)"
   ]
  },
  {
   "cell_type": "code",
   "execution_count": 71,
   "id": "1c09775b-1f50-40bc-9c2c-f7389e503589",
   "metadata": {},
   "outputs": [
    {
     "data": {
      "text/plain": [
       "False"
      ]
     },
     "execution_count": 71,
     "metadata": {},
     "output_type": "execute_result"
    }
   ],
   "source": [
    "str1 = \"cat\"\n",
    "str2 = \"dog\"\n",
    "str1 == str2"
   ]
  },
  {
   "cell_type": "markdown",
   "id": "81c8f18f-3ba0-40c0-8490-bb2b14e93c3b",
   "metadata": {},
   "source": [
    "### Logical Operators (and, or, not)"
   ]
  },
  {
   "cell_type": "code",
   "execution_count": 75,
   "id": "9a6c812e-6e40-4fe7-b20c-2185e5858164",
   "metadata": {},
   "outputs": [],
   "source": [
    "x=1\n",
    "y=2\n",
    "z=4\n",
    "p=9\n",
    "a=5\n",
    "b=6\n",
    "u=2"
   ]
  },
  {
   "cell_type": "code",
   "execution_count": 89,
   "id": "4c245d88-1986-4ca5-8675-29be4e665790",
   "metadata": {},
   "outputs": [
    {
     "data": {
      "text/plain": [
       "False"
      ]
     },
     "execution_count": 89,
     "metadata": {},
     "output_type": "execute_result"
    }
   ],
   "source": [
    "x==x and x==y #checking both conditions"
   ]
  },
  {
   "cell_type": "code",
   "execution_count": 91,
   "id": "4442c611-c5da-4d59-a5b4-6dcb17876721",
   "metadata": {},
   "outputs": [
    {
     "data": {
      "text/plain": [
       "True"
      ]
     },
     "execution_count": 91,
     "metadata": {},
     "output_type": "execute_result"
    }
   ],
   "source": [
    "33 > 11 or 22 < 11 #checking only one condition"
   ]
  },
  {
   "cell_type": "code",
   "execution_count": 111,
   "id": "978e1772-48ab-4f37-9738-249100e73f32",
   "metadata": {},
   "outputs": [
    {
     "data": {
      "text/plain": [
       "True"
      ]
     },
     "execution_count": 111,
     "metadata": {},
     "output_type": "execute_result"
    }
   ],
   "source": [
    "12 > 2 or 1 > 9"
   ]
  },
  {
   "cell_type": "code",
   "execution_count": 113,
   "id": "cd23fbd1-e59f-4167-accf-752eff1ed23e",
   "metadata": {},
   "outputs": [
    {
     "data": {
      "text/plain": [
       "True"
      ]
     },
     "execution_count": 113,
     "metadata": {},
     "output_type": "execute_result"
    }
   ],
   "source": [
    "1>2 or (11>9 and 9==9)"
   ]
  },
  {
   "cell_type": "code",
   "execution_count": 115,
   "id": "f6c1acb6-3dc0-4920-b13b-43d084ff989d",
   "metadata": {},
   "outputs": [
    {
     "data": {
      "text/plain": [
       "False"
      ]
     },
     "execution_count": 115,
     "metadata": {},
     "output_type": "execute_result"
    }
   ],
   "source": [
    "1>2 and (11>9 and 9==9)"
   ]
  },
  {
   "cell_type": "code",
   "execution_count": 117,
   "id": "8842654d-f695-4c5e-8cc8-813c6919d96b",
   "metadata": {},
   "outputs": [
    {
     "data": {
      "text/plain": [
       "False"
      ]
     },
     "execution_count": 117,
     "metadata": {},
     "output_type": "execute_result"
    }
   ],
   "source": [
    "1>2 and (11>9 or 9==9)"
   ]
  },
  {
   "cell_type": "code",
   "execution_count": 119,
   "id": "cd3d5047-893c-4de9-8ef7-b6753282cf30",
   "metadata": {},
   "outputs": [
    {
     "data": {
      "text/plain": [
       "True"
      ]
     },
     "execution_count": 119,
     "metadata": {},
     "output_type": "execute_result"
    }
   ],
   "source": [
    "11 > 3"
   ]
  },
  {
   "cell_type": "code",
   "execution_count": 121,
   "id": "5b4cf4dd-fcaf-40d9-9265-d640da3246e4",
   "metadata": {},
   "outputs": [
    {
     "data": {
      "text/plain": [
       "False"
      ]
     },
     "execution_count": 121,
     "metadata": {},
     "output_type": "execute_result"
    }
   ],
   "source": [
    "not 11 > 3 #making it reverse"
   ]
  },
  {
   "cell_type": "code",
   "execution_count": 103,
   "id": "d307cf45-5238-42d0-9640-0ee13438ca2d",
   "metadata": {},
   "outputs": [
    {
     "data": {
      "text/plain": [
       "True"
      ]
     },
     "execution_count": 103,
     "metadata": {},
     "output_type": "execute_result"
    }
   ],
   "source": [
    "x=33 \n",
    "not x==3 #x is not equal to 3, condition is true"
   ]
  },
  {
   "cell_type": "code",
   "execution_count": 107,
   "id": "145b81aa-0e29-4a47-a92e-792e745ad0e2",
   "metadata": {},
   "outputs": [
    {
     "data": {
      "text/plain": [
       "False"
      ]
     },
     "execution_count": 107,
     "metadata": {},
     "output_type": "execute_result"
    }
   ],
   "source": [
    "x=33 \n",
    "not x==33 #x is not equal to 33, condition is false"
   ]
  },
  {
   "cell_type": "code",
   "execution_count": 125,
   "id": "6ff1c389-d3bb-41a6-9f49-e01a3bf18900",
   "metadata": {},
   "outputs": [
    {
     "data": {
      "text/plain": [
       "True"
      ]
     },
     "execution_count": 125,
     "metadata": {},
     "output_type": "execute_result"
    }
   ],
   "source": [
    " not (11 > 3) or (11 > 9 and 9 == 9)"
   ]
  },
  {
   "cell_type": "code",
   "execution_count": 127,
   "id": "8b2a58aa-f6a1-4bd9-9f8d-79ffff289f0c",
   "metadata": {},
   "outputs": [
    {
     "data": {
      "text/plain": [
       "False"
      ]
     },
     "execution_count": 127,
     "metadata": {},
     "output_type": "execute_result"
    }
   ],
   "source": [
    " not ((11 > 3) or (11 > 9 and 9 == 9))"
   ]
  },
  {
   "cell_type": "code",
   "execution_count": 129,
   "id": "4a68fce2-63f8-429b-8350-325144f20bbc",
   "metadata": {},
   "outputs": [
    {
     "data": {
      "text/plain": [
       "False"
      ]
     },
     "execution_count": 129,
     "metadata": {},
     "output_type": "execute_result"
    }
   ],
   "source": [
    " not (11 > 3) and (11 > 9 and 9 == 9)"
   ]
  },
  {
   "cell_type": "code",
   "execution_count": 131,
   "id": "449a57ce-7d78-473c-bd42-21c0a2ee5f68",
   "metadata": {},
   "outputs": [
    {
     "data": {
      "text/plain": [
       "False"
      ]
     },
     "execution_count": 131,
     "metadata": {},
     "output_type": "execute_result"
    }
   ],
   "source": [
    " not ((11 > 3) and (11 > 9 and 9 == 9))"
   ]
  },
  {
   "cell_type": "code",
   "execution_count": 133,
   "id": "b80bdf5e-6694-4baa-96b6-cf31ca960529",
   "metadata": {},
   "outputs": [
    {
     "data": {
      "text/plain": [
       "False"
      ]
     },
     "execution_count": 133,
     "metadata": {},
     "output_type": "execute_result"
    }
   ],
   "source": [
    " not (11 > 3) and not (11 > 9 and 9 == 9)"
   ]
  },
  {
   "cell_type": "code",
   "execution_count": 139,
   "id": "dc9564f7-c4ca-4117-a689-f9ce76538e60",
   "metadata": {},
   "outputs": [
    {
     "data": {
      "text/plain": [
       "True"
      ]
     },
     "execution_count": 139,
     "metadata": {},
     "output_type": "execute_result"
    }
   ],
   "source": [
    "(11 > 3) or not (11 > 9 and 9 == 9)"
   ]
  },
  {
   "cell_type": "code",
   "execution_count": 141,
   "id": "4f5b596a-6e5c-43f7-8453-7b77f0844208",
   "metadata": {},
   "outputs": [
    {
     "data": {
      "text/plain": [
       "False"
      ]
     },
     "execution_count": 141,
     "metadata": {},
     "output_type": "execute_result"
    }
   ],
   "source": [
    "(11 > 3) and not (11 > 9 and 9 == 9)"
   ]
  },
  {
   "cell_type": "code",
   "execution_count": 166,
   "id": "286048a8-8d17-47ed-ab00-0dae56de9c29",
   "metadata": {},
   "outputs": [
    {
     "name": "stdout",
     "output_type": "stream",
     "text": [
      "True\n"
     ]
    }
   ],
   "source": [
    "# Are two numbers both even? check remainder\n",
    "#using modulus, comparison, and logical operators\n",
    "num1 = 12\n",
    "num2 = 20\n",
    "print(num1 % 2 == 0 and num2 % 2 == 0)"
   ]
  },
  {
   "cell_type": "code",
   "execution_count": 173,
   "id": "e480c6ad-ef3e-447b-8f47-43aa06ceeaf9",
   "metadata": {},
   "outputs": [
    {
     "name": "stdout",
     "output_type": "stream",
     "text": [
      "True\n"
     ]
    }
   ],
   "source": [
    "# Is a number divisible by 3 or 5?\n",
    "num = 15\n",
    "\n",
    "print(num % 3 == 0 or num % 5 == 0)"
   ]
  },
  {
   "cell_type": "markdown",
   "id": "2479cec1-cc26-4b13-9441-e1d7c30f5170",
   "metadata": {},
   "source": [
    "### Membership Operators (IN, NOT IN)"
   ]
  },
  {
   "cell_type": "raw",
   "id": "555660e2-1123-4cb1-8083-43e2ad22a125",
   "metadata": {},
   "source": [
    "checks whether a value is present in seuqnce (list, tuple, or string) - returns T/F"
   ]
  },
  {
   "cell_type": "code",
   "execution_count": 175,
   "id": "3d26dd12-b550-45e9-8c4b-9e93fc39ded0",
   "metadata": {},
   "outputs": [
    {
     "name": "stdout",
     "output_type": "stream",
     "text": [
      "True\n"
     ]
    }
   ],
   "source": [
    "#basic eg\n",
    "text=\"python\"\n",
    "print('p' in text)"
   ]
  },
  {
   "cell_type": "code",
   "execution_count": 183,
   "id": "a1107dc8-c59b-4fdd-8b9b-4df90f749562",
   "metadata": {},
   "outputs": [
    {
     "name": "stdout",
     "output_type": "stream",
     "text": [
      "False\n"
     ]
    }
   ],
   "source": [
    "#not in\n",
    "text=\"python\"\n",
    "print('p' not in text)"
   ]
  },
  {
   "cell_type": "code",
   "execution_count": 187,
   "id": "c361710b-8bde-445f-9b0c-7987bd63f106",
   "metadata": {},
   "outputs": [
    {
     "name": "stdout",
     "output_type": "stream",
     "text": [
      "True\n"
     ]
    }
   ],
   "source": [
    "#basic eg\n",
    "text=\"python\"\n",
    "print('z' not in text)"
   ]
  },
  {
   "cell_type": "code",
   "execution_count": 177,
   "id": "f54b8e9a-8448-4f2a-bef5-c19d6f2fe68e",
   "metadata": {},
   "outputs": [
    {
     "name": "stdout",
     "output_type": "stream",
     "text": [
      "False\n"
     ]
    }
   ],
   "source": [
    "cars = ['mehran', 'ferarri', 'sportage']\n",
    "print('city' in cars)"
   ]
  },
  {
   "cell_type": "code",
   "execution_count": 179,
   "id": "b695799e-d4ac-4942-9c19-bc8876fdee60",
   "metadata": {},
   "outputs": [
    {
     "name": "stdout",
     "output_type": "stream",
     "text": [
      "True\n"
     ]
    }
   ],
   "source": [
    "#not in\n",
    "item1 = ['mehran', 'ferarri', 'sportage']\n",
    "print('city' not in cars)"
   ]
  },
  {
   "cell_type": "code",
   "execution_count": 185,
   "id": "78b2360c-3579-4e5e-8da2-d802c3d9ff89",
   "metadata": {},
   "outputs": [
    {
     "name": "stdout",
     "output_type": "stream",
     "text": [
      "False\n"
     ]
    }
   ],
   "source": [
    "item1 = ['mehran', 'ferarri', 'sportage']\n",
    "print('mehran' not in cars)"
   ]
  },
  {
   "cell_type": "code",
   "execution_count": 189,
   "id": "e6050e51-8607-415f-9a53-c43174722447",
   "metadata": {},
   "outputs": [
    {
     "name": "stdout",
     "output_type": "stream",
     "text": [
      "False\n",
      "True\n",
      "True\n",
      "False\n"
     ]
    }
   ],
   "source": [
    "#case-sensitivity\n",
    "basic=\"Java\"\n",
    "print('j' in basic)\n",
    "print ('J' in basic)\n",
    "print('j' not in basic)\n",
    "print ('J' not in basic)"
   ]
  },
  {
   "cell_type": "code",
   "execution_count": 195,
   "id": "abda4220-4183-4cc3-95d8-9f1e42f55eb1",
   "metadata": {},
   "outputs": [
    {
     "name": "stdout",
     "output_type": "stream",
     "text": [
      "False\n",
      "False\n"
     ]
    }
   ],
   "source": [
    "#empty sequence []\n",
    "empty = []\n",
    "print('' in empty)\n",
    "print('apple' in empty)"
   ]
  },
  {
   "cell_type": "code",
   "execution_count": 197,
   "id": "737d8b29-a7cf-4aa1-bccf-58591808a19d",
   "metadata": {},
   "outputs": [
    {
     "name": "stdout",
     "output_type": "stream",
     "text": [
      "True\n"
     ]
    }
   ],
   "source": [
    "# Check if banana is in the list\n",
    "fruits = ['apple', 'banana', 'cherry']\n",
    "print('banana' in fruits)"
   ]
  },
  {
   "cell_type": "code",
   "execution_count": 199,
   "id": "3b0af413-bff0-4756-b013-9b37c6e0906d",
   "metadata": {},
   "outputs": [
    {
     "name": "stdout",
     "output_type": "stream",
     "text": [
      "True\n"
     ]
    }
   ],
   "source": [
    "#Check if the word code is in the sentence\n",
    "sentence= 'I love to write code every day'\n",
    "print('code' in sentence)"
   ]
  },
  {
   "cell_type": "code",
   "execution_count": 201,
   "id": "c1e12628-c295-4607-8b5b-0f06ba9717ae",
   "metadata": {},
   "outputs": [
    {
     "name": "stdout",
     "output_type": "stream",
     "text": [
      "True\n"
     ]
    }
   ],
   "source": [
    "#Check if the word code is in the sentence\n",
    "sentence= 'I love to write code every day'\n",
    "print(' code ' in sentence)"
   ]
  },
  {
   "cell_type": "code",
   "execution_count": 207,
   "id": "a85e2ae8-e320-4ea8-bc32-8e82329fac27",
   "metadata": {},
   "outputs": [
    {
     "name": "stdout",
     "output_type": "stream",
     "text": [
      "False\n"
     ]
    }
   ],
   "source": [
    "#Check if the word code is in the sentence\n",
    "sentence= 'I love to write code every day'\n",
    "print('co de' in sentence)"
   ]
  },
  {
   "cell_type": "code",
   "execution_count": 214,
   "id": "eb4782f3-5756-4f8d-816c-3ef89be46a43",
   "metadata": {},
   "outputs": [
    {
     "name": "stdout",
     "output_type": "stream",
     "text": [
      "True\n",
      "True\n"
     ]
    }
   ],
   "source": [
    "#and\n",
    "box1 = ['red','green','pink']\n",
    "box2 = ['ball', 'pin', 'pencil', 'erase']\n",
    "print('red' in box1 and 'pencil' in box2)\n",
    "print(not 'grey' in box1 and 'pencil' in box2)"
   ]
  },
  {
   "cell_type": "markdown",
   "id": "1b4d493c-ed30-40de-88e7-44a0dada9933",
   "metadata": {},
   "source": [
    "### Assignment Operators"
   ]
  },
  {
   "cell_type": "code",
   "execution_count": 216,
   "id": "beac1137-67e7-43eb-aee7-ea278cddf719",
   "metadata": {},
   "outputs": [
    {
     "data": {
      "text/plain": [
       "3"
      ]
     },
     "execution_count": 216,
     "metadata": {},
     "output_type": "execute_result"
    }
   ],
   "source": [
    "x= 1\n",
    "x= x+2\n",
    "x"
   ]
  },
  {
   "cell_type": "code",
   "execution_count": 220,
   "id": "feb6f53a-f523-404d-8f86-53344ecd5bdc",
   "metadata": {},
   "outputs": [
    {
     "data": {
      "text/plain": [
       "10"
      ]
     },
     "execution_count": 220,
     "metadata": {},
     "output_type": "execute_result"
    }
   ],
   "source": [
    "y =2\n",
    "y = y*3\n",
    "y= y+4\n",
    "y"
   ]
  },
  {
   "cell_type": "code",
   "execution_count": 222,
   "id": "4fd5eff1-1079-4dc7-a941-899d9b74b446",
   "metadata": {},
   "outputs": [
    {
     "data": {
      "text/plain": [
       "11"
      ]
     },
     "execution_count": 222,
     "metadata": {},
     "output_type": "execute_result"
    }
   ],
   "source": [
    "m = 9\n",
    "m += 2\n",
    "m"
   ]
  },
  {
   "cell_type": "code",
   "execution_count": 230,
   "id": "a22dacd4-c250-4385-8de2-b9baa9033d9e",
   "metadata": {},
   "outputs": [
    {
     "data": {
      "text/plain": [
       "55"
      ]
     },
     "execution_count": 230,
     "metadata": {},
     "output_type": "execute_result"
    }
   ],
   "source": [
    "c = 22\n",
    "c *= 2\n",
    "c +=11\n",
    "c"
   ]
  },
  {
   "cell_type": "markdown",
   "id": "0c733252-bc8d-4424-83c7-446cb033c05c",
   "metadata": {},
   "source": [
    "### input "
   ]
  },
  {
   "cell_type": "code",
   "execution_count": 232,
   "id": "6a3ae02a-f97d-41b9-b308-1fe8690e0cd7",
   "metadata": {},
   "outputs": [
    {
     "name": "stdin",
     "output_type": "stream",
     "text": [
      "enter name:  John\n"
     ]
    },
    {
     "data": {
      "text/plain": [
       "'John'"
      ]
     },
     "execution_count": 232,
     "metadata": {},
     "output_type": "execute_result"
    }
   ],
   "source": [
    "#input fn'\n",
    "#str\n",
    "input('enter name: ')\n"
   ]
  },
  {
   "cell_type": "code",
   "execution_count": 236,
   "id": "19387327-bb46-4734-b448-0810e96ea9ae",
   "metadata": {},
   "outputs": [
    {
     "name": "stdin",
     "output_type": "stream",
     "text": [
      "enter num1:  11\n",
      "enter num2:  33\n"
     ]
    },
    {
     "data": {
      "text/plain": [
       "'33'"
      ]
     },
     "execution_count": 236,
     "metadata": {},
     "output_type": "execute_result"
    }
   ],
   "source": [
    "input('enter num1: ')\n",
    "input('enter num2: ')"
   ]
  },
  {
   "cell_type": "code",
   "execution_count": 248,
   "id": "f751681f-dc90-4eb9-a7dc-ed25908ea867",
   "metadata": {},
   "outputs": [
    {
     "name": "stdin",
     "output_type": "stream",
     "text": [
      "enter num1:  3\n",
      "enter num2:  3\n"
     ]
    },
    {
     "name": "stdout",
     "output_type": "stream",
     "text": [
      "33\n"
     ]
    }
   ],
   "source": [
    "v = input('enter num1: ')\n",
    "s = input('enter num2: ')\n",
    "add= v+s\n",
    "print(add) #concatenation - input takes string"
   ]
  },
  {
   "cell_type": "code",
   "execution_count": 264,
   "id": "2559bbe6-e7bb-4754-862b-23c9fff450aa",
   "metadata": {},
   "outputs": [],
   "source": [
    "#Typecasting in input"
   ]
  },
  {
   "cell_type": "code",
   "execution_count": 262,
   "id": "1faa194c-a82c-4dc5-9a57-0fac9952eb4e",
   "metadata": {},
   "outputs": [
    {
     "name": "stdin",
     "output_type": "stream",
     "text": [
      "enter num1:  3\n",
      "enter num2:  3\n"
     ]
    },
    {
     "name": "stdout",
     "output_type": "stream",
     "text": [
      "6\n"
     ]
    }
   ],
   "source": [
    "v =  int(input('enter num1: '))\n",
    "s =  int(input('enter num2: '))\n",
    "add= v+s\n",
    "print(add) "
   ]
  },
  {
   "cell_type": "code",
   "execution_count": 252,
   "id": "2f7e4cf8-6f2a-46a4-a36f-fe60c1dad316",
   "metadata": {},
   "outputs": [
    {
     "name": "stdin",
     "output_type": "stream",
     "text": [
      "name:  john\n"
     ]
    },
    {
     "data": {
      "text/plain": [
       "'welcome john'"
      ]
     },
     "execution_count": 252,
     "metadata": {},
     "output_type": "execute_result"
    }
   ],
   "source": [
    "#WAP to print welcome message to user\n",
    "user = input('name: ')\n",
    "user = 'welcome' + \" \" + user\n",
    "user"
   ]
  },
  {
   "cell_type": "code",
   "execution_count": 260,
   "id": "cab9de23-4cca-489f-ad70-8764b3c2b9f6",
   "metadata": {},
   "outputs": [
    {
     "name": "stdin",
     "output_type": "stream",
     "text": [
      "name:  Ali\n"
     ]
    },
    {
     "name": "stdout",
     "output_type": "stream",
     "text": [
      "welcome! Ali\n",
      "welcome!  Ali\n"
     ]
    }
   ],
   "source": [
    "user = input('name: ')\n",
    "\n",
    "print('welcome! ' + user)\n",
    "print('welcome! ' , user)"
   ]
  },
  {
   "cell_type": "code",
   "execution_count": null,
   "id": "416707d2-d350-4671-a68d-cf3ef71395ab",
   "metadata": {},
   "outputs": [],
   "source": []
  }
 ],
 "metadata": {
  "kernelspec": {
   "display_name": "Python [conda env:base] *",
   "language": "python",
   "name": "conda-base-py"
  },
  "language_info": {
   "codemirror_mode": {
    "name": "ipython",
    "version": 3
   },
   "file_extension": ".py",
   "mimetype": "text/x-python",
   "name": "python",
   "nbconvert_exporter": "python",
   "pygments_lexer": "ipython3",
   "version": "3.12.7"
  }
 },
 "nbformat": 4,
 "nbformat_minor": 5
}
