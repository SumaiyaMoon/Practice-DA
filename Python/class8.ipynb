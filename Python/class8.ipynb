{
 "cells": [
  {
   "cell_type": "markdown",
   "id": "e59547f4-4720-496a-8aad-021d3902454c",
   "metadata": {},
   "source": [
    "### IF-ELIF-ELSE"
   ]
  },
  {
   "cell_type": "code",
   "execution_count": 34,
   "id": "6eee0486-d4af-4cfe-a4ae-956ccadce023",
   "metadata": {},
   "outputs": [
    {
     "name": "stdout",
     "output_type": "stream",
     "text": [
      "stop\n"
     ]
    }
   ],
   "source": [
    "#signal light example\n",
    "\n",
    "light =\"red\" \n",
    "\n",
    "\n",
    "# = assignment\n",
    "# == comparison\n",
    "\n",
    "if light == \"red\" : \n",
    "    print (\"stop\") #indentation(spacing at the beginning of a code line)\n"
   ]
  },
  {
   "cell_type": "code",
   "execution_count": 36,
   "id": "f49e0283-8cde-4b64-ad1f-0fa19cc1434f",
   "metadata": {},
   "outputs": [
    {
     "name": "stdout",
     "output_type": "stream",
     "text": [
      "wait\n"
     ]
    }
   ],
   "source": [
    "light = \"grey\" \n",
    "\n",
    "if light == \"red\" : \n",
    "    print (\"stop\") \n",
    "else:\n",
    "    print(\"wait\")"
   ]
  },
  {
   "cell_type": "code",
   "execution_count": 44,
   "id": "a02eb3ed-df16-4ad4-b601-ed77feeecfb2",
   "metadata": {},
   "outputs": [
    {
     "name": "stdout",
     "output_type": "stream",
     "text": [
      "wait\n"
     ]
    }
   ],
   "source": [
    "# light = 'green'\n",
    "# light = 'yellow'\n",
    "# light = 'red'\n",
    "light = 'white'\n",
    "\n",
    "if light == 'red':\n",
    "    print('stop')\n",
    "elif light == 'yellow':\n",
    "    print('ready')\n",
    "elif light == 'green':\n",
    "    print('go')\n",
    "else:\n",
    "    print('wait')"
   ]
  },
  {
   "cell_type": "code",
   "execution_count": 68,
   "id": "8d4fb66d-60dc-4cd5-9bbb-56b9299449ac",
   "metadata": {},
   "outputs": [
    {
     "name": "stdout",
     "output_type": "stream",
     "text": [
      "A\n"
     ]
    }
   ],
   "source": [
    "#grading\n",
    "#practice\n",
    "\n",
    "marks = 88\n",
    "\n",
    "if marks >= 90:\n",
    "    print('A+')\n",
    "elif marks > 80:\n",
    "    print('A')\n",
    "elif marks <= 79:\n",
    "    print('B')\n",
    "else:\n",
    "    print(marks)\n",
    "    "
   ]
  },
  {
   "cell_type": "markdown",
   "id": "13b2b724-0d6f-4146-b6e3-13a86f1e8c0e",
   "metadata": {},
   "source": [
    "### NESTED IF"
   ]
  },
  {
   "cell_type": "code",
   "execution_count": 90,
   "id": "b99e4dfa-730a-4aee-bf03-87908ff7d3d5",
   "metadata": {},
   "outputs": [
    {
     "name": "stdout",
     "output_type": "stream",
     "text": [
      "Eligible for Education Visa\n"
     ]
    }
   ],
   "source": [
    "#age #purpose (must be true)\n",
    "visa = 'valid'\n",
    "purpose = 'education'\n",
    "admission_letter = 'no'\n",
    "account_status = 5000001\n",
    "age = 30\n",
    "job_recommendation = 'yes'\n",
    "family_member = 'yes'\n",
    "docs_submitted = 'yes'\n",
    "\n",
    "if age >= 18:\n",
    "    if purpose == 'education':\n",
    "        if family_member == 'yes':\n",
    "            print('Eligible for Education Visa')\n",
    "        else:\n",
    "            print('Family member is mandatory')\n",
    "    else:\n",
    "        print('Your purpose is not Education')\n",
    "else:\n",
    "    print('underage')"
   ]
  },
  {
   "cell_type": "code",
   "execution_count": null,
   "id": "8f9d606f-bda2-4e23-b689-ff1900789812",
   "metadata": {},
   "outputs": [],
   "source": [
    "#elif => same nature ki multiple conditions\n",
    "#nestedif => multiple conditions of different nature"
   ]
  },
  {
   "cell_type": "markdown",
   "id": "6bf9cf4b-5724-4570-bac5-fc383bc9907f",
   "metadata": {},
   "source": [
    "### TUPLE - DATA TYPE"
   ]
  },
  {
   "cell_type": "code",
   "execution_count": 107,
   "id": "9d2cc9bb-245c-4dc9-bdb3-e4008281c8d3",
   "metadata": {},
   "outputs": [
    {
     "name": "stdout",
     "output_type": "stream",
     "text": [
      "<class 'tuple'>\n",
      "<class 'str'>\n",
      "<class 'tuple'>\n"
     ]
    }
   ],
   "source": [
    "#Single Element Tuple\n",
    "x= ('abc', '123')\n",
    "y= ('apple') #assumed as string\n",
    "\n",
    "z=('apple',) #single value tuple\n",
    "\n",
    "print(type(x))\n",
    "print(type(y))\n",
    "print(type(z))"
   ]
  },
  {
   "cell_type": "code",
   "execution_count": 109,
   "id": "0062c31a-717d-4454-8adc-e38e27fb9ebd",
   "metadata": {},
   "outputs": [
    {
     "data": {
      "text/plain": [
       "('john doe', 44, 'USA', 89.2, 'New York', 'New York')"
      ]
     },
     "execution_count": 109,
     "metadata": {},
     "output_type": "execute_result"
    }
   ],
   "source": [
    "#Allow Duplicates\n",
    "bio = ('john doe', 44, 'USA', 89.2, 'New York' , 'New York')\n",
    "bio"
   ]
  },
  {
   "cell_type": "code",
   "execution_count": 113,
   "id": "daa5233e-d6ec-431e-b9ae-1b098d1a2411",
   "metadata": {},
   "outputs": [
    {
     "data": {
      "text/plain": [
       "('john doe', 44, 'USA', 89.2, 'New York', 'New York', [1, 2, 3])"
      ]
     },
     "execution_count": 113,
     "metadata": {},
     "output_type": "execute_result"
    }
   ],
   "source": [
    "#mixed dt\n",
    "bio1 = ('john doe', 44, 'USA', 89.2, 'New York' , 'New York', [1,2,3])\n",
    "bio1"
   ]
  },
  {
   "cell_type": "code",
   "execution_count": 129,
   "id": "4283e26d-4b72-4a2b-a5f0-514233435d4b",
   "metadata": {},
   "outputs": [
    {
     "name": "stdout",
     "output_type": "stream",
     "text": [
      "[1, 2, 3]\n",
      "('john doe', 89.2, [1, 2, 3])\n"
     ]
    }
   ],
   "source": [
    "#indexing and slicing\n",
    "print(bio1[6])\n",
    "sliceBio1 = bio1[::3]\n",
    "print(sliceBio1)"
   ]
  },
  {
   "cell_type": "code",
   "execution_count": 131,
   "id": "16de17d0-390b-4b05-a2fd-d035583c5bde",
   "metadata": {},
   "outputs": [
    {
     "name": "stdout",
     "output_type": "stream",
     "text": [
      "3\n"
     ]
    }
   ],
   "source": [
    "#accessing list element in tuple\n",
    "print(bio1[6][2]) "
   ]
  },
  {
   "cell_type": "code",
   "execution_count": 145,
   "id": "a29d2aa1-70e3-47e7-8065-54c010a838ed",
   "metadata": {},
   "outputs": [
    {
     "data": {
      "text/plain": [
       "(1, 2, 4, 5, [1, 2, 'four'])"
      ]
     },
     "execution_count": 145,
     "metadata": {},
     "output_type": "execute_result"
    }
   ],
   "source": [
    "#changing list element in tuple\n",
    "a=(1,2,4,5,[1,2,4])\n",
    "# a[-1][2]  =>  it can be a[-1][-1]\n",
    "a[-1][2] = 'four' # it can be a[-1][-1]\n",
    "a"
   ]
  },
  {
   "cell_type": "code",
   "execution_count": 147,
   "id": "c13cdb84-f060-4aa5-83a5-7daeb7577f64",
   "metadata": {},
   "outputs": [
    {
     "data": {
      "text/plain": [
       "[1, 2, 3, [4, 5, 6], 7]"
      ]
     },
     "execution_count": 147,
     "metadata": {},
     "output_type": "execute_result"
    }
   ],
   "source": [
    "#nested lists\n",
    "b = [1,2,3,[4,5,6],7]\n",
    "b"
   ]
  },
  {
   "cell_type": "code",
   "execution_count": 151,
   "id": "27e14f51-6d62-46e6-84bb-2cf9e57bd3e8",
   "metadata": {},
   "outputs": [
    {
     "data": {
      "text/plain": [
       "(1, 2, 3, ('abc', 'xyz'), 4.5)"
      ]
     },
     "execution_count": 151,
     "metadata": {},
     "output_type": "execute_result"
    }
   ],
   "source": [
    "#nested tuple\n",
    "t = (1,2,3,('abc','xyz'),4.5)\n",
    "t"
   ]
  },
  {
   "cell_type": "code",
   "execution_count": 153,
   "id": "32a8e9a8-dc95-4b17-b93b-da186804b16a",
   "metadata": {},
   "outputs": [],
   "source": [
    "# tuple in tuple, tuple in list, tuple => cannot change => immutable in nature\n",
    "# list in tuple, list in list, list => can change => mutable in nature"
   ]
  },
  {
   "cell_type": "code",
   "execution_count": 161,
   "id": "f025f872-f341-4552-bf26-02160f92dc9c",
   "metadata": {},
   "outputs": [
    {
     "data": {
      "text/plain": [
       "(1, 2, 3, 4)"
      ]
     },
     "execution_count": 161,
     "metadata": {},
     "output_type": "execute_result"
    }
   ],
   "source": [
    "#concatenation\n",
    "t1=(1,2)\n",
    "t2 =(3, 4)\n",
    "t1 + t2"
   ]
  },
  {
   "cell_type": "code",
   "execution_count": 167,
   "id": "726f0893-dc89-44d6-81e3-04797a9cc9ab",
   "metadata": {},
   "outputs": [
    {
     "data": {
      "text/plain": [
       "(22, 22, 22, 22)"
      ]
     },
     "execution_count": 167,
     "metadata": {},
     "output_type": "execute_result"
    }
   ],
   "source": [
    "#repitition\n",
    "c = (22, 22) * 2\n",
    "c"
   ]
  },
  {
   "cell_type": "code",
   "execution_count": 169,
   "id": "78f41897-c5c2-434a-9f2b-7530e5721dea",
   "metadata": {},
   "outputs": [
    {
     "data": {
      "text/plain": [
       "['__add__',\n",
       " '__class__',\n",
       " '__class_getitem__',\n",
       " '__contains__',\n",
       " '__delattr__',\n",
       " '__dir__',\n",
       " '__doc__',\n",
       " '__eq__',\n",
       " '__format__',\n",
       " '__ge__',\n",
       " '__getattribute__',\n",
       " '__getitem__',\n",
       " '__getnewargs__',\n",
       " '__getstate__',\n",
       " '__gt__',\n",
       " '__hash__',\n",
       " '__init__',\n",
       " '__init_subclass__',\n",
       " '__iter__',\n",
       " '__le__',\n",
       " '__len__',\n",
       " '__lt__',\n",
       " '__mul__',\n",
       " '__ne__',\n",
       " '__new__',\n",
       " '__reduce__',\n",
       " '__reduce_ex__',\n",
       " '__repr__',\n",
       " '__rmul__',\n",
       " '__setattr__',\n",
       " '__sizeof__',\n",
       " '__str__',\n",
       " '__subclasshook__',\n",
       " 'count',\n",
       " 'index']"
      ]
     },
     "execution_count": 169,
     "metadata": {},
     "output_type": "execute_result"
    }
   ],
   "source": [
    "#methods\n",
    "dir(())"
   ]
  },
  {
   "cell_type": "markdown",
   "id": "f678a349-7030-403a-a715-f0be6a7781f9",
   "metadata": {},
   "source": [
    "##### PACKING AND UNPACKING TUPLE"
   ]
  },
  {
   "cell_type": "code",
   "execution_count": 177,
   "id": "b0c368c3-6fdc-4982-a3aa-97eb4fc66324",
   "metadata": {},
   "outputs": [
    {
     "data": {
      "text/plain": [
       "0"
      ]
     },
     "execution_count": 177,
     "metadata": {},
     "output_type": "execute_result"
    }
   ],
   "source": [
    "#count and index (find if 25 exists in my_t1)\n",
    "my_t1 = (10, 20, 30, 40)\n",
    "my_t1.count(25)\n",
    "# my_t1.index(25) => value error"
   ]
  },
  {
   "cell_type": "code",
   "execution_count": 179,
   "id": "78cba871-b958-4f55-8d3c-c2eb4d575f1e",
   "metadata": {},
   "outputs": [
    {
     "name": "stdout",
     "output_type": "stream",
     "text": [
      "('John', 25, 'Engineer')\n",
      "John\n",
      "25\n",
      "Engineer\n"
     ]
    }
   ],
   "source": [
    "#packing and unpacking\n",
    "\n",
    "# Packing values into a tuple\n",
    "person = ('John', 25, 'Engineer')\n",
    "\n",
    "print(person)\n",
    "\n",
    "# Unpacking the tuple into individual variables\n",
    "name, age, profession = person\n",
    "\n",
    "print(name)        # John\n",
    "print(age)         # 25\n",
    "print(profession)  # Engineer"
   ]
  },
  {
   "cell_type": "code",
   "execution_count": 185,
   "id": "ec72c36d-8024-44fb-ba0f-f35d547d67f1",
   "metadata": {},
   "outputs": [
    {
     "data": {
      "text/plain": [
       "['banana', 'cherry']"
      ]
     },
     "execution_count": 185,
     "metadata": {},
     "output_type": "execute_result"
    }
   ],
   "source": [
    "values = (\"apple\", \"banana\", \"cherry\", \"grapes\")\n",
    "first , *others , last = values\n",
    "\n",
    "others"
   ]
  },
  {
   "cell_type": "markdown",
   "id": "342825e8-47b6-436e-9d12-8cdb09cdf19a",
   "metadata": {},
   "source": [
    "## PRACTICE"
   ]
  },
  {
   "cell_type": "code",
   "execution_count": 219,
   "id": "1c1a688d-3057-438f-9c48-4beff014dea6",
   "metadata": {},
   "outputs": [
    {
     "name": "stdin",
     "output_type": "stream",
     "text": [
      "Enter Number: 0\n"
     ]
    },
    {
     "name": "stdout",
     "output_type": "stream",
     "text": [
      "number is zero\n"
     ]
    }
   ],
   "source": [
    "#check if a number is positive or negative\n",
    "\n",
    "num1 = int(input('Enter Number:'))\n",
    "\n",
    "if num1 > 0:\n",
    "    print('number is positive')\n",
    "elif num1<0:\n",
    "    print('number is negative')\n",
    "else:\n",
    "    print('number is zero')"
   ]
  },
  {
   "cell_type": "code",
   "execution_count": 213,
   "id": "7bea4b24-ff11-419a-b428-530c43c96d1b",
   "metadata": {},
   "outputs": [
    {
     "name": "stdin",
     "output_type": "stream",
     "text": [
      "Enter Number: 3\n"
     ]
    },
    {
     "name": "stdout",
     "output_type": "stream",
     "text": [
      "number is odd\n"
     ]
    }
   ],
   "source": [
    "#check if a number is even or odd\n",
    "num2 = int(input('Enter Number:'))\n",
    "\n",
    "if num2 % 54 == 0:\n",
    "    print ('number is even')\n",
    "else:\n",
    "    print('number is odd')"
   ]
  },
  {
   "cell_type": "code",
   "execution_count": 221,
   "id": "472ed848-28ac-4a71-9c4e-de20258d1779",
   "metadata": {},
   "outputs": [
    {
     "name": "stdin",
     "output_type": "stream",
     "text": [
      "Enter character:  z\n"
     ]
    },
    {
     "name": "stdout",
     "output_type": "stream",
     "text": [
      "It's a Consonant\n"
     ]
    }
   ],
   "source": [
    "# check if a character is a vowel\n",
    "vowel = input('Enter character: ')\n",
    "\n",
    "if len(vowel) == 1:\n",
    "    if vowel.lower() in 'aeiou':\n",
    "        print(\"It's a Vowel.\")\n",
    "    else:\n",
    "        print(\"It's a Consonant\")\n",
    "else:\n",
    "    print(\"Invalid input.\")\n"
   ]
  },
  {
   "cell_type": "code",
   "execution_count": null,
   "id": "cc0176e5-cea5-415c-9f5c-2c73f046b83c",
   "metadata": {},
   "outputs": [],
   "source": []
  }
 ],
 "metadata": {
  "kernelspec": {
   "display_name": "Python [conda env:base] *",
   "language": "python",
   "name": "conda-base-py"
  },
  "language_info": {
   "codemirror_mode": {
    "name": "ipython",
    "version": 3
   },
   "file_extension": ".py",
   "mimetype": "text/x-python",
   "name": "python",
   "nbconvert_exporter": "python",
   "pygments_lexer": "ipython3",
   "version": "3.12.7"
  }
 },
 "nbformat": 4,
 "nbformat_minor": 5
}
