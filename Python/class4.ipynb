{
 "cells": [
  {
   "cell_type": "markdown",
   "id": "463654c2-f58a-48cc-aa59-77fefdbdb1c5",
   "metadata": {},
   "source": [
    "# Git and GitHub"
   ]
  },
  {
   "cell_type": "markdown",
   "id": "faa1500a-dfb3-44a8-9045-8d04c2244ca5",
   "metadata": {},
   "source": [
    "### GitHub ( Distributive Version Control System )"
   ]
  },
  {
   "cell_type": "raw",
   "id": "03a951d9-2953-41f6-8c57-3aaa6f2c88ec",
   "metadata": {},
   "source": [
    "1) Goto git-scm.com and download and install git\n",
    "2)Right Click to your project folder and click on git bash here\n",
    "3) To initialize with git and making folder to repository use:\t$git init\n",
    "4) To check current status of git use:\n",
    "\t$git status\n",
    "5) To convert file from unstage to stage use:\n",
    "\t$git add -A\n",
    "6) Configure yourself on git globally using:\n",
    "\t$git config --global user.name \"Your Name\"\n",
    "\t$git config --global user.email \"Your Email\"\n",
    "\tNote: Separately execute command\n",
    "7) Simply save your file using:\n",
    "\t$git commit -m \"Message\"\n",
    "8) Goto GitHub.com and Signup\n",
    "9) Create repo on GitHub.com\n",
    "10) Copy repo link from GitHub.com\n",
    "11) To connect with remote repo use:\n",
    "\t$git remote add origin <Link>\n",
    "12) To push your code use:\n",
    "\t$git push -u origin master/main"
   ]
  },
  {
   "cell_type": "code",
   "execution_count": null,
   "id": "6f794fcf-be06-4e3a-b7d8-3b8c3d072859",
   "metadata": {},
   "outputs": [],
   "source": []
  }
 ],
 "metadata": {
  "kernelspec": {
   "display_name": "Python [conda env:base] *",
   "language": "python",
   "name": "conda-base-py"
  },
  "language_info": {
   "codemirror_mode": {
    "name": "ipython",
    "version": 3
   },
   "file_extension": ".py",
   "mimetype": "text/x-python",
   "name": "python",
   "nbconvert_exporter": "python",
   "pygments_lexer": "ipython3",
   "version": "3.12.7"
  }
 },
 "nbformat": 4,
 "nbformat_minor": 5
}
