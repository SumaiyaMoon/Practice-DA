{
 "cells": [
  {
   "cell_type": "markdown",
   "id": "caf68dde-5ee8-4e66-a14c-dead966e496b",
   "metadata": {},
   "source": [
    "### FUNCTIONS "
   ]
  },
  {
   "cell_type": "markdown",
   "id": "f8e480cd-8545-4d4a-bfe5-066353e66592",
   "metadata": {},
   "source": [
    "#### Global Variables"
   ]
  },
  {
   "cell_type": "code",
   "execution_count": 13,
   "id": "ea40166e-b69d-475a-be43-d4929ad45e2e",
   "metadata": {},
   "outputs": [
    {
     "name": "stdout",
     "output_type": "stream",
     "text": [
      "2\n",
      "inside fn: 3\n"
     ]
    }
   ],
   "source": [
    "y=2 #global variable\n",
    "\n",
    "def print_my_y():\n",
    "    y=3 #local variable\n",
    "    print('inside fn:', y)\n",
    "\n",
    "print(y)\n",
    "print_my_y()"
   ]
  },
  {
   "cell_type": "code",
   "execution_count": 15,
   "id": "d9d83e4b-f56e-4fd6-94ea-83ef8f6a3d6a",
   "metadata": {},
   "outputs": [
    {
     "name": "stdout",
     "output_type": "stream",
     "text": [
      "12\n",
      "inside fn: 3\n"
     ]
    }
   ],
   "source": [
    "x=12\n",
    "\n",
    "def print_my_x():\n",
    "    global x #global keyword\n",
    "    x=3\n",
    "    print('inside fn:', x)\n",
    "\n",
    "print(x)\n",
    "print_my_x()"
   ]
  },
  {
   "cell_type": "code",
   "execution_count": 17,
   "id": "4b1d81b3-7bcd-4a38-8d5b-f1325bf9f0c1",
   "metadata": {},
   "outputs": [
    {
     "name": "stdout",
     "output_type": "stream",
     "text": [
      "inside fn: 3\n",
      "3\n"
     ]
    }
   ],
   "source": [
    "print_my_x() \n",
    "print(x)"
   ]
  },
  {
   "cell_type": "markdown",
   "id": "07c8b6fd-16ad-40d4-a625-c36feed3a1e8",
   "metadata": {},
   "source": [
    "#### Functions in Function"
   ]
  },
  {
   "cell_type": "code",
   "execution_count": 50,
   "id": "a645376e-38c5-4085-be8e-fedd03d410f9",
   "metadata": {},
   "outputs": [
    {
     "name": "stdout",
     "output_type": "stream",
     "text": [
      "11\n"
     ]
    }
   ],
   "source": [
    "def add(num1, num2):\n",
    "    total = num1 + num2\n",
    "    print (total)\n",
    "\n",
    "add(3,8)"
   ]
  },
  {
   "cell_type": "code",
   "execution_count": 46,
   "id": "c3722487-890f-4b9b-b818-bb14485371a1",
   "metadata": {},
   "outputs": [
    {
     "name": "stdout",
     "output_type": "stream",
     "text": [
      "3\n",
      "8\n"
     ]
    },
    {
     "data": {
      "text/plain": [
       "11"
      ]
     },
     "execution_count": 46,
     "metadata": {},
     "output_type": "execute_result"
    }
   ],
   "source": [
    "def add2(num1, num2):\n",
    "    total = num1 + num2\n",
    "    print(num1)\n",
    "    print(num2)\n",
    "    return total\n",
    "\n",
    "add2(3,8)"
   ]
  },
  {
   "cell_type": "code",
   "execution_count": 42,
   "id": "1ebf72ec-acd2-4f54-8ccd-9eda58210c7d",
   "metadata": {},
   "outputs": [
    {
     "name": "stdout",
     "output_type": "stream",
     "text": [
      "<function add1 at 0x000002260F6FEC00>\n"
     ]
    }
   ],
   "source": [
    "def add1(num1, num2):\n",
    "    total = num1 + num2\n",
    "    print(add1)\n",
    "\n",
    "add1(3,8)"
   ]
  },
  {
   "cell_type": "code",
   "execution_count": 56,
   "id": "dbb2c734-eac6-4f04-ad5a-47c1a6add5b9",
   "metadata": {},
   "outputs": [
    {
     "name": "stdout",
     "output_type": "stream",
     "text": [
      "my name is ali and 27651\n",
      "7\n"
     ]
    }
   ],
   "source": [
    "def bio(name, idc):\n",
    "    print(f\"my name is {name} and {idc}\")\n",
    "    add(2,5) #calling function in function\n",
    "\n",
    "bio('ali',27651)"
   ]
  },
  {
   "cell_type": "markdown",
   "id": "451ec4f2-dd46-4bc5-9676-bbd1a05e2a9c",
   "metadata": {},
   "source": [
    "### ERROR HANDLING\n",
    "try, except, else, finally"
   ]
  },
  {
   "cell_type": "code",
   "execution_count": 65,
   "id": "046a0022-d6ff-4522-8dec-277ae050d482",
   "metadata": {},
   "outputs": [
    {
     "ename": "ZeroDivisionError",
     "evalue": "division by zero",
     "output_type": "error",
     "traceback": [
      "\u001b[1;31m---------------------------------------------------------------------------\u001b[0m",
      "\u001b[1;31mZeroDivisionError\u001b[0m                         Traceback (most recent call last)",
      "Cell \u001b[1;32mIn[65], line 1\u001b[0m\n\u001b[1;32m----> 1\u001b[0m \u001b[38;5;28mprint\u001b[39m(\u001b[38;5;241m1\u001b[39m\u001b[38;5;241m/\u001b[39m\u001b[38;5;241m0\u001b[39m)\n",
      "\u001b[1;31mZeroDivisionError\u001b[0m: division by zero"
     ]
    }
   ],
   "source": [
    "print(1/0) "
   ]
  },
  {
   "cell_type": "code",
   "execution_count": 87,
   "id": "47807b11-922e-4a68-a3af-546ce37f1f24",
   "metadata": {},
   "outputs": [
    {
     "name": "stdout",
     "output_type": "stream",
     "text": [
      "4\n"
     ]
    },
    {
     "ename": "ZeroDivisionError",
     "evalue": "division by zero",
     "output_type": "error",
     "traceback": [
      "\u001b[1;31m---------------------------------------------------------------------------\u001b[0m",
      "\u001b[1;31mZeroDivisionError\u001b[0m                         Traceback (most recent call last)",
      "Cell \u001b[1;32mIn[87], line 2\u001b[0m\n\u001b[0;32m      1\u001b[0m \u001b[38;5;28mprint\u001b[39m(\u001b[38;5;241m1\u001b[39m\u001b[38;5;241m+\u001b[39m\u001b[38;5;241m3\u001b[39m)\n\u001b[1;32m----> 2\u001b[0m \u001b[38;5;28mprint\u001b[39m(\u001b[38;5;241m1\u001b[39m\u001b[38;5;241m/\u001b[39m\u001b[38;5;241m0\u001b[39m) \u001b[38;5;66;03m#code crashed\u001b[39;00m\n\u001b[0;32m      3\u001b[0m \u001b[38;5;28mprint\u001b[39m(\u001b[38;5;241m2\u001b[39m\u001b[38;5;241m+\u001b[39m\u001b[38;5;241m5\u001b[39m)\n",
      "\u001b[1;31mZeroDivisionError\u001b[0m: division by zero"
     ]
    }
   ],
   "source": [
    "print(1+3)\n",
    "print(1/0) #code crashed\n",
    "print(2+5)"
   ]
  },
  {
   "cell_type": "code",
   "execution_count": 71,
   "id": "9f7b950c-7c66-47c7-8740-fe788f67baa0",
   "metadata": {},
   "outputs": [
    {
     "name": "stdout",
     "output_type": "stream",
     "text": [
      "error\n"
     ]
    }
   ],
   "source": [
    "try:\n",
    "    print(1/0)\n",
    "except:\n",
    "    print('error')"
   ]
  },
  {
   "cell_type": "code",
   "execution_count": 81,
   "id": "201d1b11-1ccb-4c45-8588-5934e64360db",
   "metadata": {},
   "outputs": [
    {
     "name": "stdout",
     "output_type": "stream",
     "text": [
      "4\n",
      "error\n",
      "7\n"
     ]
    }
   ],
   "source": [
    "print(1+3)\n",
    "try:\n",
    "    print(1/0)\n",
    "except ZeroDivisionError:\n",
    "    print('error')\n",
    "print(2+5)"
   ]
  },
  {
   "cell_type": "code",
   "execution_count": 89,
   "id": "4564c87d-235f-460e-8995-be4d1a98cca6",
   "metadata": {},
   "outputs": [
    {
     "ename": "TypeError",
     "evalue": "unsupported operand type(s) for /: 'int' and 'str'",
     "output_type": "error",
     "traceback": [
      "\u001b[1;31m---------------------------------------------------------------------------\u001b[0m",
      "\u001b[1;31mTypeError\u001b[0m                                 Traceback (most recent call last)",
      "Cell \u001b[1;32mIn[89], line 1\u001b[0m\n\u001b[1;32m----> 1\u001b[0m \u001b[38;5;28mprint\u001b[39m(\u001b[38;5;241m1\u001b[39m\u001b[38;5;241m/\u001b[39m\u001b[38;5;124m'\u001b[39m\u001b[38;5;124ma\u001b[39m\u001b[38;5;124m'\u001b[39m)\n",
      "\u001b[1;31mTypeError\u001b[0m: unsupported operand type(s) for /: 'int' and 'str'"
     ]
    }
   ],
   "source": [
    "print(1/'a')"
   ]
  },
  {
   "cell_type": "code",
   "execution_count": 93,
   "id": "a3b36535-83ac-4533-9bc1-9304761f7fe8",
   "metadata": {},
   "outputs": [
    {
     "name": "stdout",
     "output_type": "stream",
     "text": [
      "4\n"
     ]
    },
    {
     "ename": "TypeError",
     "evalue": "unsupported operand type(s) for /: 'int' and 'str'",
     "output_type": "error",
     "traceback": [
      "\u001b[1;31m---------------------------------------------------------------------------\u001b[0m",
      "\u001b[1;31mTypeError\u001b[0m                                 Traceback (most recent call last)",
      "Cell \u001b[1;32mIn[93], line 3\u001b[0m\n\u001b[0;32m      1\u001b[0m \u001b[38;5;28mprint\u001b[39m(\u001b[38;5;241m1\u001b[39m\u001b[38;5;241m+\u001b[39m\u001b[38;5;241m3\u001b[39m)\n\u001b[0;32m      2\u001b[0m \u001b[38;5;28;01mtry\u001b[39;00m:\n\u001b[1;32m----> 3\u001b[0m     \u001b[38;5;28mprint\u001b[39m(\u001b[38;5;241m1\u001b[39m\u001b[38;5;241m/\u001b[39m\u001b[38;5;124m'\u001b[39m\u001b[38;5;124ma\u001b[39m\u001b[38;5;124m'\u001b[39m)\n\u001b[0;32m      4\u001b[0m \u001b[38;5;28;01mexcept\u001b[39;00m \u001b[38;5;167;01mZeroDivisionError\u001b[39;00m:\n\u001b[0;32m      5\u001b[0m     \u001b[38;5;28mprint\u001b[39m(\u001b[38;5;124m'\u001b[39m\u001b[38;5;124merror\u001b[39m\u001b[38;5;124m'\u001b[39m)\n",
      "\u001b[1;31mTypeError\u001b[0m: unsupported operand type(s) for /: 'int' and 'str'"
     ]
    }
   ],
   "source": [
    "print(1+3)\n",
    "try:\n",
    "    print(1/'a')\n",
    "except ZeroDivisionError:\n",
    "    print('error')\n",
    "print(2+5)"
   ]
  },
  {
   "cell_type": "code",
   "execution_count": 95,
   "id": "5a2e468f-4cd5-4cf0-bfbf-4d9be29fe34a",
   "metadata": {},
   "outputs": [
    {
     "name": "stdout",
     "output_type": "stream",
     "text": [
      "4\n"
     ]
    },
    {
     "ename": "ZeroDivisionError",
     "evalue": "division by zero",
     "output_type": "error",
     "traceback": [
      "\u001b[1;31m---------------------------------------------------------------------------\u001b[0m",
      "\u001b[1;31mZeroDivisionError\u001b[0m                         Traceback (most recent call last)",
      "Cell \u001b[1;32mIn[95], line 3\u001b[0m\n\u001b[0;32m      1\u001b[0m \u001b[38;5;28mprint\u001b[39m(\u001b[38;5;241m1\u001b[39m\u001b[38;5;241m+\u001b[39m\u001b[38;5;241m3\u001b[39m)\n\u001b[0;32m      2\u001b[0m \u001b[38;5;28;01mtry\u001b[39;00m:\n\u001b[1;32m----> 3\u001b[0m     \u001b[38;5;28mprint\u001b[39m(\u001b[38;5;241m1\u001b[39m\u001b[38;5;241m/\u001b[39m\u001b[38;5;241m0\u001b[39m)\n\u001b[0;32m      4\u001b[0m \u001b[38;5;28;01mexcept\u001b[39;00m \u001b[38;5;167;01mTypeError\u001b[39;00m:\n\u001b[0;32m      5\u001b[0m     \u001b[38;5;28mprint\u001b[39m(\u001b[38;5;124m'\u001b[39m\u001b[38;5;124merror\u001b[39m\u001b[38;5;124m'\u001b[39m)\n",
      "\u001b[1;31mZeroDivisionError\u001b[0m: division by zero"
     ]
    }
   ],
   "source": [
    "print(1+3)\n",
    "try:\n",
    "    print(1/0)\n",
    "except TypeError:\n",
    "    print('error')\n",
    "print(2+5)"
   ]
  },
  {
   "cell_type": "code",
   "execution_count": 97,
   "id": "20108b95-d837-4d8f-adc6-5b354a1533eb",
   "metadata": {},
   "outputs": [
    {
     "name": "stdout",
     "output_type": "stream",
     "text": [
      "4\n",
      "error\n",
      "7\n"
     ]
    }
   ],
   "source": [
    "print(1+3)\n",
    "try:\n",
    "    print(1/'a')\n",
    "except TypeError:\n",
    "    print('error')\n",
    "print(2+5)"
   ]
  },
  {
   "cell_type": "code",
   "execution_count": 172,
   "id": "2a77e5a3-6a1b-408c-842e-264e653852e5",
   "metadata": {},
   "outputs": [
    {
     "name": "stdin",
     "output_type": "stream",
     "text": [
      "Enter a number:  0\n"
     ]
    },
    {
     "name": "stdout",
     "output_type": "stream",
     "text": [
      "Error: division by zero\n"
     ]
    }
   ],
   "source": [
    "# try-except me error kaise pata chale? JS me catch(err) jaisa.\n",
    "try:\n",
    "    x = int(input(\"Enter a number: \"))\n",
    "    print(10 / x)\n",
    "except Exception as err:\n",
    "    print(\"Error:\", err)\n",
    "\n",
    "# teacher's method is preferred"
   ]
  },
  {
   "cell_type": "code",
   "execution_count": 125,
   "id": "9de759f3-2fa7-4dd8-88ae-ece1b84d093f",
   "metadata": {},
   "outputs": [
    {
     "name": "stdin",
     "output_type": "stream",
     "text": [
      "Enter number: 3\n",
      "Enter number: 3\n"
     ]
    },
    {
     "name": "stdout",
     "output_type": "stream",
     "text": [
      "1.0\n"
     ]
    }
   ],
   "source": [
    "try:\n",
    "    x=int(input('Enter number:'))\n",
    "    y=int(input('Enter number:'))\n",
    "\n",
    "    result= x/y\n",
    "    print(result)\n",
    "\n",
    "except ZeroDivisionError:\n",
    "    print('cannot divide by zero')\n",
    "\n",
    "except ValueError:\n",
    "    print('Invalid Integer')\n",
    "\n"
   ]
  },
  {
   "cell_type": "code",
   "execution_count": 127,
   "id": "f4ade551-3fe3-4bd8-82eb-a32e45d88f5c",
   "metadata": {},
   "outputs": [
    {
     "name": "stdin",
     "output_type": "stream",
     "text": [
      "Enter number: 2\n",
      "Enter number: 2\n"
     ]
    },
    {
     "name": "stdout",
     "output_type": "stream",
     "text": [
      "1.0\n"
     ]
    }
   ],
   "source": [
    "try:\n",
    "    x=int(input('Enter number:'))\n",
    "    y=int(input('Enter number:'))\n",
    "\n",
    "    result= x/y\n",
    "    \n",
    "except ZeroDivisionError:\n",
    "    print('cannot divide by zero')\n",
    "\n",
    "except ValueError:\n",
    "    print('Invalid Integer')\n",
    "\n",
    "else:\n",
    "    print(result)"
   ]
  },
  {
   "cell_type": "code",
   "execution_count": 139,
   "id": "0c2789ae-676f-4e31-ab9a-b01d29d493f9",
   "metadata": {},
   "outputs": [
    {
     "name": "stdin",
     "output_type": "stream",
     "text": [
      "Enter number: 1\n",
      "Enter number: 0\n"
     ]
    },
    {
     "name": "stdout",
     "output_type": "stream",
     "text": [
      "cannot divide by zero\n",
      "program executed\n"
     ]
    }
   ],
   "source": [
    "try:\n",
    "    x=int(input('Enter number:'))\n",
    "    y=int(input('Enter number:'))\n",
    "\n",
    "    result= x/y\n",
    "    \n",
    "except ZeroDivisionError:\n",
    "    print('cannot divide by zero')\n",
    "\n",
    "except ValueError:\n",
    "    print('Invalid Integer')\n",
    "\n",
    "else:\n",
    "    print(result)\n",
    "\n",
    "finally:\n",
    "    print('program executed')"
   ]
  },
  {
   "cell_type": "markdown",
   "id": "d31cbe7e-1689-4e94-812e-9f9d16e9c9c5",
   "metadata": {},
   "source": [
    "### PRACTICE"
   ]
  },
  {
   "cell_type": "code",
   "execution_count": 156,
   "id": "0ca40c38-0cec-420b-9f20-0970ccfa8d79",
   "metadata": {},
   "outputs": [
    {
     "name": "stdin",
     "output_type": "stream",
     "text": [
      "Enter km: 300\n"
     ]
    },
    {
     "name": "stdout",
     "output_type": "stream",
     "text": [
      "300.0 km is equal to 186.4113 miles\n"
     ]
    }
   ],
   "source": [
    "# km to miles\n",
    "def km_to_miles():\n",
    "    km = float(input(\"Enter km:\"))\n",
    "    miles = km * 0.621371\n",
    "    print(f\"{km} km is equal to {miles} miles\")\n",
    "km_to_miles()\n",
    "\n"
   ]
  },
  {
   "cell_type": "code",
   "execution_count": 168,
   "id": "32e0a40d-2c66-4a64-bc9c-a961b1b258c3",
   "metadata": {},
   "outputs": [
    {
     "data": {
      "text/plain": [
       "2.0"
      ]
     },
     "execution_count": 168,
     "metadata": {},
     "output_type": "execute_result"
    }
   ],
   "source": [
    "#pkr to usd \n",
    "def pkr_to_usd(pkr_amount, exchange_rate=282):\n",
    "    usd = pkr_amount / exchange_rate\n",
    "    return usd\n",
    "\n",
    "pkr_to_usd(564)"
   ]
  },
  {
   "cell_type": "code",
   "execution_count": null,
   "id": "a8086d14-6aa7-4f1a-9438-c9e38c1661de",
   "metadata": {},
   "outputs": [],
   "source": []
  }
 ],
 "metadata": {
  "kernelspec": {
   "display_name": "Python [conda env:base] *",
   "language": "python",
   "name": "conda-base-py"
  },
  "language_info": {
   "codemirror_mode": {
    "name": "ipython",
    "version": 3
   },
   "file_extension": ".py",
   "mimetype": "text/x-python",
   "name": "python",
   "nbconvert_exporter": "python",
   "pygments_lexer": "ipython3",
   "version": "3.12.7"
  }
 },
 "nbformat": 4,
 "nbformat_minor": 5
}
