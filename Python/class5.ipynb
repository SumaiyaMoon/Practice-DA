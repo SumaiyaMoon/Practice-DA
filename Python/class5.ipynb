{
 "cells": [
  {
   "cell_type": "markdown",
   "id": "755d8416-a70a-44f8-8678-28181fbc4a98",
   "metadata": {},
   "source": [
    "# Lists"
   ]
  },
  {
   "cell_type": "code",
   "execution_count": 110,
   "id": "ef5929de-7386-4eca-b81e-4552f9352864",
   "metadata": {},
   "outputs": [
    {
     "data": {
      "text/plain": [
       "['20k', '20k', '65k', '50k', '56k', '45k', '34k']"
      ]
     },
     "execution_count": 110,
     "metadata": {},
     "output_type": "execute_result"
    }
   ],
   "source": [
    "salaries = ['20k', '20k', '65k', '50k', '56k', '45k', '34k']\n",
    "salaries"
   ]
  },
  {
   "cell_type": "markdown",
   "id": "6c425c48-c14c-4446-adf4-0856f128c9e6",
   "metadata": {},
   "source": [
    "## Indexing"
   ]
  },
  {
   "cell_type": "code",
   "execution_count": 112,
   "id": "335c7c8c-8c1c-4927-8e39-b8c799777d14",
   "metadata": {},
   "outputs": [
    {
     "data": {
      "text/plain": [
       "'20k'"
      ]
     },
     "execution_count": 112,
     "metadata": {},
     "output_type": "execute_result"
    }
   ],
   "source": [
    "salaries[1]"
   ]
  },
  {
   "cell_type": "code",
   "execution_count": 113,
   "id": "ae6466e1-c311-4fc8-bb40-38f10b7f6181",
   "metadata": {},
   "outputs": [
    {
     "data": {
      "text/plain": [
       "'65k'"
      ]
     },
     "execution_count": 113,
     "metadata": {},
     "output_type": "execute_result"
    }
   ],
   "source": [
    "salaries[-5]"
   ]
  },
  {
   "cell_type": "markdown",
   "id": "62ba0618-a15a-4449-af85-73a14c217363",
   "metadata": {},
   "source": [
    "## Slicing"
   ]
  },
  {
   "cell_type": "code",
   "execution_count": 115,
   "id": "fec1af03-15b7-4101-9558-24575c2598e6",
   "metadata": {},
   "outputs": [
    {
     "data": {
      "text/plain": [
       "['65k', '50k', '56k']"
      ]
     },
     "execution_count": 115,
     "metadata": {},
     "output_type": "execute_result"
    }
   ],
   "source": [
    "salaries[2:5] #data at index 2,3,4 - positive indexing"
   ]
  },
  {
   "cell_type": "code",
   "execution_count": 116,
   "id": "afe69b12-f73d-4913-b5cc-f951ae985d6f",
   "metadata": {},
   "outputs": [
    {
     "data": {
      "text/plain": [
       "['65k', '50k', '56k']"
      ]
     },
     "execution_count": 116,
     "metadata": {},
     "output_type": "execute_result"
    }
   ],
   "source": [
    "salaries[-5:-2] #data at index 2,3,4 - negative indexing"
   ]
  },
  {
   "cell_type": "code",
   "execution_count": 117,
   "id": "891f906f-6e59-48e7-98a4-650ca7862294",
   "metadata": {},
   "outputs": [
    {
     "data": {
      "text/plain": [
       "['20k', '20k', '65k', '50k', '56k', '45k', '34k']"
      ]
     },
     "execution_count": 117,
     "metadata": {},
     "output_type": "execute_result"
    }
   ],
   "source": [
    "salaries"
   ]
  },
  {
   "cell_type": "code",
   "execution_count": 118,
   "id": "6bee6ae9-3e02-45b3-a906-1891e76cde62",
   "metadata": {},
   "outputs": [
    {
     "data": {
      "text/plain": [
       "['20k', '65k', '50k', '56k', '45k', '34k']"
      ]
     },
     "execution_count": 118,
     "metadata": {},
     "output_type": "execute_result"
    }
   ],
   "source": [
    "salaries[1:] # slicing to the end"
   ]
  },
  {
   "cell_type": "code",
   "execution_count": 119,
   "id": "ee9952af-8b36-4229-a575-76d799f7cec1",
   "metadata": {},
   "outputs": [
    {
     "data": {
      "text/plain": [
       "['20k', '20k', '65k', '50k', '56k']"
      ]
     },
     "execution_count": 119,
     "metadata": {},
     "output_type": "execute_result"
    }
   ],
   "source": [
    "salaries[:5] #slicing from the start"
   ]
  },
  {
   "cell_type": "code",
   "execution_count": null,
   "id": "901f3487-a813-4ad7-92c7-21c87ca3c803",
   "metadata": {},
   "outputs": [],
   "source": []
  },
  {
   "cell_type": "code",
   "execution_count": 120,
   "id": "ef709f66-063e-4f62-b413-da0fe44831bf",
   "metadata": {},
   "outputs": [
    {
     "data": {
      "text/plain": [
       "['20k', '50k', '45k']"
      ]
     },
     "execution_count": 120,
     "metadata": {},
     "output_type": "execute_result"
    }
   ],
   "source": [
    "salaries[1:6:2] #range amount of data - jump in slicing"
   ]
  },
  {
   "cell_type": "code",
   "execution_count": 121,
   "id": "2b51fd58-b388-4977-9b3b-e33740ca17ce",
   "metadata": {},
   "outputs": [
    {
     "data": {
      "text/plain": [
       "['20k', '56k']"
      ]
     },
     "execution_count": 121,
     "metadata": {},
     "output_type": "execute_result"
    }
   ],
   "source": [
    "salaries[1:6:3]"
   ]
  },
  {
   "cell_type": "markdown",
   "id": "8ee8c231-5116-4e93-bece-344f4feec6b0",
   "metadata": {},
   "source": [
    "## Methods"
   ]
  },
  {
   "cell_type": "code",
   "execution_count": 123,
   "id": "b338d716-acee-45fc-80e8-6803aab5aadb",
   "metadata": {},
   "outputs": [
    {
     "data": {
      "text/plain": [
       "['__add__',\n",
       " '__class__',\n",
       " '__class_getitem__',\n",
       " '__contains__',\n",
       " '__delattr__',\n",
       " '__delitem__',\n",
       " '__dir__',\n",
       " '__doc__',\n",
       " '__eq__',\n",
       " '__format__',\n",
       " '__ge__',\n",
       " '__getattribute__',\n",
       " '__getitem__',\n",
       " '__getstate__',\n",
       " '__gt__',\n",
       " '__hash__',\n",
       " '__iadd__',\n",
       " '__imul__',\n",
       " '__init__',\n",
       " '__init_subclass__',\n",
       " '__iter__',\n",
       " '__le__',\n",
       " '__len__',\n",
       " '__lt__',\n",
       " '__mul__',\n",
       " '__ne__',\n",
       " '__new__',\n",
       " '__reduce__',\n",
       " '__reduce_ex__',\n",
       " '__repr__',\n",
       " '__reversed__',\n",
       " '__rmul__',\n",
       " '__setattr__',\n",
       " '__setitem__',\n",
       " '__sizeof__',\n",
       " '__str__',\n",
       " '__subclasshook__',\n",
       " 'append',\n",
       " 'clear',\n",
       " 'copy',\n",
       " 'count',\n",
       " 'extend',\n",
       " 'index',\n",
       " 'insert',\n",
       " 'pop',\n",
       " 'remove',\n",
       " 'reverse',\n",
       " 'sort']"
      ]
     },
     "execution_count": 123,
     "metadata": {},
     "output_type": "execute_result"
    }
   ],
   "source": [
    "dir(list)"
   ]
  },
  {
   "cell_type": "code",
   "execution_count": 124,
   "id": "47f26523-3702-4944-9ffa-ce2c3f5bf2cd",
   "metadata": {},
   "outputs": [
    {
     "data": {
      "text/plain": [
       "7"
      ]
     },
     "execution_count": 124,
     "metadata": {},
     "output_type": "execute_result"
    }
   ],
   "source": [
    "len(salaries) #built-in fn'"
   ]
  },
  {
   "cell_type": "code",
   "execution_count": 125,
   "id": "37309826-e35c-4f92-a417-905f0e7801a1",
   "metadata": {},
   "outputs": [
    {
     "data": {
      "text/plain": [
       "7"
      ]
     },
     "execution_count": 125,
     "metadata": {},
     "output_type": "execute_result"
    }
   ],
   "source": [
    "salaries = ['20k', '20k', '65k', '50k', '56k', '45k', '34k']\n",
    "len(salaries) #built-in fn'"
   ]
  },
  {
   "cell_type": "code",
   "execution_count": 126,
   "id": "3a61ebfd-b45b-4d70-874e-7bcde2fa7c6b",
   "metadata": {},
   "outputs": [
    {
     "data": {
      "text/plain": [
       "4"
      ]
     },
     "execution_count": 126,
     "metadata": {},
     "output_type": "execute_result"
    }
   ],
   "source": [
    "salaries.index('56k')"
   ]
  },
  {
   "cell_type": "code",
   "execution_count": 127,
   "id": "259bd8cf-66b1-4196-9ca6-5647dc6a4a74",
   "metadata": {},
   "outputs": [
    {
     "ename": "ValueError",
     "evalue": "'44k' is not in list",
     "output_type": "error",
     "traceback": [
      "\u001b[1;31m---------------------------------------------------------------------------\u001b[0m",
      "\u001b[1;31mValueError\u001b[0m                                Traceback (most recent call last)",
      "Cell \u001b[1;32mIn[127], line 1\u001b[0m\n\u001b[1;32m----> 1\u001b[0m salaries\u001b[38;5;241m.\u001b[39mindex(\u001b[38;5;124m'\u001b[39m\u001b[38;5;124m44k\u001b[39m\u001b[38;5;124m'\u001b[39m)\n",
      "\u001b[1;31mValueError\u001b[0m: '44k' is not in list"
     ]
    }
   ],
   "source": [
    "salaries.index('44k')"
   ]
  },
  {
   "cell_type": "code",
   "execution_count": null,
   "id": "64ed567e-2652-4c2f-bf87-852739592b7b",
   "metadata": {},
   "outputs": [],
   "source": [
    "salaries.append('90k')"
   ]
  },
  {
   "cell_type": "code",
   "execution_count": null,
   "id": "478ae421-2a57-4ef2-8c1f-d940ce5297e3",
   "metadata": {},
   "outputs": [],
   "source": [
    "salaries"
   ]
  },
  {
   "cell_type": "code",
   "execution_count": null,
   "id": "4a124ce1-b764-4dcd-858e-f08346e7cd27",
   "metadata": {},
   "outputs": [],
   "source": [
    "salaries[3]"
   ]
  },
  {
   "cell_type": "code",
   "execution_count": null,
   "id": "cd69b853-fc07-4ea6-bc79-f401b39de7a5",
   "metadata": {},
   "outputs": [],
   "source": [
    "salaries[3] = '11k'"
   ]
  },
  {
   "cell_type": "code",
   "execution_count": null,
   "id": "265390e5-72fd-44c4-b9b4-66cfeafd2f6c",
   "metadata": {},
   "outputs": [],
   "source": [
    "salaries[3]"
   ]
  },
  {
   "cell_type": "code",
   "execution_count": null,
   "id": "dde7711f-844d-45d2-b222-5ffc011928a2",
   "metadata": {},
   "outputs": [],
   "source": [
    "salaries"
   ]
  },
  {
   "cell_type": "code",
   "execution_count": null,
   "id": "609686d1-f3d4-4eae-860a-58088cc01ed5",
   "metadata": {},
   "outputs": [],
   "source": [
    "salaries.pop()"
   ]
  },
  {
   "cell_type": "code",
   "execution_count": null,
   "id": "7f60700e-e27f-40af-aa79-f3c36171e909",
   "metadata": {},
   "outputs": [],
   "source": [
    "salaries"
   ]
  },
  {
   "cell_type": "code",
   "execution_count": null,
   "id": "f97fa44b-0e86-4fd5-bdc7-64b1df655aa1",
   "metadata": {},
   "outputs": [],
   "source": [
    "salaries.pop(3)"
   ]
  },
  {
   "cell_type": "code",
   "execution_count": null,
   "id": "2d2eff6f-f07f-43e8-8036-747c5ec74e22",
   "metadata": {},
   "outputs": [],
   "source": [
    "salaries"
   ]
  },
  {
   "cell_type": "code",
   "execution_count": null,
   "id": "1f879a74-85e0-4809-8cfb-816d4a397541",
   "metadata": {},
   "outputs": [],
   "source": [
    "salaries.remove('34k')"
   ]
  },
  {
   "cell_type": "code",
   "execution_count": null,
   "id": "51796e23-0183-4e11-a475-7022f8b350b7",
   "metadata": {},
   "outputs": [],
   "source": [
    "salaries"
   ]
  },
  {
   "cell_type": "code",
   "execution_count": null,
   "id": "77c041a9-21d4-48f9-885c-55050d39ec82",
   "metadata": {},
   "outputs": [],
   "source": [
    "salaries.reverse()"
   ]
  },
  {
   "cell_type": "code",
   "execution_count": null,
   "id": "5816fb58-d94f-4dc3-97a5-57a6bd923fe9",
   "metadata": {},
   "outputs": [],
   "source": [
    "salaries"
   ]
  },
  {
   "cell_type": "code",
   "execution_count": null,
   "id": "153bfada-42ee-41bb-ac65-42a8e00abf2e",
   "metadata": {},
   "outputs": [],
   "source": [
    "num = [2, 3, 78, 1, 10]"
   ]
  },
  {
   "cell_type": "code",
   "execution_count": null,
   "id": "b64f4566-ed3f-4113-916a-4ae5b53fe443",
   "metadata": {},
   "outputs": [],
   "source": [
    "num.sort()"
   ]
  },
  {
   "cell_type": "code",
   "execution_count": null,
   "id": "7c70bf50-aaf9-48ac-a8c3-74b8a6f691d6",
   "metadata": {},
   "outputs": [],
   "source": [
    "num"
   ]
  },
  {
   "cell_type": "code",
   "execution_count": null,
   "id": "4359006f-ac36-45ae-b96c-1fce7c8971d3",
   "metadata": {},
   "outputs": [],
   "source": [
    "salaries.sort()"
   ]
  },
  {
   "cell_type": "code",
   "execution_count": null,
   "id": "71455034-5583-4e7e-9385-bf9eccc39ae1",
   "metadata": {},
   "outputs": [],
   "source": [
    "salaries"
   ]
  },
  {
   "cell_type": "code",
   "execution_count": null,
   "id": "c7b9ec29-f504-4e19-9b48-a07e49334e75",
   "metadata": {},
   "outputs": [],
   "source": [
    "salaries.append('250k')\n",
    "salaries.sort()"
   ]
  },
  {
   "cell_type": "code",
   "execution_count": null,
   "id": "696349d2-68e0-477c-8eeb-b1fedfff9091",
   "metadata": {},
   "outputs": [],
   "source": [
    "salaries"
   ]
  },
  {
   "cell_type": "code",
   "execution_count": null,
   "id": "d592b6e3-adb5-4965-a328-35689d8a8f4b",
   "metadata": {},
   "outputs": [],
   "source": [
    "updatedSalaries = salaries.copy()\n",
    "updatedSalaries"
   ]
  },
  {
   "cell_type": "code",
   "execution_count": null,
   "id": "55183f4e-7668-4228-9017-8c712158a0c7",
   "metadata": {},
   "outputs": [],
   "source": [
    "# if we will assign it like this updatedSalaries = salaries , \n",
    "# changing updatedSalaries will change salaries"
   ]
  },
  {
   "cell_type": "code",
   "execution_count": null,
   "id": "a190c605-b8f3-4cb2-b05e-d801d0fffa83",
   "metadata": {},
   "outputs": [],
   "source": [
    "salaries.count('20k')"
   ]
  },
  {
   "cell_type": "code",
   "execution_count": null,
   "id": "50267bfc-f2d4-47f9-847e-bc170f8e7db6",
   "metadata": {},
   "outputs": [],
   "source": [
    "salaries.extend(num)"
   ]
  },
  {
   "cell_type": "code",
   "execution_count": null,
   "id": "cf9b6663-39f9-4bb2-9bd2-2394dcf80b77",
   "metadata": {},
   "outputs": [],
   "source": [
    "salaries"
   ]
  },
  {
   "cell_type": "code",
   "execution_count": null,
   "id": "61de557f-beeb-4926-8c35-2cef74a9cf2e",
   "metadata": {},
   "outputs": [],
   "source": [
    "#docstring - shift+tab"
   ]
  },
  {
   "cell_type": "code",
   "execution_count": null,
   "id": "b6e2cd53-f702-4ef5-a0e8-0420f5c59017",
   "metadata": {},
   "outputs": [],
   "source": [
    "salaries.clear()"
   ]
  },
  {
   "cell_type": "code",
   "execution_count": null,
   "id": "b9cd0b56-d02a-4cf4-a7fe-57f07ccfe176",
   "metadata": {},
   "outputs": [],
   "source": [
    "salaries"
   ]
  },
  {
   "cell_type": "raw",
   "id": "f9e7ad6a-3fbc-4508-bd6a-9eebbdbaa615",
   "metadata": {},
   "source": [
    "students = ['Ali', 'Sara', 'John', 'Maria', 'Ahmed'] \n",
    "Q1: Use append() to add a new student named \"Zara\" to the list. \n",
    "Q2: Use insert() to add a student \"Bilal\" at the second position. \n",
    "Q3: Use remove() to remove the student \"John\". \n",
    "Q4: Use pop() to remove the last student and show their name."
   ]
  },
  {
   "cell_type": "code",
   "execution_count": 142,
   "id": "cd3b7ecc-32cd-4d8e-a285-5fc5d2e80984",
   "metadata": {},
   "outputs": [
    {
     "data": {
      "text/plain": [
       "['Ali', 'Sara', 'John', 'Maria', 'Ahmed', 'Zara']"
      ]
     },
     "execution_count": 142,
     "metadata": {},
     "output_type": "execute_result"
    }
   ],
   "source": [
    "students = ['Ali', 'Sara', 'John', 'Maria', 'Ahmed'] \n",
    "students.append('Zara')\n",
    "students"
   ]
  },
  {
   "cell_type": "code",
   "execution_count": 144,
   "id": "6867057e-4b60-40e8-b2cc-f680bf38868d",
   "metadata": {},
   "outputs": [
    {
     "data": {
      "text/plain": [
       "['Ali', 'Bilal', 'Sara', 'John', 'Maria', 'Ahmed', 'Zara']"
      ]
     },
     "execution_count": 144,
     "metadata": {},
     "output_type": "execute_result"
    }
   ],
   "source": [
    "students.insert(1,'Bilal')\n",
    "students "
   ]
  },
  {
   "cell_type": "code",
   "execution_count": 146,
   "id": "f441ce03-fde8-48cd-906a-28178f2ff225",
   "metadata": {},
   "outputs": [
    {
     "data": {
      "text/plain": [
       "['Ali', 'Bilal', 'Sara', 'Maria', 'Ahmed', 'Zara']"
      ]
     },
     "execution_count": 146,
     "metadata": {},
     "output_type": "execute_result"
    }
   ],
   "source": [
    "students.remove('John')\n",
    "students"
   ]
  },
  {
   "cell_type": "code",
   "execution_count": 148,
   "id": "d849daa6-d528-4402-b09f-49f95eb50092",
   "metadata": {},
   "outputs": [
    {
     "data": {
      "text/plain": [
       "'Zara'"
      ]
     },
     "execution_count": 148,
     "metadata": {},
     "output_type": "execute_result"
    }
   ],
   "source": [
    "students.pop()"
   ]
  },
  {
   "cell_type": "code",
   "execution_count": null,
   "id": "2b80aff3-d3e0-4fd4-b18b-42628f837bee",
   "metadata": {},
   "outputs": [],
   "source": []
  }
 ],
 "metadata": {
  "kernelspec": {
   "display_name": "Python [conda env:base] *",
   "language": "python",
   "name": "conda-base-py"
  },
  "language_info": {
   "codemirror_mode": {
    "name": "ipython",
    "version": 3
   },
   "file_extension": ".py",
   "mimetype": "text/x-python",
   "name": "python",
   "nbconvert_exporter": "python",
   "pygments_lexer": "ipython3",
   "version": "3.12.7"
  }
 },
 "nbformat": 4,
 "nbformat_minor": 5
}
