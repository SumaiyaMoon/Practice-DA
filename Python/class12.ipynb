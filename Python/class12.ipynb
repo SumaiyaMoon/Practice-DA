{
 "cells": [
  {
   "cell_type": "markdown",
   "id": "fd856555-bc53-464a-b7db-a4cc863b5f95",
   "metadata": {},
   "source": [
    "# Functions"
   ]
  },
  {
   "cell_type": "markdown",
   "id": "9df6423b-5c32-4342-a452-cb9bb80caefb",
   "metadata": {},
   "source": [
    "### pre-built\n",
    "type()\n",
    "\n",
    "dir()\n",
    "\n",
    "len()\n",
    "\n",
    "str()\n"
   ]
  },
  {
   "cell_type": "markdown",
   "id": "d50a2d96-e7cf-4487-a97e-17b2d9575f86",
   "metadata": {},
   "source": [
    "### User-Defined Functions"
   ]
  },
  {
   "cell_type": "code",
   "execution_count": 5,
   "id": "c96a206d-a5e3-46d3-a4fe-68fc2a945595",
   "metadata": {},
   "outputs": [
    {
     "name": "stdout",
     "output_type": "stream",
     "text": [
      "my first function\n",
      "I created first fn\n",
      "finally\n"
     ]
    }
   ],
   "source": [
    "print('my first function')\n",
    "print('I created first fn')\n",
    "print('finally')"
   ]
  },
  {
   "cell_type": "code",
   "execution_count": 17,
   "id": "0cb56ae3-437b-4ffb-b02b-929fd5b31503",
   "metadata": {},
   "outputs": [
    {
     "name": "stdout",
     "output_type": "stream",
     "text": [
      "my first function\n",
      "I created first fn\n",
      "finally\n"
     ]
    }
   ],
   "source": [
    "#syntax\n",
    "\n",
    "#comment - this fn' returns 3 lines of msg\n",
    "def my_function(): #initialization\n",
    "    print('my first function')\n",
    "    print('I created first fn')\n",
    "    print('finally')\n",
    "my_function()"
   ]
  },
  {
   "cell_type": "code",
   "execution_count": 13,
   "id": "1037e071-cdda-47ec-9545-20605ad95df7",
   "metadata": {},
   "outputs": [],
   "source": [
    "# reusable\n",
    "# abstraction"
   ]
  },
  {
   "cell_type": "code",
   "execution_count": 21,
   "id": "ad3ef359-f3ce-443d-8662-6fc753ad3716",
   "metadata": {},
   "outputs": [
    {
     "ename": "SyntaxError",
     "evalue": "expected '(' (2217243653.py, line 1)",
     "output_type": "error",
     "traceback": [
      "\u001b[1;36m  Cell \u001b[1;32mIn[21], line 1\u001b[1;36m\u001b[0m\n\u001b[1;33m    def func_1:\u001b[0m\n\u001b[1;37m              ^\u001b[0m\n\u001b[1;31mSyntaxError\u001b[0m\u001b[1;31m:\u001b[0m expected '('\n"
     ]
    }
   ],
   "source": [
    "def func_1:"
   ]
  },
  {
   "cell_type": "code",
   "execution_count": 19,
   "id": "64973229-6d2a-4669-8c32-6023cfd3e875",
   "metadata": {},
   "outputs": [
    {
     "ename": "IndentationError",
     "evalue": "expected an indented block after function definition on line 1 (1009883942.py, line 3)",
     "output_type": "error",
     "traceback": [
      "\u001b[1;36m  Cell \u001b[1;32mIn[19], line 3\u001b[1;36m\u001b[0m\n\u001b[1;33m    print('checking')\u001b[0m\n\u001b[1;37m    ^\u001b[0m\n\u001b[1;31mIndentationError\u001b[0m\u001b[1;31m:\u001b[0m expected an indented block after function definition on line 1\n"
     ]
    }
   ],
   "source": [
    "def my_func():\n",
    "\n",
    "print('checking')"
   ]
  },
  {
   "cell_type": "code",
   "execution_count": 23,
   "id": "16084d92-f287-45a1-90ad-494b783f3ead",
   "metadata": {},
   "outputs": [
    {
     "name": "stdout",
     "output_type": "stream",
     "text": [
      "\n"
     ]
    }
   ],
   "source": [
    "print()"
   ]
  },
  {
   "cell_type": "code",
   "execution_count": 25,
   "id": "25063942-c7b2-48cc-9e4e-27859a294881",
   "metadata": {},
   "outputs": [],
   "source": [
    "def add(x,y): #parameters x, y\n",
    "    print(x+y)"
   ]
  },
  {
   "cell_type": "code",
   "execution_count": 31,
   "id": "861a9a68-933f-4141-8573-42b1f457ee05",
   "metadata": {},
   "outputs": [
    {
     "name": "stdout",
     "output_type": "stream",
     "text": [
      "11\n"
     ]
    }
   ],
   "source": [
    "add(5,6) #function call"
   ]
  },
  {
   "cell_type": "code",
   "execution_count": 29,
   "id": "352b9107-9ffc-44ee-974e-5211f346d160",
   "metadata": {},
   "outputs": [
    {
     "ename": "TypeError",
     "evalue": "add() missing 2 required positional arguments: 'x' and 'y'",
     "output_type": "error",
     "traceback": [
      "\u001b[1;31m---------------------------------------------------------------------------\u001b[0m",
      "\u001b[1;31mTypeError\u001b[0m                                 Traceback (most recent call last)",
      "Cell \u001b[1;32mIn[29], line 1\u001b[0m\n\u001b[1;32m----> 1\u001b[0m add()\n",
      "\u001b[1;31mTypeError\u001b[0m: add() missing 2 required positional arguments: 'x' and 'y'"
     ]
    }
   ],
   "source": [
    "add()"
   ]
  },
  {
   "cell_type": "code",
   "execution_count": 33,
   "id": "1697c67e-2ffa-471e-9178-bb10be4e79a2",
   "metadata": {},
   "outputs": [
    {
     "ename": "TypeError",
     "evalue": "add() takes 2 positional arguments but 3 were given",
     "output_type": "error",
     "traceback": [
      "\u001b[1;31m---------------------------------------------------------------------------\u001b[0m",
      "\u001b[1;31mTypeError\u001b[0m                                 Traceback (most recent call last)",
      "Cell \u001b[1;32mIn[33], line 1\u001b[0m\n\u001b[1;32m----> 1\u001b[0m add(\u001b[38;5;241m2\u001b[39m,\u001b[38;5;241m4\u001b[39m,\u001b[38;5;241m6\u001b[39m)\n",
      "\u001b[1;31mTypeError\u001b[0m: add() takes 2 positional arguments but 3 were given"
     ]
    }
   ],
   "source": [
    "add(2,4,6)"
   ]
  },
  {
   "cell_type": "code",
   "execution_count": 35,
   "id": "a5045b23-a0ed-4907-8639-b4b4757e7343",
   "metadata": {},
   "outputs": [
    {
     "name": "stdout",
     "output_type": "stream",
     "text": [
      "ac\n"
     ]
    }
   ],
   "source": [
    "add(\"a\",\"c\")"
   ]
  },
  {
   "cell_type": "code",
   "execution_count": 37,
   "id": "71b5e072-d043-4a03-b948-b1b3be631657",
   "metadata": {},
   "outputs": [
    {
     "ename": "TypeError",
     "evalue": "can only concatenate str (not \"int\") to str",
     "output_type": "error",
     "traceback": [
      "\u001b[1;31m---------------------------------------------------------------------------\u001b[0m",
      "\u001b[1;31mTypeError\u001b[0m                                 Traceback (most recent call last)",
      "Cell \u001b[1;32mIn[37], line 1\u001b[0m\n\u001b[1;32m----> 1\u001b[0m add(\u001b[38;5;124m'\u001b[39m\u001b[38;5;124ma\u001b[39m\u001b[38;5;124m'\u001b[39m,\u001b[38;5;241m5\u001b[39m)\n",
      "Cell \u001b[1;32mIn[25], line 2\u001b[0m, in \u001b[0;36madd\u001b[1;34m(x, y)\u001b[0m\n\u001b[0;32m      1\u001b[0m \u001b[38;5;28;01mdef\u001b[39;00m \u001b[38;5;21madd\u001b[39m(x,y): \u001b[38;5;66;03m#parameters x, y\u001b[39;00m\n\u001b[1;32m----> 2\u001b[0m     \u001b[38;5;28mprint\u001b[39m(x\u001b[38;5;241m+\u001b[39my)\n",
      "\u001b[1;31mTypeError\u001b[0m: can only concatenate str (not \"int\") to str"
     ]
    }
   ],
   "source": [
    "add('a',5)"
   ]
  },
  {
   "cell_type": "code",
   "execution_count": 45,
   "id": "819d537c-e1a5-45f0-8159-255168a10cdf",
   "metadata": {},
   "outputs": [
    {
     "name": "stdout",
     "output_type": "stream",
     "text": [
      "Welcome Guest\n",
      "Welcome Kulsoom\n"
     ]
    }
   ],
   "source": [
    "def default(y='Guest'):\n",
    "    print('Welcome', y)\n",
    "    \n",
    "default()\n",
    "default('Kulsoom')"
   ]
  },
  {
   "cell_type": "code",
   "execution_count": 51,
   "id": "65d4a7d8-f8c5-42a8-99a7-6e82ece50cee",
   "metadata": {},
   "outputs": [
    {
     "name": "stdout",
     "output_type": "stream",
     "text": [
      "-54\n"
     ]
    }
   ],
   "source": [
    "def subract(p,q):\n",
    "    print(p-q)\n",
    "subract(44,98)"
   ]
  },
  {
   "cell_type": "code",
   "execution_count": 63,
   "id": "3bfd56b6-43c9-4659-88ca-ec2c502e1249",
   "metadata": {},
   "outputs": [
    {
     "name": "stdout",
     "output_type": "stream",
     "text": [
      "0.09090909090909091\n",
      "11.0\n"
     ]
    }
   ],
   "source": [
    "def div(l, m):\n",
    "    print(m/l)\n",
    "\n",
    "div(55,5)\n",
    "div(5,55)"
   ]
  },
  {
   "cell_type": "markdown",
   "id": "74ae9cce-49bd-49a6-8fbd-f1947e704773",
   "metadata": {},
   "source": [
    "### Parameters"
   ]
  },
  {
   "cell_type": "code",
   "execution_count": 61,
   "id": "1a26eeed-aca4-4e51-9084-f1b725853ad1",
   "metadata": {},
   "outputs": [
    {
     "name": "stdout",
     "output_type": "stream",
     "text": [
      "a: 10\n",
      "b: 2\n",
      "c: 3\n",
      "a: 10\n",
      "b: 20\n",
      "c: 3\n",
      "a: 10\n",
      "b: 20\n",
      "c: 30\n",
      "a: 10\n",
      "b: 2\n",
      "c: 3\n",
      "a: 10\n",
      "b: 2\n",
      "c: 30\n",
      "a: 10\n",
      "b: 20\n",
      "c: 30\n",
      "a: 10\n",
      "b: 2\n",
      "c: 30\n"
     ]
    }
   ],
   "source": [
    "def my_function(a, b=2, c=3): #default parameters b=2, c=3\n",
    "    print(\"a:\", a)\n",
    "    print(\"b:\", b)\n",
    "    print(\"c:\", c)\n",
    "\n",
    "# Calling with positional arguments\n",
    "my_function(10)  # Output: a: 10, b: 2, c: 3\n",
    "my_function(10, 20) # Output: a: 10, b: 20, c: 3\n",
    "my_function(10, 20, 30) # Output: a: 10, b: 20, c: 30\n",
    "\n",
    "# Calling with keyword arguments\n",
    "my_function(a=10) # Output: a: 10, b: 2, c: 3\n",
    "my_function(c=30, a=10)  # Output: a: 10, b: 2, c: 30\n",
    "my_function(a=10, b=20, c=30) # Output: a: 10, b: 20, c: 30\n",
    "\n",
    "# Calling with a mix of positional and keyword arguments\n",
    "my_function(10, c=30) # Output: a: 10, b: 2, c: 30"
   ]
  },
  {
   "cell_type": "code",
   "execution_count": 70,
   "id": "e84d191c-ef52-4de8-865f-d62d8f97f5a2",
   "metadata": {},
   "outputs": [
    {
     "ename": "SyntaxError",
     "evalue": "parameter without a default follows parameter with a default (4176061764.py, line 1)",
     "output_type": "error",
     "traceback": [
      "\u001b[1;36m  Cell \u001b[1;32mIn[70], line 1\u001b[1;36m\u001b[0m\n\u001b[1;33m    def name(first='my name',last):\u001b[0m\n\u001b[1;37m                             ^\u001b[0m\n\u001b[1;31mSyntaxError\u001b[0m\u001b[1;31m:\u001b[0m parameter without a default follows parameter with a default\n"
     ]
    }
   ],
   "source": [
    "def name(first='my name',last):\n",
    "    print(last,first)\n",
    "\n",
    "name(last='last name')"
   ]
  },
  {
   "cell_type": "code",
   "execution_count": 72,
   "id": "215b0541-1e11-4bd5-90ef-680903c7323a",
   "metadata": {},
   "outputs": [
    {
     "name": "stdout",
     "output_type": "stream",
     "text": [
      "last name my name\n"
     ]
    }
   ],
   "source": [
    "def name(last,first='my name'):\n",
    "    print(last,first)\n",
    "\n",
    "name(last='last name')"
   ]
  },
  {
   "cell_type": "code",
   "execution_count": 1,
   "id": "5378534d-55f7-4c2c-baf9-c635935dc3d6",
   "metadata": {},
   "outputs": [],
   "source": [
    "#arbitary no. with positional args\n",
    "def art(*args):\n",
    "    print(args)\n"
   ]
  },
  {
   "cell_type": "code",
   "execution_count": null,
   "id": "e97b43c4-8f48-4be4-8d2e-87d98d794492",
   "metadata": {},
   "outputs": [],
   "source": []
  }
 ],
 "metadata": {
  "kernelspec": {
   "display_name": "Python [conda env:base] *",
   "language": "python",
   "name": "conda-base-py"
  },
  "language_info": {
   "codemirror_mode": {
    "name": "ipython",
    "version": 3
   },
   "file_extension": ".py",
   "mimetype": "text/x-python",
   "name": "python",
   "nbconvert_exporter": "python",
   "pygments_lexer": "ipython3",
   "version": "3.12.7"
  }
 },
 "nbformat": 4,
 "nbformat_minor": 5
}
