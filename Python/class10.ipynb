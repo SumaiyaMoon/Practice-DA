{
 "cells": [
  {
   "cell_type": "markdown",
   "id": "1adab60e-31ca-4e5d-8624-ee3acb38aac0",
   "metadata": {},
   "source": [
    "### LOOP"
   ]
  },
  {
   "cell_type": "code",
   "execution_count": null,
   "id": "914a7918-1aa6-45f2-bbbc-4b7692e7f0fb",
   "metadata": {},
   "outputs": [],
   "source": [
    "fruits = ['apple', 'banana','cherry','mango','orange']\n",
    "index=0\n"
   ]
  }
 ],
 "metadata": {
  "kernelspec": {
   "display_name": "Python [conda env:base] *",
   "language": "python",
   "name": "conda-base-py"
  },
  "language_info": {
   "codemirror_mode": {
    "name": "ipython",
    "version": 3
   },
   "file_extension": ".py",
   "mimetype": "text/x-python",
   "name": "python",
   "nbconvert_exporter": "python",
   "pygments_lexer": "ipython3",
   "version": "3.12.7"
  }
 },
 "nbformat": 4,
 "nbformat_minor": 5
}
