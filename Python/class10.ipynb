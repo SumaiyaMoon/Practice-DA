{
 "cells": [
  {
   "cell_type": "markdown",
   "id": "1adab60e-31ca-4e5d-8624-ee3acb38aac0",
   "metadata": {},
   "source": [
    "## LOOP"
   ]
  },
  {
   "cell_type": "code",
   "execution_count": 11,
   "id": "914a7918-1aa6-45f2-bbbc-4b7692e7f0fb",
   "metadata": {},
   "outputs": [
    {
     "name": "stdout",
     "output_type": "stream",
     "text": [
      "['apple', 'banana', 'cherry', 'mango', 'orange']\n"
     ]
    }
   ],
   "source": [
    "#repeated execution\n",
    "#code reduced\n",
    "fruits = ['apple', 'banana','cherry','mango','orange']\n",
    "index=0\n",
    "print(fruits)"
   ]
  },
  {
   "cell_type": "code",
   "execution_count": 13,
   "id": "4bf7a66a-9752-4da2-97fa-572f2d7a3275",
   "metadata": {},
   "outputs": [
    {
     "name": "stdout",
     "output_type": "stream",
     "text": [
      "apple\n",
      "banana\n",
      "1\n"
     ]
    }
   ],
   "source": [
    "fruits2 = ['apple', 'banana','cherry','mango','orange']\n",
    "index=0\n",
    "print(fruits2[index])\n",
    "index += 1\n",
    "print(fruits2[index])\n",
    "print(index)"
   ]
  },
  {
   "cell_type": "code",
   "execution_count": 4,
   "id": "6095c52d-2ce0-470b-8499-c10c48332ded",
   "metadata": {},
   "outputs": [
    {
     "ename": "IndexError",
     "evalue": "list index out of range",
     "output_type": "error",
     "traceback": [
      "\u001b[1;31m---------------------------------------------------------------------------\u001b[0m",
      "\u001b[1;31mIndexError\u001b[0m                                Traceback (most recent call last)",
      "Cell \u001b[1;32mIn[4], line 2\u001b[0m\n\u001b[0;32m      1\u001b[0m index \u001b[38;5;241m=\u001b[39m \u001b[38;5;241m5\u001b[39m\n\u001b[1;32m----> 2\u001b[0m \u001b[38;5;28mprint\u001b[39m(fruits2[index])\n",
      "\u001b[1;31mIndexError\u001b[0m: list index out of range"
     ]
    }
   ],
   "source": [
    "index = 5\n",
    "print(fruits2[index])"
   ]
  },
  {
   "cell_type": "code",
   "execution_count": 7,
   "id": "3224a4dd-c334-44c0-82c1-2162e4489b27",
   "metadata": {},
   "outputs": [
    {
     "name": "stdout",
     "output_type": "stream",
     "text": [
      "apple\n",
      "banana\n",
      "cherry\n",
      "mango\n",
      "orange\n"
     ]
    }
   ],
   "source": [
    "print(fruits[0])\n",
    "print(fruits[1])\n",
    "print(fruits[2])\n",
    "print(fruits[3])\n",
    "print(fruits[4])\n"
   ]
  },
  {
   "cell_type": "markdown",
   "id": "f1fe1036-00e1-4537-8cf1-8e92205ef515",
   "metadata": {},
   "source": [
    "#### FOR LOOP"
   ]
  },
  {
   "cell_type": "code",
   "execution_count": 15,
   "id": "5335bc59-a476-4432-b521-7931bab2b917",
   "metadata": {},
   "outputs": [
    {
     "name": "stdout",
     "output_type": "stream",
     "text": [
      "apple\n",
      "banana\n",
      "cherry\n",
      "mango\n",
      "orange\n"
     ]
    }
   ],
   "source": [
    "for i in fruits: #i is loop name\n",
    "    print(i)"
   ]
  },
  {
   "cell_type": "markdown",
   "id": "7e64d919-de51-4f15-9378-6dbf24e6acbc",
   "metadata": {},
   "source": [
    "#### WHILE LOOP"
   ]
  },
  {
   "cell_type": "code",
   "execution_count": null,
   "id": "7cac9bc4-ade1-44f5-99e3-47d990a68d07",
   "metadata": {},
   "outputs": [],
   "source": [
    "# INFINITE LOOP - no false condition is given\n",
    "\n",
    "# counter = 0\n",
    "# while counter <= 5:\n",
    "#     print(counter)"
   ]
  },
  {
   "cell_type": "code",
   "execution_count": 23,
   "id": "7f6c2f96-aa87-4bc5-a032-b6a1ca97355a",
   "metadata": {},
   "outputs": [
    {
     "name": "stdout",
     "output_type": "stream",
     "text": [
      "0\n",
      "1\n",
      "2\n",
      "3\n",
      "4\n",
      "5\n"
     ]
    }
   ],
   "source": [
    "counter = 0\n",
    "while counter <= 5: #condition\n",
    "    print(counter)\n",
    "    counter += 1  #false condition"
   ]
  },
  {
   "cell_type": "code",
   "execution_count": 21,
   "id": "6b7abedf-ee9e-4796-8a46-b1c83bb30ce3",
   "metadata": {},
   "outputs": [
    {
     "data": {
      "text/plain": [
       "False"
      ]
     },
     "execution_count": 21,
     "metadata": {},
     "output_type": "execute_result"
    }
   ],
   "source": [
    "5<5"
   ]
  },
  {
   "cell_type": "code",
   "execution_count": 11,
   "id": "2ef56df4-54af-4dba-87e0-dc30017091c2",
   "metadata": {},
   "outputs": [
    {
     "name": "stdout",
     "output_type": "stream",
     "text": [
      "0 1 2 3 4 5 6 7 "
     ]
    }
   ],
   "source": [
    "#end\n",
    "count=0\n",
    "while count <= 7:\n",
    "    print(count, end=\" \")\n",
    "    count += 1"
   ]
  },
  {
   "cell_type": "code",
   "execution_count": 13,
   "id": "6e45a952-db18-42c5-b4c9-979204403608",
   "metadata": {},
   "outputs": [
    {
     "name": "stdout",
     "output_type": "stream",
     "text": [
      "python\n",
      "python\n",
      "python\n",
      "python\n",
      "python\n",
      "python\n"
     ]
    }
   ],
   "source": [
    "string = 'python'\n",
    "index=0\n",
    "\n",
    "while index<len(string):\n",
    "    print(string)\n",
    "    index +=1\n"
   ]
  },
  {
   "cell_type": "code",
   "execution_count": 15,
   "id": "519cfb41-b71f-43cc-aa53-5a096a3e42df",
   "metadata": {},
   "outputs": [
    {
     "data": {
      "text/plain": [
       "6"
      ]
     },
     "execution_count": 15,
     "metadata": {},
     "output_type": "execute_result"
    }
   ],
   "source": [
    "len(string)"
   ]
  },
  {
   "cell_type": "code",
   "execution_count": 19,
   "id": "3c2f8b90-e4b8-4857-83ac-60ac6afef8a3",
   "metadata": {},
   "outputs": [
    {
     "data": {
      "text/plain": [
       "False"
      ]
     },
     "execution_count": 19,
     "metadata": {},
     "output_type": "execute_result"
    }
   ],
   "source": [
    "6<6"
   ]
  },
  {
   "cell_type": "code",
   "execution_count": 45,
   "id": "c0b99dfd-de1e-40c6-8206-ff417de9884c",
   "metadata": {},
   "outputs": [
    {
     "name": "stdout",
     "output_type": "stream",
     "text": [
      "apple hi\n",
      "cherry hi\n"
     ]
    }
   ],
   "source": [
    "fruits5 = ['apple','banana','cherry','date']\n",
    "index=0\n",
    "\n",
    "while index< len(fruits5):\n",
    "    print(fruits5[index], end=\" \")\n",
    "    index += 2"
   ]
  },
  {
   "cell_type": "code",
   "execution_count": 78,
   "id": "1fbe3e9f-df0f-4e84-a4c2-096c82328e48",
   "metadata": {},
   "outputs": [
    {
     "name": "stdout",
     "output_type": "stream",
     "text": [
      "0 1 2 3 4 5 \n",
      "0 1 2 3 4 5 \n",
      "0 1 2 3 4 5 \n"
     ]
    }
   ],
   "source": [
    "#inner loop\n",
    "i = 0  # outer row counter starts at 0\n",
    "while i < 3:  # loop runs for 3 rows (0, 1, 2)\n",
    "    j = 0  # inner column counter starts at 0\n",
    "    while j < 6:  # loop runs for 6 columns (0 to 5)\n",
    "        print(j, end=' ')  # print the column number, stay on same line\n",
    "        j += 1  # increment column counter\n",
    "    print()  # after inner loop, move to next line\n",
    "    i += 1  # increment row counter\n"
   ]
  },
  {
   "cell_type": "code",
   "execution_count": 80,
   "id": "08d5ef8a-b7ec-4e0a-86db-640b8d889605",
   "metadata": {},
   "outputs": [],
   "source": [
    "#Nested While Loop\n",
    "#pattern\n",
    "# 0 1 2 3 4 5\n",
    "# 0 1 2 3 4 5\n",
    "# 0 1 2 3 4 5\n"
   ]
  },
  {
   "cell_type": "code",
   "execution_count": 4,
   "id": "1247bd5d-6ef1-4dd0-bd42-a05b3c9e1326",
   "metadata": {},
   "outputs": [
    {
     "name": "stdout",
     "output_type": "stream",
     "text": [
      "0 1 2 3 4 5 \n",
      "0 1 2 3 4 5 \n",
      "0 1 2 3 4 5 \n"
     ]
    }
   ],
   "source": [
    "x=0\n",
    "while x<3:\n",
    "    j=0\n",
    "    while j<6:\n",
    "        print (j, end =\" \")\n",
    "        j+=1\n",
    "    print()\n",
    "    x+=1"
   ]
  },
  {
   "cell_type": "markdown",
   "id": "24228a11-d7f9-4d5d-8300-7b2b832d4293",
   "metadata": {},
   "source": [
    "### FOR LOOP"
   ]
  },
  {
   "cell_type": "code",
   "execution_count": 11,
   "id": "311641fd-2c2c-4229-a8ea-7f7a279a6d47",
   "metadata": {},
   "outputs": [
    {
     "name": "stdout",
     "output_type": "stream",
     "text": [
      "carrot\n",
      "brinjal\n",
      "potato\n"
     ]
    }
   ],
   "source": [
    "vegetables = ['carrot','brinjal','potato']\n",
    "for u in vegetables:\n",
    "    print(u)"
   ]
  },
  {
   "cell_type": "code",
   "execution_count": 13,
   "id": "a5b4a640-4b49-4bb1-a040-b366737edb2d",
   "metadata": {},
   "outputs": [
    {
     "name": "stdout",
     "output_type": "stream",
     "text": [
      "P\n",
      "y\n",
      "t\n",
      "h\n",
      "o\n",
      "n\n"
     ]
    }
   ],
   "source": [
    "word = 'Python'\n",
    "for words in word:\n",
    "    print(words)"
   ]
  },
  {
   "cell_type": "code",
   "execution_count": 17,
   "id": "9c89484e-52cd-4a9a-9b0f-192ced3495d0",
   "metadata": {},
   "outputs": [
    {
     "name": "stdout",
     "output_type": "stream",
     "text": [
      "1\n",
      "2\n",
      "3\n",
      "4\n",
      "5\n"
     ]
    }
   ],
   "source": [
    "#range fn' generates a sequence\n",
    "\n",
    "for x in range(1,6):\n",
    "    print(x)"
   ]
  },
  {
   "cell_type": "code",
   "execution_count": 23,
   "id": "16602d72-56be-41c9-8b3b-7b877842d6a1",
   "metadata": {},
   "outputs": [
    {
     "name": "stdout",
     "output_type": "stream",
     "text": [
      "0 hello world\n",
      "1 hello world\n",
      "2 hello world\n",
      "3 hello world\n",
      "4 hello world\n"
     ]
    }
   ],
   "source": [
    "# print hello world 5 times\n",
    "\n",
    "for count in range(5):\n",
    "    print(count, 'hello world')"
   ]
  },
  {
   "cell_type": "code",
   "execution_count": 25,
   "id": "fb49421c-7f6b-4c32-9545-c06947fab46c",
   "metadata": {},
   "outputs": [],
   "source": [
    "# start (range) \n",
    "#end (end in print)"
   ]
  },
  {
   "cell_type": "code",
   "execution_count": 27,
   "id": "15bf2b4c-5dec-44d3-8b04-68ac1b6f61d4",
   "metadata": {},
   "outputs": [
    {
     "name": "stdout",
     "output_type": "stream",
     "text": [
      "0\n",
      "1\n",
      "2\n",
      "3\n",
      "4\n"
     ]
    }
   ],
   "source": [
    "#break\n",
    "\n",
    "i = 0\n",
    "while i < 10:\n",
    "    if i == 5:\n",
    "        break  # exits the loop when i reaches 5\n",
    "    print(i)\n",
    "    i += 1\n"
   ]
  },
  {
   "cell_type": "code",
   "execution_count": 41,
   "id": "14777cc8-89f9-436e-aaec-59fc3a243103",
   "metadata": {},
   "outputs": [
    {
     "name": "stdout",
     "output_type": "stream",
     "text": [
      "0\n",
      "1\n",
      "2\n",
      "3\n",
      "4\n"
     ]
    }
   ],
   "source": [
    "for i in range(10):\n",
    "    if i == 5:\n",
    "        break  # exits the loop when i reaches 5\n",
    "    print(i)\n",
    "    i += 1"
   ]
  },
  {
   "cell_type": "code",
   "execution_count": 43,
   "id": "61d46232-8046-45ab-9e7f-6ed3eb4c7179",
   "metadata": {},
   "outputs": [
    {
     "name": "stdout",
     "output_type": "stream",
     "text": [
      "1\n",
      "2\n",
      "4\n",
      "5\n"
     ]
    }
   ],
   "source": [
    "#continue\n",
    "\n",
    "for i in range(5):\n",
    "    i += 1\n",
    "    if i == 3:\n",
    "        continue  # skip printing when i is 3\n",
    "    print(i)\n"
   ]
  },
  {
   "cell_type": "code",
   "execution_count": 37,
   "id": "2a76746e-0e2f-413e-9a6a-2ef214fea236",
   "metadata": {},
   "outputs": [
    {
     "name": "stdout",
     "output_type": "stream",
     "text": [
      "1\n",
      "2\n",
      "4\n",
      "5\n"
     ]
    }
   ],
   "source": [
    "i = 0\n",
    "while i < 5:\n",
    "    i += 1\n",
    "    if i == 3:\n",
    "        continue  # skip printing when i is 3\n",
    "    print(i)\n"
   ]
  },
  {
   "cell_type": "code",
   "execution_count": 53,
   "id": "5a5076fb-4556-4ae3-8aba-6098603accb3",
   "metadata": {
    "scrolled": true
   },
   "outputs": [
    {
     "name": "stdout",
     "output_type": "stream",
     "text": [
      "1 odd\n",
      "2 even\n",
      "3 odd\n",
      "4 even\n",
      "5 odd\n",
      "6 even\n",
      "7 odd\n",
      "8 even\n",
      "9 odd\n",
      "10 even\n"
     ]
    }
   ],
   "source": [
    "#check numbers even or odd from 1 to 10\n",
    "# output eg:\n",
    "# 1: odd\n",
    "# 2: even\n",
    "\n",
    "for num in range(1,11):\n",
    "    if num%2 == 0:\n",
    "        print(num, \"even\")\n",
    "    else:\n",
    "        print(num, \"odd\")"
   ]
  },
  {
   "cell_type": "code",
   "execution_count": 57,
   "id": "096771e7-2972-40f1-824d-77d2f93d582d",
   "metadata": {},
   "outputs": [
    {
     "name": "stdout",
     "output_type": "stream",
     "text": [
      "3 divisible\n",
      "4 not divisible\n",
      "5 not divisible\n",
      "6 divisible\n",
      "7 not divisible\n",
      "8 not divisible\n",
      "9 divisible\n",
      "10 not divisible\n",
      "11 not divisible\n",
      "12 divisible\n",
      "13 not divisible\n",
      "14 not divisible\n",
      "15 divisible\n"
     ]
    }
   ],
   "source": [
    "#Check numbers divisible by 3 from 3 to 15\n",
    "# out eg:\n",
    "# 3: divisible\n",
    "# 5: not divisible\n",
    "\n",
    "num = 3\n",
    "while num <= 15:\n",
    "    if num % 3 == 0:\n",
    "        print(num, \"divisible\")\n",
    "    else:\n",
    "        print(num, \"not divisible\")\n",
    "    num += 1"
   ]
  },
  {
   "cell_type": "code",
   "execution_count": 59,
   "id": "5ea021cb-5381-41ef-bf31-a1a44e43217d",
   "metadata": {},
   "outputs": [
    {
     "name": "stdout",
     "output_type": "stream",
     "text": [
      "5 x  1 = 5\n",
      "5 x  2 = 10\n",
      "5 x  3 = 15\n",
      "5 x  4 = 20\n",
      "5 x  5 = 25\n",
      "5 x  6 = 30\n",
      "5 x  7 = 35\n",
      "5 x  8 = 40\n",
      "5 x  9 = 45\n",
      "5 x  10 = 50\n"
     ]
    }
   ],
   "source": [
    "#print table of 5\n",
    "for i in range(1,11):\n",
    "    j = 5*i\n",
    "    print(\"5 x \", i , \"=\",j )"
   ]
  },
  {
   "cell_type": "code",
   "execution_count": null,
   "id": "3f0872fc-378d-4618-919c-0d1774854905",
   "metadata": {},
   "outputs": [],
   "source": []
  }
 ],
 "metadata": {
  "kernelspec": {
   "display_name": "Python [conda env:base] *",
   "language": "python",
   "name": "conda-base-py"
  },
  "language_info": {
   "codemirror_mode": {
    "name": "ipython",
    "version": 3
   },
   "file_extension": ".py",
   "mimetype": "text/x-python",
   "name": "python",
   "nbconvert_exporter": "python",
   "pygments_lexer": "ipython3",
   "version": "3.12.7"
  }
 },
 "nbformat": 4,
 "nbformat_minor": 5
}
