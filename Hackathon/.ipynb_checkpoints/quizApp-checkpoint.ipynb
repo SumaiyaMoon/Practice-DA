{
 "cells": [
  {
   "cell_type": "code",
   "execution_count": 1,
   "id": "d198045a-2606-4722-a5ca-a9c95c4c7223",
   "metadata": {},
   "outputs": [],
   "source": [
    "quizQuestions = {\n",
    "    1:{\n",
    "        \"question\": \"What is the capital city of Pakistan?\",\n",
    "        \"options\": [\"Karachi\",\"Lahore\",\"Peshawar\",\"Islamabad\"],\n",
    "        \"answer\": \"Islamabad\"\n",
    "    },\n",
    "    2:{\n",
    "        \"question\": \"What is the national sport of Pakistan?\",\n",
    "        \"options\": [\"Hockey\", \"Cricket\", \"Football\", \"Squash\"],\n",
    "        \"answer\": \"Hockey\"\n",
    "    },\n",
    "    3:{\n",
    "        \"question\": \"What is the national animal of Pakistan?\",\n",
    "        \"options\": [\"Markhor\", \"Lion\", \"Horse\", \"Tiger\"],\n",
    "        \"answer\": \"Markhor\"\n",
    "    },\n",
    "    4:{\n",
    "        \"question\": \"What is the national flower of Pakistan?\",\n",
    "        \"options\": [\"Rose\", \"Jasmine\", \"Sunflower\", \"Lily\"],\n",
    "        \"answer\": \"Jasmine\"\n",
    "    },\n",
    "    5:{\n",
    "        \"question\": \"What is the national language of Pakistan?\",\n",
    "        \"options\": [\"English\", \"Punjabi\", \"Urdu\", \"Sindhi\"],\n",
    "        \"answer\": \"Urdu\"\n",
    "    }\n",
    "}"
   ]
  },
  {
   "cell_type": "code",
   "execution_count": 2,
   "id": "c6b24e91-0824-4f46-8146-91d13ccb4ef4",
   "metadata": {},
   "outputs": [
    {
     "name": "stdout",
     "output_type": "stream",
     "text": [
      "Question:  What is the capital city of Pakistan?\n",
      "Karachi\n",
      "Lahore\n",
      "Peshawar\n",
      "Islamabad\n"
     ]
    },
    {
     "name": "stdin",
     "output_type": "stream",
     "text": [
      "Answer:  Islamabad\n"
     ]
    },
    {
     "name": "stdout",
     "output_type": "stream",
     "text": [
      "Question:  What is the national sport of Pakistan?\n",
      "Hockey\n",
      "Cricket\n",
      "Football\n",
      "Squash\n"
     ]
    },
    {
     "name": "stdin",
     "output_type": "stream",
     "text": [
      "Answer:  Hockey\n"
     ]
    },
    {
     "name": "stdout",
     "output_type": "stream",
     "text": [
      "Question:  What is the national animal of Pakistan?\n",
      "Markhor\n",
      "Lion\n",
      "Horse\n",
      "Tiger\n"
     ]
    },
    {
     "name": "stdin",
     "output_type": "stream",
     "text": [
      "Answer:  Markhor\n"
     ]
    },
    {
     "name": "stdout",
     "output_type": "stream",
     "text": [
      "Question:  What is the national flower of Pakistan?\n",
      "Rose\n",
      "Jasmine\n",
      "Sunflower\n",
      "Lily\n"
     ]
    },
    {
     "name": "stdin",
     "output_type": "stream",
     "text": [
      "Answer:  jasmine\n"
     ]
    },
    {
     "name": "stdout",
     "output_type": "stream",
     "text": [
      "Question:  What is the national language of Pakistan?\n",
      "English\n",
      "Punjabi\n",
      "Urdu\n",
      "Sindhi\n"
     ]
    },
    {
     "name": "stdin",
     "output_type": "stream",
     "text": [
      "Answer:  urdu\n"
     ]
    },
    {
     "name": "stdout",
     "output_type": "stream",
     "text": [
      "You got 5 out of 5 correct!\n",
      "Excellent!\n"
     ]
    }
   ],
   "source": [
    "count = 0\n",
    "\n",
    "for i in quizQuestions:\n",
    "    question = quizQuestions[i]\n",
    "    print(\"Question: \", question['question'])\n",
    "    for o in question['options']:\n",
    "        print(o)\n",
    "    answer = input(\"Answer: \")\n",
    "    if(answer.lower() == question['answer'].lower()):\n",
    "        count += 1\n",
    "print(f\"You got {count} out of 5 correct!\")\n",
    "\n",
    "if(count==5):\n",
    "    print('Excellent!')\n",
    "elif(count==4):\n",
    "    print('Good job!')\n",
    "else:\n",
    "    print('Try again')"
   ]
  },
  {
   "cell_type": "code",
   "execution_count": null,
   "id": "55081478-d989-4c74-8f9e-cab9718d2387",
   "metadata": {},
   "outputs": [],
   "source": []
  },
  {
   "cell_type": "code",
   "execution_count": null,
   "id": "b88ca655-5b8a-45f0-9966-539d1ba90892",
   "metadata": {},
   "outputs": [],
   "source": []
  }
 ],
 "metadata": {
  "kernelspec": {
   "display_name": "Python [conda env:base] *",
   "language": "python",
   "name": "conda-base-py"
  },
  "language_info": {
   "codemirror_mode": {
    "name": "ipython",
    "version": 3
   },
   "file_extension": ".py",
   "mimetype": "text/x-python",
   "name": "python",
   "nbconvert_exporter": "python",
   "pygments_lexer": "ipython3",
   "version": "3.12.7"
  }
 },
 "nbformat": 4,
 "nbformat_minor": 5
}
